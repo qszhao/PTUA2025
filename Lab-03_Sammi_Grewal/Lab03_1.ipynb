{
 "cells": [
  {
   "cell_type": "markdown",
   "id": "5b53a596-83f0-44f2-98d8-11f729a431e5",
   "metadata": {},
   "source": [
    "# Lab 03 - 1: Operators and Strings:"
   ]
  },
  {
   "cell_type": "markdown",
   "id": "19573186-8d85-4edb-a8f4-0b291cbf219d",
   "metadata": {},
   "source": [
    "### Exercise 1:"
   ]
  },
  {
   "cell_type": "code",
   "execution_count": 3,
   "id": "b55b89c0-8b31-4d2c-a5c4-89822618dab1",
   "metadata": {},
   "outputs": [
    {
     "name": "stdout",
     "output_type": "stream",
     "text": [
      "42\n"
     ]
    }
   ],
   "source": [
    "n1 = 42\n",
    "print(n1)"
   ]
  },
  {
   "cell_type": "code",
   "execution_count": 7,
   "id": "eea3fdae-01fa-47f5-a5a6-57072a9ed9b5",
   "metadata": {},
   "outputs": [
    {
     "ename": "NameError",
     "evalue": "name 'n2' is not defined",
     "output_type": "error",
     "traceback": [
      "\u001b[1;31m---------------------------------------------------------------------------\u001b[0m",
      "\u001b[1;31mNameError\u001b[0m                                 Traceback (most recent call last)",
      "Cell \u001b[1;32mIn[7], line 1\u001b[0m\n\u001b[1;32m----> 1\u001b[0m \u001b[38;5;241m42\u001b[39m \u001b[38;5;241m==\u001b[39m n2\n\u001b[0;32m      2\u001b[0m \u001b[38;5;28mprint\u001b[39m(n2)\n",
      "\u001b[1;31mNameError\u001b[0m: name 'n2' is not defined"
     ]
    }
   ],
   "source": [
    "42 = n2\n",
    "print(n2)\n",
    "# Putting the equality in the opposite direction means Python is unable to recognise the operation and does not compute that n2 = 42"
   ]
  },
  {
   "cell_type": "code",
   "execution_count": 11,
   "id": "38e63069-9205-4e46-9f6b-fbc46a78590d",
   "metadata": {},
   "outputs": [
    {
     "name": "stdout",
     "output_type": "stream",
     "text": [
      "x =  1\n",
      "y =  1\n",
      "2x =  2\n"
     ]
    }
   ],
   "source": [
    "x = y = 1\n",
    "print(\"x = \",x)\n",
    "print(\"y = \", y)\n",
    "print(\"2x = \", 2*x)\n",
    "# Here, Python recognises that x and y are separate variables, we can use both x and y normally as independent variables."
   ]
  },
  {
   "cell_type": "code",
   "execution_count": 17,
   "id": "1ef1d725-08c0-44f1-bed4-284637c4a22d",
   "metadata": {},
   "outputs": [
    {
     "name": "stdout",
     "output_type": "stream",
     "text": [
      "42\n",
      "4\n",
      "4\n",
      "168\n"
     ]
    }
   ],
   "source": [
    "n3 = 42; a = b = 4\n",
    "print(n3)\n",
    "print(a)\n",
    "print(b)\n",
    "print(n3*a)\n",
    "# The \";\" separator just executes each operation as if the next operation is on the next line. In other words, not much changes, we can act on each\n",
    "# variable independently."
   ]
  },
  {
   "cell_type": "code",
   "execution_count": 19,
   "id": "ee60551b-7e2c-4f3f-a642-27e4a3ef63a2",
   "metadata": {},
   "outputs": [
    {
     "ename": "NameError",
     "evalue": "name 'xy' is not defined",
     "output_type": "error",
     "traceback": [
      "\u001b[1;31m---------------------------------------------------------------------------\u001b[0m",
      "\u001b[1;31mNameError\u001b[0m                                 Traceback (most recent call last)",
      "Cell \u001b[1;32mIn[19], line 1\u001b[0m\n\u001b[1;32m----> 1\u001b[0m \u001b[38;5;28mprint\u001b[39m(xy)\n",
      "\u001b[1;31mNameError\u001b[0m: name 'xy' is not defined"
     ]
    }
   ],
   "source": [
    "print(xy)\n",
    "# We can not perform an operation like this. Python thinks xy is a separate variable, not x multiplied by y."
   ]
  },
  {
   "cell_type": "markdown",
   "id": "8425c8a8-3a1d-4c72-a41b-b42581828e7a",
   "metadata": {},
   "source": [
    "### Exercise 2:"
   ]
  },
  {
   "cell_type": "code",
   "execution_count": 35,
   "id": "4d3c55ce-7cfe-4d7e-afef-a5f49b953f25",
   "metadata": {},
   "outputs": [
    {
     "name": "stdout",
     "output_type": "stream",
     "text": [
      "Volume of the sphere of radius =  5.0  is 523.5987755982989\n"
     ]
    }
   ],
   "source": [
    "import numpy as np\n",
    "pi = np.pi\n",
    "r = 5.0\n",
    "\n",
    "volume = (4/3)*pi*r**3\n",
    "print(\"Volume of the sphere of radius = \", r, \" is\", volume)\n"
   ]
  },
  {
   "cell_type": "code",
   "execution_count": null,
   "id": "dbc23a42-553d-4b22-b24a-b2512c2d67be",
   "metadata": {},
   "outputs": [],
   "source": [
    "If I leave my house at 6:52 am and run 1 mile at an easy pace (8:15 per mile), then 3 miles at tempo (7:12 per mile) \n",
    "and 1 mile at easy pace again, what time do I get home for breakfast?"
   ]
  },
  {
   "cell_type": "code",
   "execution_count": 41,
   "id": "e8461ab3-da3e-433d-824a-424b2b726cdf",
   "metadata": {},
   "outputs": [
    {
     "name": "stdout",
     "output_type": "stream",
     "text": [
      "Total cost of  60 books is $ 1116.2857142857144\n"
     ]
    }
   ],
   "source": [
    "price = 24.95\n",
    "discount = 0.40\n",
    "shipping = 3\n",
    "shipping_add = 0.75\n",
    "N = 60\n",
    "\n",
    "Total = (N*(price)/(discount+1))+(shipping +(shipping_add*N-1))\n",
    "print(\"Total cost of \", N, \"books is $\",Total)"
   ]
  },
  {
   "cell_type": "code",
   "execution_count": 87,
   "id": "31c40615-c36e-4b4b-87b9-fd368f56acb9",
   "metadata": {},
   "outputs": [
    {
     "name": "stdout",
     "output_type": "stream",
     "text": [
      "Run Time is 38.0 minutes\n",
      "Arrival time is 7.5\n"
     ]
    }
   ],
   "source": [
    "#Running pace variables.\n",
    "slow = 8.15\n",
    "fast = 7.12\n",
    "#Distance covered.\n",
    "d1 = 1\n",
    "d2 = 3\n",
    "# Initial Time.\n",
    "hour_1 = 6\n",
    "min_1 = 52\n",
    "\n",
    "# Time spent running in minutes.\n",
    "run_time = round(2*(d1*slow) + (3*fast),0)\n",
    "print(\"Run Time is\",run_time,\"minutes\")\n",
    "\n",
    "# Add running minutes to the initial minute and then convert to clock form.\n",
    "min_2 = (52+run_time)/60\n",
    "\n",
    "# Arrival time is 7.5, which is 7:30.\n",
    "arrival_time = 6 + (min_2)\n",
    "print(\"Arrival time is\", arrival_time)\n",
    "\n",
    "\n",
    "\n",
    "\n"
   ]
  },
  {
   "cell_type": "markdown",
   "id": "1c5327a7-7211-4120-9a10-b058cce587d9",
   "metadata": {},
   "source": [
    "# Lab 03 - 2: Conditional Execution:"
   ]
  },
  {
   "cell_type": "code",
   "execution_count": 115,
   "id": "4395eaad-6f54-42d2-a8d6-7554b7f180f0",
   "metadata": {},
   "outputs": [],
   "source": [
    "import random"
   ]
  },
  {
   "cell_type": "code",
   "execution_count": 119,
   "id": "18708f7f-8b0a-4455-91ec-98e0bfc9a0c5",
   "metadata": {},
   "outputs": [
    {
     "name": "stdin",
     "output_type": "stream",
     "text": [
      "Enter Convergence Criterion for which the estimation will stop: 0.001\n"
     ]
    }
   ],
   "source": [
    "converg_crit = input(\"Enter Convergence Criterion for which the estimation will stop:\")"
   ]
  },
  {
   "cell_type": "code",
   "execution_count": 121,
   "id": "4ac04e5a-21da-487a-923e-770d31f5d773",
   "metadata": {},
   "outputs": [
    {
     "name": "stdin",
     "output_type": "stream",
     "text": [
      "Enter the maximum number of draws: 4000\n"
     ]
    }
   ],
   "source": [
    "max_draws = input(\"Enter the maximum number of draws:\")"
   ]
  },
  {
   "cell_type": "code",
   "execution_count": 123,
   "id": "ea7d202d-a08e-4a6e-b3fe-f6d8b38a61bb",
   "metadata": {},
   "outputs": [
    {
     "data": {
      "text/plain": [
       "float"
      ]
     },
     "execution_count": 123,
     "metadata": {},
     "output_type": "execute_result"
    }
   ],
   "source": [
    "converg_crit = float(converg_crit)\n",
    "max_draws = float(max_draws)\n",
    "\n",
    "type(converg_crit)\n",
    "type(max_draws)"
   ]
  },
  {
   "cell_type": "code",
   "execution_count": null,
   "id": "fba29518-106e-46ed-b79a-35805c5be280",
   "metadata": {},
   "outputs": [],
   "source": [
    "n = 0\n",
    "d = 0\n",
    "ratios = []\n",
    "xs = []\n",
    "ys = []\n",
    "while d < max_draws:\n",
    "    x = random.random()\n",
    "    y = random.random()\n",
    "    xs.append(x)\n",
    "    ys.append(y)\n",
    "    if x**2 + y**2 <= 1.0:\n",
    "        n += 1\n",
    "    d += 1\n",
    "    ratio = 4 * n * 1./d\n",
    "    \n",
    "    print(ratio)\n",
    "    ratios.append(ratio)\n",
    "    if abs(ratio-pi) / pi <= converg_crit:\n",
    "        break\n",
    "print(d)"
   ]
  },
  {
   "cell_type": "code",
   "execution_count": null,
   "id": "a55fa34d-35ce-4e4c-b605-639827e982bf",
   "metadata": {},
   "outputs": [],
   "source": []
  }
 ],
 "metadata": {
  "kernelspec": {
   "display_name": "Python [conda env:base] *",
   "language": "python",
   "name": "conda-base-py"
  },
  "language_info": {
   "codemirror_mode": {
    "name": "ipython",
    "version": 3
   },
   "file_extension": ".py",
   "mimetype": "text/x-python",
   "name": "python",
   "nbconvert_exporter": "python",
   "pygments_lexer": "ipython3",
   "version": "3.12.7"
  }
 },
 "nbformat": 4,
 "nbformat_minor": 5
}
