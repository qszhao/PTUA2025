{
 "cells": [
  {
   "cell_type": "code",
   "execution_count": null,
   "id": "f5b716b6-1c4c-410d-a648-9dc9c909c8a3",
   "metadata": {},
   "outputs": [],
   "source": []
  }
 ],
 "metadata": {
  "kernelspec": {
   "display_name": "",
   "name": ""
  },
  "language_info": {
   "name": ""
  }
 },
 "nbformat": 4,
 "nbformat_minor": 5
}
