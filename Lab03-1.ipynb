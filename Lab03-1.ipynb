{
 "cells": [
  {
   "cell_type": "code",
   "execution_count": 10,
   "id": "5eafa6a9-089d-464b-8174-6cad61d1cd67",
   "metadata": {},
   "outputs": [
    {
     "ename": "SyntaxError",
     "evalue": "cannot assign to literal here. Maybe you meant '==' instead of '='? (105401328.py, line 4)",
     "output_type": "error",
     "traceback": [
      "\u001b[1;36m  Cell \u001b[1;32mIn[10], line 4\u001b[1;36m\u001b[0m\n\u001b[1;33m    42 = n\u001b[0m\n\u001b[1;37m    ^\u001b[0m\n\u001b[1;31mSyntaxError\u001b[0m\u001b[1;31m:\u001b[0m cannot assign to literal here. Maybe you meant '==' instead of '='?\n"
     ]
    }
   ],
   "source": [
    "n = 42  \n",
    "print(n)  \n",
    "\n",
    "42 = n  \n",
    "print(\"Error:\", e) "
   ]
  },
  {
   "cell_type": "code",
   "execution_count": 12,
   "id": "956a5198-1852-42f0-a680-e7ff1e23af06",
   "metadata": {},
   "outputs": [
    {
     "name": "stdout",
     "output_type": "stream",
     "text": [
      "x: 10\n",
      "y: 10\n"
     ]
    }
   ],
   "source": [
    "i = 10\n",
    "x = y = i \n",
    "print(\"x:\", x)  \n",
    "print(\"y:\", y)  "
   ]
  },
  {
   "cell_type": "code",
   "execution_count": 14,
   "id": "0ee14751-7d98-40b5-8d11-347a03fac222",
   "metadata": {},
   "outputs": [
    {
     "name": "stdout",
     "output_type": "stream",
     "text": [
      "5\n"
     ]
    }
   ],
   "source": [
    "x = 5;  \n",
    "print(x)"
   ]
  },
  {
   "cell_type": "code",
   "execution_count": 18,
   "id": "966fcb9b-4e0d-42cb-a6d8-588584ad3c8d",
   "metadata": {},
   "outputs": [
    {
     "name": "stdout",
     "output_type": "stream",
     "text": [
      "5.0\n"
     ]
    }
   ],
   "source": [
    "x = 5. \n",
    "print(x)"
   ]
  },
  {
   "cell_type": "code",
   "execution_count": 20,
   "id": "7cb70c69-efc8-4e72-b3d6-cfb97ec2822f",
   "metadata": {},
   "outputs": [
    {
     "ename": "SyntaxError",
     "evalue": "invalid syntax (3760439899.py, line 1)",
     "output_type": "error",
     "traceback": [
      "\u001b[1;36m  Cell \u001b[1;32mIn[20], line 1\u001b[1;36m\u001b[0m\n\u001b[1;33m    x = 5..\u001b[0m\n\u001b[1;37m           ^\u001b[0m\n\u001b[1;31mSyntaxError\u001b[0m\u001b[1;31m:\u001b[0m invalid syntax\n"
     ]
    }
   ],
   "source": [
    "x = 5..\n",
    "print(x)"
   ]
  },
  {
   "cell_type": "code",
   "execution_count": 22,
   "id": "1f8db0f8-a6d3-43c4-b9cd-161e73828745",
   "metadata": {},
   "outputs": [
    {
     "ename": "SyntaxError",
     "evalue": "invalid syntax (1264047184.py, line 3)",
     "output_type": "error",
     "traceback": [
      "\u001b[1;36m  Cell \u001b[1;32mIn[22], line 3\u001b[1;36m\u001b[0m\n\u001b[1;33m    result = x y\u001b[0m\n\u001b[1;37m               ^\u001b[0m\n\u001b[1;31mSyntaxError\u001b[0m\u001b[1;31m:\u001b[0m invalid syntax\n"
     ]
    }
   ],
   "source": [
    "x = 5\n",
    "y = 10\n",
    "result = x y  "
   ]
  },
  {
   "cell_type": "code",
   "execution_count": 28,
   "id": "b3cf368d-b5e1-4852-a4ba-898adc3fc5be",
   "metadata": {},
   "outputs": [
    {
     "name": "stdout",
     "output_type": "stream",
     "text": [
      "50\n"
     ]
    }
   ],
   "source": [
    "x = 5\n",
    "y = 10\n",
    "result = x * y\n",
    "print(result)"
   ]
  },
  {
   "cell_type": "code",
   "execution_count": 30,
   "id": "61e8939c-f8c2-41bf-8e6f-9e1822357df0",
   "metadata": {},
   "outputs": [
    {
     "name": "stdout",
     "output_type": "stream",
     "text": [
      "523.5987755982989\n"
     ]
    }
   ],
   "source": [
    "import math\n",
    "radius = 5\n",
    "volume = (4 / 3) * math.pi * radius**3\n",
    "print(volume)"
   ]
  },
  {
   "cell_type": "code",
   "execution_count": 32,
   "id": "318d9fa2-07e9-46b9-aa06-6e183ce24c4f",
   "metadata": {},
   "outputs": [
    {
     "name": "stdout",
     "output_type": "stream",
     "text": [
      "945.4499999999999\n"
     ]
    }
   ],
   "source": [
    "cover_price = 24.95\n",
    "discount = 0.4\n",
    "shipping_first = 3\n",
    "shipping_additional = 0.75\n",
    "copies = 60\n",
    "\n",
    "wholesale_cost = (cover_price * (1 - discount) * copies) + shipping_first + (shipping_additional * (copies - 1))\n",
    "print(wholesale_cost)\n"
   ]
  },
  {
   "cell_type": "code",
   "execution_count": 38,
   "id": "c4929da3-efa5-422d-950f-bf56f86e7ba0",
   "metadata": {},
   "outputs": [
    {
     "name": "stdout",
     "output_type": "stream",
     "text": [
      "Breakfast time: 6:38 AM\n"
     ]
    }
   ],
   "source": [
    "def time_in_seconds(minutes, seconds):\n",
    "    return minutes * 60 + seconds\n",
    "\n",
    "easy_pace = time_in_seconds(8, 15)  \n",
    "tempo_pace = time_in_seconds(7, 12)  \n",
    "\n",
    "total_time = easy_pace * 2 + tempo_pace * 3  \n",
    "\n",
    "start_time = time_in_seconds(6 * 60, 52) \n",
    "\n",
    "breakfast_time = start_time + total_time\n",
    "\n",
    "hours = (breakfast_time // 3600) % 24 \n",
    "minutes = (breakfast_time % 3600) // 60\n",
    "print(f\"Breakfast time: {hours}:{minutes:02d} AM\")"
   ]
  },
  {
   "cell_type": "code",
   "execution_count": null,
   "id": "560b81ad-7d0d-459f-b85b-28702a416208",
   "metadata": {},
   "outputs": [],
   "source": []
  }
 ],
 "metadata": {
  "kernelspec": {
   "display_name": "Python [conda env:base] *",
   "language": "python",
   "name": "conda-base-py"
  },
  "language_info": {
   "codemirror_mode": {
    "name": "ipython",
    "version": 3
   },
   "file_extension": ".py",
   "mimetype": "text/x-python",
   "name": "python",
   "nbconvert_exporter": "python",
   "pygments_lexer": "ipython3",
   "version": "3.12.7"
  }
 },
 "nbformat": 4,
 "nbformat_minor": 5
}
