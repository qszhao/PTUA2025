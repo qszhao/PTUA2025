{
 "cells": [
  {
   "cell_type": "code",
   "execution_count": 6,
   "id": "52b97de8",
   "metadata": {
    "scrolled": false
   },
   "outputs": [
    {
     "name": "stdout",
     "output_type": "stream",
     "text": [
      "第 1 次计算，π 估算值：0.0, 误差：1.000000\n",
      "第 2 次计算，π 估算值：2.0, 误差：0.363380\n",
      "第 3 次计算，π 估算值：2.6666666666666665, 误差：0.151174\n",
      "第 4 次计算，π 估算值：3.0, 误差：0.045070\n",
      "第 5 次计算，π 估算值：3.2, 误差：0.018592\n",
      "第 6 次计算，π 估算值：3.3333333333333335, 误差：0.061033\n",
      "第 7 次计算，π 估算值：3.4285714285714284, 误差：0.091348\n",
      "第 8 次计算，π 估算值：3.0, 误差：0.045070\n",
      "第 9 次计算，π 估算值：3.111111111111111, 误差：0.009703\n",
      "第 10 次计算，π 估算值：2.8, 误差：0.108732\n",
      "第 11 次计算，π 估算值：2.909090909090909, 误差：0.074008\n",
      "第 12 次计算，π 估算值：3.0, 误差：0.045070\n",
      "第 13 次计算，π 估算值：3.076923076923077, 误差：0.020585\n",
      "第 14 次计算，π 估算值：3.142857142857143, 误差：0.000402\n",
      "收敛成功！估算的 π = 3.142857142857143, 需要的抽样次数 = 14\n"
     ]
    }
   ],
   "source": [
    "import random\n",
    "import math\n",
    "convergence_criterion = 0.001\n",
    "max_draws = 50\n",
    "\n",
    "inside_circle = 0\n",
    "total_draws = 0\n",
    "\n",
    "while total_draws < max_draws:\n",
    "    x, y = random.uniform(-1, 1), random.uniform(-1, 1)\n",
    "    if x*x + y*y <= 1:\n",
    "        inside_circle += 1\n",
    "    total_draws += 1\n",
    "    pi_estimate = (inside_circle / total_draws) * 4\n",
    "    error = abs(pi_estimate - math.pi) / math.pi\n",
    "    print(f\"第 {total_draws} 次计算，π 估算值：{pi_estimate}, 误差：{error:.6f}\")\n",
    "\n",
    "    if error < convergence_criterion:\n",
    "        print(f\"收敛成功！估算的 π = {pi_estimate}, 需要的抽样次数 = {total_draws}\")\n",
    "        break\n",
    "else:\n",
    "    print(f\"超出最大抽样次数 {max_draws}，但仍未收敛。当前 π 估算值 = {pi_estimate}, 误差 = {error:.6f}\")"
   ]
  },
  {
   "cell_type": "code",
   "execution_count": 9,
   "id": "1bc5b35e",
   "metadata": {
    "scrolled": true
   },
   "outputs": [
    {
     "name": "stdout",
     "output_type": "stream",
     "text": [
      "收敛标准: 0.01\n",
      "  - 平均抽样次数: 29.70\n",
      "  - 抽样次数的标准差: 36.48\n",
      "----------------------------------------\n",
      "收敛标准: 0.001\n",
      "  - 平均抽样次数: 2660.80\n",
      "  - 抽样次数的标准差: 6381.10\n",
      "----------------------------------------\n",
      "收敛标准: 0.0001\n",
      "  - 平均抽样次数: 106469.60\n",
      "  - 抽样次数的标准差: 317826.25\n",
      "----------------------------------------\n",
      "收敛标准: 1e-05\n",
      "  - 平均抽样次数: 53370.50\n",
      "  - 抽样次数的标准差: 126500.85\n",
      "----------------------------------------\n"
     ]
    }
   ],
   "source": [
    "import random\n",
    "import math\n",
    "import numpy as np\n",
    "\n",
    "def monte_carlo_pi(convergence_criterion):\n",
    "    \"\"\"运行 Monte Carlo 估算 π 直到达到收敛标准\"\"\"\n",
    "    inside_circle = 0\n",
    "    total_draws = 0\n",
    "    \n",
    "    while True:\n",
    "        x, y = random.uniform(-1, 1), random.uniform(-1, 1)\n",
    "        if x*x + y*y <= 1:\n",
    "            inside_circle += 1\n",
    "        \n",
    "        total_draws += 1\n",
    "        pi_estimate = (inside_circle / total_draws) * 4\n",
    "        error = abs(pi_estimate - math.pi) / math.pi\n",
    "\n",
    "        if error < convergence_criterion:\n",
    "            return total_draws  # 返回达到收敛所需的抽样次数\n",
    "\n",
    "# 设定不同的收敛标准\n",
    "convergence_criteria = [0.01, 0.001, 0.0001, 0.00001]\n",
    "\n",
    "for criterion in convergence_criteria:\n",
    "    draws_needed = [monte_carlo_pi(criterion) for _ in range(10)]  # 运行 10 次\n",
    "    avg_draws = np.mean(draws_needed)  # 平均抽样次数\n",
    "    std_dev_draws = np.std(draws_needed)  # 计算标准差\n",
    "\n",
    "    print(f\"收敛标准: {criterion}\")\n",
    "    print(f\"  - 平均抽样次数: {avg_draws:.2f}\")\n",
    "    print(f\"  - 抽样次数的标准差: {std_dev_draws:.2f}\")\n",
    "    print(\"-\" * 40)"
   ]
  },
  {
   "cell_type": "code",
   "execution_count": 11,
   "id": "2eb61968",
   "metadata": {},
   "outputs": [
    {
     "name": "stdout",
     "output_type": "stream",
     "text": [
      "收敛标准: 0.01\n",
      "  - 平均抽样次数: 27.10\n",
      "  - 抽样次数的标准差: 18.95\n",
      "----------------------------------------\n",
      "收敛标准: 0.001\n",
      "  - 平均抽样次数: 339.20\n",
      "  - 抽样次数的标准差: 585.41\n",
      "----------------------------------------\n",
      "收敛标准: 0.0001\n",
      "  - 平均抽样次数: 1502.90\n",
      "  - 抽样次数的标准差: 1946.86\n",
      "----------------------------------------\n",
      "收敛标准: 1e-05\n",
      "  - 平均抽样次数: 3255.80\n",
      "  - 抽样次数的标准差: 2246.63\n",
      "----------------------------------------\n"
     ]
    }
   ],
   "source": [
    "import random\n",
    "import math\n",
    "import numpy as np\n",
    "\n",
    "# 设定不同的收敛标准\n",
    "convergence_criteria = [0.01, 0.001, 0.0001, 0.00001]\n",
    "\n",
    "def monte_carlo_pi(convergence_criterion):\n",
    "    \"\"\"运行 Monte Carlo 估算 π 直到达到收敛标准\"\"\"\n",
    "    inside_circle = 0\n",
    "    total_draws = 0\n",
    "    \n",
    "    while True:\n",
    "        x, y = random.uniform(-1, 1), random.uniform(-1, 1)\n",
    "        if x*x + y*y <= 1:\n",
    "            inside_circle += 1\n",
    "        \n",
    "        total_draws += 1\n",
    "        pi_estimate = (inside_circle / total_draws) * 4\n",
    "        error = abs(pi_estimate - math.pi) / math.pi\n",
    "\n",
    "        if error < convergence_criterion:\n",
    "            return total_draws  # 返回达到收敛所需的抽样次数\n",
    "\n",
    "\n",
    "for criterion in convergence_criteria:\n",
    "    draws_needed = [monte_carlo_pi(criterion) for _ in range(10)]  # 运行 10 次\n",
    "    avg_draws = np.mean(draws_needed)  # 平均抽样次数\n",
    "    std_dev_draws = np.std(draws_needed)  # 计算标准差\n",
    "\n",
    "    print(f\"收敛标准: {criterion}\")\n",
    "    print(f\"  - 平均抽样次数: {avg_draws:.2f}\")\n",
    "    print(f\"  - 抽样次数的标准差: {std_dev_draws:.2f}\")\n",
    "    print(\"-\" * 40)"
   ]
  },
  {
   "cell_type": "code",
   "execution_count": null,
   "id": "ee153617",
   "metadata": {},
   "outputs": [],
   "source": []
  }
 ],
 "metadata": {
  "kernelspec": {
   "display_name": "Python 3 (ipykernel)",
   "language": "python",
   "name": "python3"
  },
  "language_info": {
   "codemirror_mode": {
    "name": "ipython",
    "version": 3
   },
   "file_extension": ".py",
   "mimetype": "text/x-python",
   "name": "python",
   "nbconvert_exporter": "python",
   "pygments_lexer": "ipython3",
   "version": "3.11.8"
  }
 },
 "nbformat": 4,
 "nbformat_minor": 5
}
