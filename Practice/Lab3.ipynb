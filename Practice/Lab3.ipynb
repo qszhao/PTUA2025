{
 "cells": [
  {
   "cell_type": "code",
   "execution_count": 1,
   "id": "03ae2136",
   "metadata": {},
   "outputs": [],
   "source": [
    "n=42"
   ]
  },
  {
   "cell_type": "code",
   "execution_count": 2,
   "id": "2228f0e1",
   "metadata": {},
   "outputs": [
    {
     "ename": "SyntaxError",
     "evalue": "cannot assign to literal here. Maybe you meant '==' instead of '='? (1956984606.py, line 1)",
     "output_type": "error",
     "traceback": [
      "\u001b[1;36m  File \u001b[1;32m\"C:\\Users\\文哲\\AppData\\Local\\Temp\\ipykernel_10808\\1956984606.py\"\u001b[1;36m, line \u001b[1;32m1\u001b[0m\n\u001b[1;33m    42=n\u001b[0m\n\u001b[1;37m    ^\u001b[0m\n\u001b[1;31mSyntaxError\u001b[0m\u001b[1;31m:\u001b[0m cannot assign to literal here. Maybe you meant '==' instead of '='?\n"
     ]
    }
   ],
   "source": [
    "42=n"
   ]
  },
  {
   "cell_type": "code",
   "execution_count": 3,
   "id": "27d96876",
   "metadata": {},
   "outputs": [],
   "source": [
    "x=y=1"
   ]
  },
  {
   "cell_type": "code",
   "execution_count": 4,
   "id": "614cbff1",
   "metadata": {},
   "outputs": [],
   "source": [
    "x = 5;"
   ]
  },
  {
   "cell_type": "code",
   "execution_count": 5,
   "id": "8a7cafc4",
   "metadata": {},
   "outputs": [
    {
     "name": "stdout",
     "output_type": "stream",
     "text": [
      "1\n"
     ]
    }
   ],
   "source": [
    "print(y)"
   ]
  },
  {
   "cell_type": "code",
   "execution_count": 6,
   "id": "802f5066",
   "metadata": {},
   "outputs": [],
   "source": [
    "x=5."
   ]
  },
  {
   "cell_type": "code",
   "execution_count": 7,
   "id": "9651f401",
   "metadata": {},
   "outputs": [
    {
     "name": "stdout",
     "output_type": "stream",
     "text": [
      "5.0\n"
     ]
    }
   ],
   "source": [
    "print(x)"
   ]
  },
  {
   "cell_type": "code",
   "execution_count": 8,
   "id": "0e5fcca9",
   "metadata": {},
   "outputs": [
    {
     "ename": "NameError",
     "evalue": "name 'xy' is not defined",
     "output_type": "error",
     "traceback": [
      "\u001b[1;31m---------------------------------------------------------------------------\u001b[0m",
      "\u001b[1;31mNameError\u001b[0m                                 Traceback (most recent call last)",
      "\u001b[1;32m~\\AppData\\Local\\Temp\\ipykernel_10808\\1490877492.py\u001b[0m in \u001b[0;36m<cell line: 0>\u001b[1;34m()\u001b[0m\n\u001b[1;32m----> 1\u001b[1;33m \u001b[0mprint\u001b[0m\u001b[1;33m(\u001b[0m\u001b[0mxy\u001b[0m\u001b[1;33m)\u001b[0m\u001b[1;33m\u001b[0m\u001b[1;33m\u001b[0m\u001b[0m\n\u001b[0m",
      "\u001b[1;31mNameError\u001b[0m: name 'xy' is not defined"
     ]
    }
   ],
   "source": [
    "print(xy)"
   ]
  },
  {
   "cell_type": "code",
   "execution_count": 9,
   "id": "8cc049c7",
   "metadata": {},
   "outputs": [
    {
     "name": "stdout",
     "output_type": "stream",
     "text": [
      "5.0\n"
     ]
    }
   ],
   "source": [
    "print(x*y)"
   ]
  },
  {
   "cell_type": "code",
   "execution_count": 10,
   "id": "68e5d17d",
   "metadata": {},
   "outputs": [
    {
     "ename": "SyntaxError",
     "evalue": "invalid syntax. Perhaps you forgot a comma? (4092214543.py, line 1)",
     "output_type": "error",
     "traceback": [
      "\u001b[1;36m  File \u001b[1;32m\"C:\\Users\\文哲\\AppData\\Local\\Temp\\ipykernel_10808\\4092214543.py\"\u001b[1;36m, line \u001b[1;32m1\u001b[0m\n\u001b[1;33m    print(x y)\u001b[0m\n\u001b[1;37m          ^\u001b[0m\n\u001b[1;31mSyntaxError\u001b[0m\u001b[1;31m:\u001b[0m invalid syntax. Perhaps you forgot a comma?\n"
     ]
    }
   ],
   "source": [
    "print(x y)"
   ]
  },
  {
   "cell_type": "code",
   "execution_count": 11,
   "id": "81ad633f",
   "metadata": {},
   "outputs": [],
   "source": [
    "import math"
   ]
  },
  {
   "cell_type": "code",
   "execution_count": 15,
   "id": "be8df161",
   "metadata": {},
   "outputs": [
    {
     "name": "stdout",
     "output_type": "stream",
     "text": [
      "12.566370614359172\n"
     ]
    }
   ],
   "source": [
    "print(4* math.pi*3/3)"
   ]
  },
  {
   "cell_type": "code",
   "execution_count": 16,
   "id": "fa6e63ce",
   "metadata": {},
   "outputs": [
    {
     "name": "stdout",
     "output_type": "stream",
     "text": [
      "945.4499999999999\n"
     ]
    }
   ],
   "source": [
    "print(0.6*24.95*60+3+0.75*59)"
   ]
  },
  {
   "cell_type": "code",
   "execution_count": 19,
   "id": "3ad2e3aa",
   "metadata": {},
   "outputs": [
    {
     "name": "stdout",
     "output_type": "stream",
     "text": [
      "Easy pace: 495\n",
      "Tempo: 432\n"
     ]
    }
   ],
   "source": [
    "#convert the unit of easy pace to seconds\n",
    "Easy_pace=8*60+15\n",
    "print(\"Easy pace:\",Easy_pace)\n",
    "#convert the unit of tempo to seconds\n",
    "Tempo=7*60+12\n",
    "print(\"Tempo:\",Tempo)"
   ]
  },
  {
   "cell_type": "code",
   "execution_count": 24,
   "id": "2459b3f8",
   "metadata": {},
   "outputs": [
    {
     "name": "stdout",
     "output_type": "stream",
     "text": [
      "Running time: 2286\n"
     ]
    }
   ],
   "source": [
    "Running_time= 2*Easy_pace+3*Tempo\n",
    "print(\"Running time:\",Running_time)"
   ]
  },
  {
   "cell_type": "code",
   "execution_count": 25,
   "id": "b2cb24b2",
   "metadata": {},
   "outputs": [
    {
     "name": "stdout",
     "output_type": "stream",
     "text": [
      "38.1\n"
     ]
    }
   ],
   "source": [
    "Running_time_minutes=Running_time/60\n",
    "print(Running_time_minutes)"
   ]
  },
  {
   "cell_type": "code",
   "execution_count": 26,
   "id": "1f052cfd",
   "metadata": {},
   "outputs": [
    {
     "name": "stdout",
     "output_type": "stream",
     "text": [
      "arrive time: 7:30 a.m.\n"
     ]
    }
   ],
   "source": [
    "print(\"arrive time: 7:30 a.m.\")"
   ]
  },
  {
   "cell_type": "code",
   "execution_count": 27,
   "id": "8f2c12de",
   "metadata": {},
   "outputs": [
    {
     "name": "stdout",
     "output_type": "stream",
     "text": [
      "Hello, World!\n"
     ]
    }
   ],
   "source": [
    "text = \"  Hello, World!  \"\n",
    "clean_text = text.strip()\n",
    "print(clean_text)"
   ]
  },
  {
   "cell_type": "code",
   "execution_count": 28,
   "id": "d3e80285",
   "metadata": {},
   "outputs": [
    {
     "name": "stdout",
     "output_type": "stream",
     "text": [
      "Hello, World!  \n",
      "  Hello, World!\n"
     ]
    }
   ],
   "source": [
    "print(text.lstrip())\n",
    "print(text.rstrip())"
   ]
  },
  {
   "cell_type": "code",
   "execution_count": 29,
   "id": "4d86c222",
   "metadata": {},
   "outputs": [
    {
     "name": "stdout",
     "output_type": "stream",
     "text": [
      "I love bananas\n"
     ]
    }
   ],
   "source": [
    "text = \"I love apples\"\n",
    "new_text = text.replace(\"apples\", \"bananas\")\n",
    "print(new_text) "
   ]
  },
  {
   "cell_type": "code",
   "execution_count": 30,
   "id": "df4711e0",
   "metadata": {},
   "outputs": [
    {
     "name": "stdout",
     "output_type": "stream",
     "text": [
      "orange orange apple\n"
     ]
    }
   ],
   "source": [
    "text = \"apple apple apple\"\n",
    "print(text.replace(\"apple\", \"orange\", 2))"
   ]
  },
  {
   "cell_type": "code",
   "execution_count": 31,
   "id": "0c918603",
   "metadata": {},
   "outputs": [
    {
     "name": "stdout",
     "output_type": "stream",
     "text": [
      "7\n",
      "4\n",
      "-1\n"
     ]
    }
   ],
   "source": [
    "text = \"Hello, Python World!\"\n",
    "\n",
    "# 仅使用必填参数 sub\n",
    "print(text.find(\"Python\"))\n",
    "\n",
    "# 使用可选的 start 参数\n",
    "print(text.find(\"o\", 2)) \n",
    "\n",
    "# 使用可选的 start 和 end 参数\n",
    "print(text.find(\"o\", 5, 10)) "
   ]
  },
  {
   "cell_type": "code",
   "execution_count": 33,
   "id": "5d8733c1",
   "metadata": {},
   "outputs": [
    {
     "data": {
      "text/plain": [
       "3"
      ]
     },
     "execution_count": 33,
     "metadata": {},
     "output_type": "execute_result"
    }
   ],
   "source": [
    "text=\"banana\"\n",
    "text.count(\"a\")"
   ]
  },
  {
   "cell_type": "code",
   "execution_count": 34,
   "id": "0ffeceb1",
   "metadata": {},
   "outputs": [
    {
     "data": {
      "text/plain": [
       "'bnn'"
      ]
     },
     "execution_count": 34,
     "metadata": {},
     "output_type": "execute_result"
    }
   ],
   "source": [
    "text[0:5:2]"
   ]
  },
  {
   "cell_type": "code",
   "execution_count": 35,
   "id": "212642f5",
   "metadata": {},
   "outputs": [
    {
     "data": {
      "text/plain": [
       "'a'"
      ]
     },
     "execution_count": 35,
     "metadata": {},
     "output_type": "execute_result"
    }
   ],
   "source": [
    "text[5]"
   ]
  },
  {
   "cell_type": "code",
   "execution_count": 38,
   "id": "a052656f",
   "metadata": {},
   "outputs": [],
   "source": [
    "def is_palindrome(s):\n",
    "    return s == s[::-1]"
   ]
  },
  {
   "cell_type": "code",
   "execution_count": 39,
   "id": "c6e3952c",
   "metadata": {},
   "outputs": [
    {
     "name": "stdout",
     "output_type": "stream",
     "text": [
      "False\n"
     ]
    }
   ],
   "source": [
    "print(is_palindrome(\"banana\"))"
   ]
  },
  {
   "cell_type": "code",
   "execution_count": 45,
   "id": "ab3b023f",
   "metadata": {},
   "outputs": [],
   "source": [
    "def has_lowercase(s):\n",
    "    for c in s:  # 遍历字符串的每个字符\n",
    "        if c.islower():  \n",
    "            return True  # 只要找到小写字母，立即返回 True\n",
    "    return False"
   ]
  },
  {
   "cell_type": "code",
   "execution_count": 46,
   "id": "24645672",
   "metadata": {},
   "outputs": [
    {
     "name": "stdout",
     "output_type": "stream",
     "text": [
      "True\n"
     ]
    }
   ],
   "source": [
    "print(has_lowercase(\"hello\"))"
   ]
  },
  {
   "cell_type": "code",
   "execution_count": 47,
   "id": "153d96f5",
   "metadata": {},
   "outputs": [
    {
     "name": "stdout",
     "output_type": "stream",
     "text": [
      "True\n"
     ]
    }
   ],
   "source": [
    "print(has_lowercase(\"Hello\"))"
   ]
  },
  {
   "cell_type": "code",
   "execution_count": 54,
   "id": "df113245",
   "metadata": {},
   "outputs": [
    {
     "name": "stdout",
     "output_type": "stream",
     "text": [
      "False\n"
     ]
    }
   ],
   "source": [
    "print(has_lowercase(\"HELLO）\"))"
   ]
  },
  {
   "cell_type": "code",
   "execution_count": 49,
   "id": "3e29a278",
   "metadata": {},
   "outputs": [],
   "source": [
    "def any_lowercase1(s):\n",
    "    for c in s:\n",
    "        if c.islower():\n",
    "            return True\n",
    "        else:\n",
    "            return False"
   ]
  },
  {
   "cell_type": "code",
   "execution_count": 52,
   "id": "1a2b945e",
   "metadata": {},
   "outputs": [
    {
     "name": "stdout",
     "output_type": "stream",
     "text": [
      "False\n"
     ]
    }
   ],
   "source": [
    "print(any_lowercase1(\"Hello\"))"
   ]
  },
  {
   "cell_type": "code",
   "execution_count": 55,
   "id": "6b33afaa",
   "metadata": {},
   "outputs": [],
   "source": [
    "def any_lowercase2(s):\n",
    "    for c in s:\n",
    "        if 'c'.islower():\n",
    "            return 'True'\n",
    "        else:\n",
    "            return 'False'"
   ]
  },
  {
   "cell_type": "code",
   "execution_count": 56,
   "id": "fcf43e2c",
   "metadata": {},
   "outputs": [
    {
     "data": {
      "text/plain": [
       "'True'"
      ]
     },
     "execution_count": 56,
     "metadata": {},
     "output_type": "execute_result"
    }
   ],
   "source": [
    "any_lowercase2(\"HELLO\")"
   ]
  },
  {
   "cell_type": "code",
   "execution_count": 57,
   "id": "18aef538",
   "metadata": {},
   "outputs": [],
   "source": [
    "def any_lowercase3(s):\n",
    "    for c in s:\n",
    "        flag = c.islower()\n",
    "    return flag"
   ]
  },
  {
   "cell_type": "code",
   "execution_count": 59,
   "id": "09552712",
   "metadata": {},
   "outputs": [
    {
     "data": {
      "text/plain": [
       "True"
      ]
     },
     "execution_count": 59,
     "metadata": {},
     "output_type": "execute_result"
    }
   ],
   "source": [
    "any_lowercase3(\"HELLo\")"
   ]
  },
  {
   "cell_type": "code",
   "execution_count": 60,
   "id": "d91c5705",
   "metadata": {},
   "outputs": [],
   "source": [
    "def any_lowercase4(s):\n",
    "    flag = False\n",
    "    for c in s:\n",
    "        flag = flag or c.islower()\n",
    "    return flag"
   ]
  },
  {
   "cell_type": "code",
   "execution_count": 61,
   "id": "05333e57",
   "metadata": {},
   "outputs": [
    {
     "data": {
      "text/plain": [
       "False"
      ]
     },
     "execution_count": 61,
     "metadata": {},
     "output_type": "execute_result"
    }
   ],
   "source": [
    "any_lowercase4(\"HELLO\")"
   ]
  },
  {
   "cell_type": "code",
   "execution_count": 63,
   "id": "0f85d537",
   "metadata": {},
   "outputs": [],
   "source": [
    "def any_lowercase5(s):\n",
    "    for c in s:\n",
    "        if not c.islower():\n",
    "            return False\n",
    "    return True"
   ]
  },
  {
   "cell_type": "code",
   "execution_count": 64,
   "id": "32504410",
   "metadata": {},
   "outputs": [
    {
     "data": {
      "text/plain": [
       "True"
      ]
     },
     "execution_count": 64,
     "metadata": {},
     "output_type": "execute_result"
    }
   ],
   "source": [
    "any_lowercase5(\"hello\")"
   ]
  },
  {
   "cell_type": "code",
   "execution_count": 65,
   "id": "f7f44fb4",
   "metadata": {},
   "outputs": [
    {
     "data": {
      "text/plain": [
       "False"
      ]
     },
     "execution_count": 65,
     "metadata": {},
     "output_type": "execute_result"
    }
   ],
   "source": [
    "any_lowercase5(\"HELLO\")"
   ]
  },
  {
   "cell_type": "code",
   "execution_count": 72,
   "id": "1253035a",
   "metadata": {},
   "outputs": [
    {
     "data": {
      "text/plain": [
       "97"
      ]
     },
     "execution_count": 72,
     "metadata": {},
     "output_type": "execute_result"
    }
   ],
   "source": [
    "ord(\"a\")"
   ]
  },
  {
   "cell_type": "code",
   "execution_count": 70,
   "id": "f54570a4",
   "metadata": {},
   "outputs": [
    {
     "name": "stdout",
     "output_type": "stream",
     "text": [
      "65\n"
     ]
    }
   ],
   "source": [
    "print(ord(\"A\"))"
   ]
  },
  {
   "cell_type": "code",
   "execution_count": 71,
   "id": "1c37a639",
   "metadata": {},
   "outputs": [
    {
     "data": {
      "text/plain": [
       "'a'"
      ]
     },
     "execution_count": 71,
     "metadata": {},
     "output_type": "execute_result"
    }
   ],
   "source": [
    "chr(97)"
   ]
  },
  {
   "cell_type": "code",
   "execution_count": null,
   "id": "bab8be39",
   "metadata": {},
   "outputs": [],
   "source": []
  }
 ],
 "metadata": {
  "kernelspec": {
   "display_name": "Python 3 (ipykernel)",
   "language": "python",
   "name": "python3"
  },
  "language_info": {
   "codemirror_mode": {
    "name": "ipython",
    "version": 3
   },
   "file_extension": ".py",
   "mimetype": "text/x-python",
   "name": "python",
   "nbconvert_exporter": "python",
   "pygments_lexer": "ipython3",
   "version": "3.11.8"
  }
 },
 "nbformat": 4,
 "nbformat_minor": 5
}
