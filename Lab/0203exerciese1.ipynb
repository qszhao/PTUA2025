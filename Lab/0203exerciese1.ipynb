{
 "cells": [
  {
   "cell_type": "code",
   "execution_count": 3,
   "id": "8d9ad24d-a009-4cf8-94ea-6741c01acc59",
   "metadata": {},
   "outputs": [
    {
     "name": "stdout",
     "output_type": "stream",
     "text": [
      "42\n"
     ]
    }
   ],
   "source": [
    "n = 42\n",
    "print(n)"
   ]
  },
  {
   "cell_type": "code",
   "execution_count": 15,
   "id": "260de6a0-f763-476e-94f8-7e0b9998ec0a",
   "metadata": {},
   "outputs": [
    {
     "ename": "SyntaxError",
     "evalue": "cannot assign to literal here. Maybe you meant '==' instead of '='? (4071389658.py, line 1)",
     "output_type": "error",
     "traceback": [
      "\u001b[1;36m  Cell \u001b[1;32mIn[15], line 1\u001b[1;36m\u001b[0m\n\u001b[1;33m    42 = n\u001b[0m\n\u001b[1;37m    ^\u001b[0m\n\u001b[1;31mSyntaxError\u001b[0m\u001b[1;31m:\u001b[0m cannot assign to literal here. Maybe you meant '==' instead of '='?\n"
     ]
    }
   ],
   "source": [
    "42 = n\n",
    "print(n)"
   ]
  },
  {
   "cell_type": "code",
   "execution_count": 13,
   "id": "00b92bb8-fc87-4fa0-a8c1-f7432a9f0217",
   "metadata": {},
   "outputs": [
    {
     "name": "stdout",
     "output_type": "stream",
     "text": [
      "42\n"
     ]
    }
   ],
   "source": [
    "42 == n\n",
    "print(n)"
   ]
  },
  {
   "cell_type": "code",
   "execution_count": 19,
   "id": "a35ca4ce-464a-4dbf-9009-99b3c341875e",
   "metadata": {},
   "outputs": [
    {
     "name": "stdout",
     "output_type": "stream",
     "text": [
      "1 1\n"
     ]
    }
   ],
   "source": [
    "x = y = 1\n",
    "print(x, y)"
   ]
  },
  {
   "cell_type": "code",
   "execution_count": 27,
   "id": "591ad3bd-e58d-41c5-9984-e25f2449e436",
   "metadata": {},
   "outputs": [
    {
     "name": "stdout",
     "output_type": "stream",
     "text": [
      "1 1\n"
     ]
    }
   ],
   "source": [
    "x = y = 1;\n",
    "print(x, y);"
   ]
  },
  {
   "cell_type": "code",
   "execution_count": 29,
   "id": "70c1d7d3-79cc-44e5-b6c1-8e5889cbb48b",
   "metadata": {},
   "outputs": [
    {
     "ename": "SyntaxError",
     "evalue": "invalid syntax (2785441279.py, line 2)",
     "output_type": "error",
     "traceback": [
      "\u001b[1;36m  Cell \u001b[1;32mIn[29], line 2\u001b[1;36m\u001b[0m\n\u001b[1;33m    print(x, y).\u001b[0m\n\u001b[1;37m                ^\u001b[0m\n\u001b[1;31mSyntaxError\u001b[0m\u001b[1;31m:\u001b[0m invalid syntax\n"
     ]
    }
   ],
   "source": [
    "x = y = 1\n",
    "print(x, y)."
   ]
  },
  {
   "cell_type": "code",
   "execution_count": 33,
   "id": "9cd4a071-411e-401d-b2a3-bc042520921a",
   "metadata": {},
   "outputs": [
    {
     "ename": "NameError",
     "evalue": "name 'ab' is not defined",
     "output_type": "error",
     "traceback": [
      "\u001b[1;31m---------------------------------------------------------------------------\u001b[0m",
      "\u001b[1;31mNameError\u001b[0m                                 Traceback (most recent call last)",
      "Cell \u001b[1;32mIn[33], line 3\u001b[0m\n\u001b[0;32m      1\u001b[0m a \u001b[38;5;241m=\u001b[39m \u001b[38;5;241m3\u001b[39m\n\u001b[0;32m      2\u001b[0m b \u001b[38;5;241m=\u001b[39m \u001b[38;5;241m5\u001b[39m\n\u001b[1;32m----> 3\u001b[0m \u001b[38;5;28mprint\u001b[39m(ab)\n",
      "\u001b[1;31mNameError\u001b[0m: name 'ab' is not defined"
     ]
    }
   ],
   "source": [
    "a = 3\n",
    "b = 5\n",
    "print(ab)"
   ]
  },
  {
   "cell_type": "code",
   "execution_count": 35,
   "id": "83484f12-66a2-4bac-8089-880da0e4eff9",
   "metadata": {},
   "outputs": [],
   "source": [
    "import math"
   ]
  },
  {
   "cell_type": "code",
   "execution_count": 39,
   "id": "072439f4-0a30-435b-9715-3b83c2a733f9",
   "metadata": {},
   "outputs": [
    {
     "name": "stdout",
     "output_type": "stream",
     "text": [
      "523.5987755982989\n"
     ]
    }
   ],
   "source": [
    "def v(r):\n",
    "    return (4/3) * math.pi * (r ** 3)\n",
    "print(v(5))"
   ]
  },
  {
   "cell_type": "code",
   "execution_count": 49,
   "id": "0962855c-a480-4a7b-bc43-8db9ba31de84",
   "metadata": {},
   "outputs": [
    {
     "name": "stdout",
     "output_type": "stream",
     "text": [
      "945.09\n"
     ]
    }
   ],
   "source": [
    "# Suppose the cover price of a book is $24.95, but bookstores get a 40% discount. \n",
    "# Shipping costs $3 for the first copy and 75 cents for each additional copy. \n",
    "# What is the total wholesale cost for 60 copies?\n",
    "\n",
    "def cost(c):\n",
    "    if c == 1:\n",
    "        return 24.94*0.6*c+3\n",
    "    else:\n",
    "        return 24.94*0.6*c+3+0.75*(c-1)\n",
    "print(cost(60))\n"
   ]
  },
  {
   "cell_type": "code",
   "execution_count": 55,
   "id": "d495a644-fa49-4859-9a49-75bed12a2c95",
   "metadata": {},
   "outputs": [
    {
     "name": "stdout",
     "output_type": "stream",
     "text": [
      "1900-01-01 06:52:00\n"
     ]
    }
   ],
   "source": [
    "# If I leave my house at 6:52 am and run 1 mile at an easy pace (8:15 per mile),\n",
    "# then 3 miles at tempo (7:12 per mile) and 1 mile at easy pace again, \n",
    "# what time do I get home for breakfast?\n",
    "\n",
    "from datetime import datetime, timedelta\n",
    "start_time = datetime.strptime(\"6:52 AM\", \"%I:%M %p\")\n",
    "print(start_time)"
   ]
  },
  {
   "cell_type": "code",
   "execution_count": 59,
   "id": "bbd81526-d3b7-4b08-a12a-3490312a8de1",
   "metadata": {},
   "outputs": [
    {
     "name": "stdout",
     "output_type": "stream",
     "text": [
      "0:38:06\n"
     ]
    }
   ],
   "source": [
    "easy_pace = timedelta(minutes=8, seconds=15)  \n",
    "tempo_pace = timedelta(minutes=7, seconds=12)  \n",
    "\n",
    "total_time = easy_pace + (tempo_pace * 3) + easy_pace\n",
    "\n",
    "print(total_time)"
   ]
  },
  {
   "cell_type": "code",
   "execution_count": 61,
   "id": "ede48ae8-17b1-4ff1-8713-2c253f4b1dd1",
   "metadata": {},
   "outputs": [
    {
     "name": "stdout",
     "output_type": "stream",
     "text": [
      "1900-01-01 07:30:06\n"
     ]
    }
   ],
   "source": [
    "home_time = start_time + total_time\n",
    "print(home_time)"
   ]
  },
  {
   "cell_type": "code",
   "execution_count": null,
   "id": "8d0c19cd-2af2-45f2-bc47-d90a1a9c54e7",
   "metadata": {},
   "outputs": [],
   "source": []
  },
  {
   "cell_type": "code",
   "execution_count": null,
   "id": "3d24ec42-5ccf-4cfe-ae6d-ca6aec7e7f59",
   "metadata": {},
   "outputs": [],
   "source": []
  },
  {
   "cell_type": "code",
   "execution_count": null,
   "id": "6411009b-2613-4f58-bdca-92656d21295a",
   "metadata": {},
   "outputs": [],
   "source": []
  },
  {
   "cell_type": "code",
   "execution_count": null,
   "id": "2f5a75d7-d991-4248-9d42-36fabe9d394a",
   "metadata": {},
   "outputs": [],
   "source": []
  },
  {
   "cell_type": "code",
   "execution_count": null,
   "id": "ee2e4122-47c6-4e86-b72f-6621a840343d",
   "metadata": {},
   "outputs": [],
   "source": []
  },
  {
   "cell_type": "code",
   "execution_count": null,
   "id": "763c40f8-b30c-4134-bb47-8e48892374c1",
   "metadata": {},
   "outputs": [],
   "source": []
  }
 ],
 "metadata": {
  "kernelspec": {
   "display_name": "Python [conda env:base] *",
   "language": "python",
   "name": "conda-base-py"
  },
  "language_info": {
   "codemirror_mode": {
    "name": "ipython",
    "version": 3
   },
   "file_extension": ".py",
   "mimetype": "text/x-python",
   "name": "python",
   "nbconvert_exporter": "python",
   "pygments_lexer": "ipython3",
   "version": "3.12.7"
  }
 },
 "nbformat": 4,
 "nbformat_minor": 5
}
