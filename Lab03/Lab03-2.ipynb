{
 "cells": [
  {
   "cell_type": "code",
   "execution_count": 21,
   "id": "47fc5bf7-f3eb-4600-8ccc-ed5042d4a57f",
   "metadata": {},
   "outputs": [
    {
     "name": "stdin",
     "output_type": "stream",
     "text": [
      "收敛准则(e.g., 0.01 for 1%):  0.01\n",
      "最大抽样数:  20\n"
     ]
    },
    {
     "name": "stdout",
     "output_type": "stream",
     "text": [
      "Converged at draw #14\n",
      "Estimated pi = 3.142857, relative error = 0.040250%\n"
     ]
    }
   ],
   "source": [
    "import random\n",
    "import math\n",
    "\n",
    "def estimate_pi_with_limit(convergence_criterion, max_draws):\n",
    "    \n",
    "    inside_circle = 0\n",
    "    total_draws = 0\n",
    "    \n",
    "    while True:\n",
    "        total_draws += 1\n",
    "        \n",
    "        # 在 -1~1 坐标范围内随机取 x, y\n",
    "        x = random.uniform(-1, 1)\n",
    "        y = random.uniform(-1, 1)\n",
    "        \n",
    "        # 判断是否落入单位圆\n",
    "        if x*x + y*y <= 1:\n",
    "            inside_circle += 1\n",
    "        \n",
    "        # 已有的 π 估计值\n",
    "        pi_estimate = 4.0 * inside_circle / total_draws\n",
    "        \n",
    "        # 计算相对误差\n",
    "        rel_error = abs(pi_estimate - math.pi) / math.pi\n",
    "        \n",
    "        # 判断是否达到收敛\n",
    "        if rel_error < convergence_criterion:\n",
    "            return pi_estimate, total_draws, rel_error\n",
    "        \n",
    "        # 判断是否超过最大次数\n",
    "        if total_draws >= max_draws:\n",
    "            # 返回时可以携带一个标志或直接 raise Exception\n",
    "            return None, total_draws, rel_error\n",
    "\n",
    "def main_part1():\n",
    "    # 1) 让用户输入收敛准则\n",
    "    conv_str = input(\"收敛准则(e.g., 0.01 for 1%): \")\n",
    "    convergence_criterion = float(conv_str)\n",
    "    \n",
    "    # 2) 让用户输入最大抽样数\n",
    "    max_draws_str = input(\"最大抽样数: \")\n",
    "    max_draws = int(max_draws_str)\n",
    "    \n",
    "    # 调用估计函数\n",
    "    pi_estimate, draws_used, rel_err = estimate_pi_with_limit(convergence_criterion, max_draws)\n",
    "    \n",
    "    if pi_estimate is None:\n",
    "        print(f\"Draw limit of {max_draws} exceeded!\")\n",
    "        print(f\"Relative error at that time was {rel_err*100:.6f}%\")\n",
    "    else:\n",
    "        print(f\"Converged at draw #{draws_used}\")\n",
    "        print(f\"Estimated pi = {pi_estimate:.6f}, relative error = {rel_err*100:.6f}%\")\n",
    "        \n",
    "if __name__ == \"__main__\":\n",
    "    main_part1()"
   ]
  },
  {
   "cell_type": "code",
   "execution_count": 23,
   "id": "361c80a7-2148-4466-980a-f8c41ec3c4ac",
   "metadata": {},
   "outputs": [
    {
     "name": "stdout",
     "output_type": "stream",
     "text": [
      "Convergence Criterion: 0.01\n",
      "  Average draws: 104.40\n",
      "  Std draws: 242.25\n",
      "----------------------------------------\n",
      "Convergence Criterion: 0.001\n",
      "  Average draws: 939.20\n",
      "  Std draws: 1419.17\n",
      "----------------------------------------\n",
      "Convergence Criterion: 0.0001\n",
      "  Average draws: 780.40\n",
      "  Std draws: 621.04\n",
      "----------------------------------------\n",
      "Convergence Criterion: 1e-05\n",
      "  Average draws: 63129.90\n",
      "  Std draws: 174614.17\n",
      "----------------------------------------\n"
     ]
    }
   ],
   "source": [
    "import random\n",
    "import math\n",
    "import statistics  # 用于计算平均值和标准差\n",
    "\n",
    "def estimate_pi(convergence_criterion):\n",
    "    inside_circle = 0\n",
    "    total_draws = 0\n",
    "    \n",
    "    while True:\n",
    "        total_draws += 1\n",
    "        x = random.uniform(-1, 1)\n",
    "        y = random.uniform(-1, 1)\n",
    "        if x*x + y*y <= 1:\n",
    "            inside_circle += 1\n",
    "        pi_estimate = 4.0 * inside_circle / total_draws\n",
    "        \n",
    "        rel_error = abs(pi_estimate - math.pi) / math.pi\n",
    "        if rel_error < convergence_criterion:\n",
    "            return total_draws\n",
    "\n",
    "def main_part2():\n",
    "    convergence_criteria = [0.01, 0.001, 0.0001, 0.00001]\n",
    "\n",
    "    for crit in convergence_criteria:\n",
    "        draws_list = []\n",
    "        \n",
    "        # 重复 10 次实验\n",
    "        for _ in range(10):\n",
    "            draws_needed = estimate_pi(crit)\n",
    "            draws_list.append(draws_needed)\n",
    "        \n",
    "        # 统计平均值和标准差\n",
    "        avg_draws = statistics.mean(draws_list)\n",
    "        std_draws = statistics.stdev(draws_list)\n",
    "        \n",
    "        print(f\"Convergence Criterion: {crit}\")\n",
    "        print(f\"  Average draws: {avg_draws:.2f}\")\n",
    "        print(f\"  Std draws: {std_draws:.2f}\")\n",
    "        print(\"-\" * 40)\n",
    "\n",
    "if __name__ == \"__main__\":\n",
    "    main_part2()"
   ]
  },
  {
   "cell_type": "code",
   "execution_count": null,
   "id": "84b4c151-d477-408d-aaa4-068b88914f5b",
   "metadata": {},
   "outputs": [],
   "source": []
  }
 ],
 "metadata": {
  "kernelspec": {
   "display_name": "Python [conda env:base] *",
   "language": "python",
   "name": "conda-base-py"
  },
  "language_info": {
   "codemirror_mode": {
    "name": "ipython",
    "version": 3
   },
   "file_extension": ".py",
   "mimetype": "text/x-python",
   "name": "python",
   "nbconvert_exporter": "python",
   "pygments_lexer": "ipython3",
   "version": "3.12.7"
  }
 },
 "nbformat": 4,
 "nbformat_minor": 5
}
