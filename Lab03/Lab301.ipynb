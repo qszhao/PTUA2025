{
 "cells": [
  {
   "cell_type": "code",
   "execution_count": 1,
   "id": "0e76a272-5bc6-45e8-b4e0-b88d7bfdf681",
   "metadata": {},
   "outputs": [
    {
     "ename": "SyntaxError",
     "evalue": "cannot assign to literal here. Maybe you meant '==' instead of '='? (3994678923.py, line 2)",
     "output_type": "error",
     "traceback": [
      "\u001b[1;36m  Cell \u001b[1;32mIn[1], line 2\u001b[1;36m\u001b[0m\n\u001b[1;33m    42 = n\u001b[0m\n\u001b[1;37m    ^\u001b[0m\n\u001b[1;31mSyntaxError\u001b[0m\u001b[1;31m:\u001b[0m cannot assign to literal here. Maybe you meant '==' instead of '='?\n"
     ]
    }
   ],
   "source": [
    "# 1.We’ve seen that n = 42 is legal. What about 42 = n?\n",
    "n = 42\n",
    "42 = n\n",
    "#Cannot assign a value to a constant (42 is a constant)"
   ]
  },
  {
   "cell_type": "code",
   "execution_count": 4,
   "id": "a4472c19-4f55-45a5-bd74-74c76c4e3073",
   "metadata": {},
   "outputs": [
    {
     "name": "stdout",
     "output_type": "stream",
     "text": [
      "1\n",
      "1\n"
     ]
    }
   ],
   "source": [
    "# 2.How about x = y = 1?\n",
    "x = y = 1\n",
    "print(x)\n",
    "print(y)"
   ]
  },
  {
   "cell_type": "code",
   "execution_count": 6,
   "id": "758f18ae-896e-432e-ac1b-6fea87444e2e",
   "metadata": {},
   "outputs": [
    {
     "name": "stdout",
     "output_type": "stream",
     "text": [
      "5 10\n"
     ]
    }
   ],
   "source": [
    "# 3.In some languages every statement ends with a semi-colon, ;. What happens if you put a semi-colon at the end of a Python statement?\n",
    "x = 5; y = 10\n",
    "print(x, y)"
   ]
  },
  {
   "cell_type": "code",
   "execution_count": 8,
   "id": "cc347999-8015-481b-a467-75054f3f1b10",
   "metadata": {},
   "outputs": [
    {
     "name": "stdout",
     "output_type": "stream",
     "text": [
      "5.0\n"
     ]
    }
   ],
   "source": [
    "# 4.What if you put a period at the end of a statement?\n",
    "x = 5.\n",
    "print(x)"
   ]
  },
  {
   "cell_type": "code",
   "execution_count": 14,
   "id": "58a970d1-9097-4893-aee6-70f7ed800348",
   "metadata": {},
   "outputs": [
    {
     "ename": "SyntaxError",
     "evalue": "invalid syntax (7527374.py, line 4)",
     "output_type": "error",
     "traceback": [
      "\u001b[1;36m  Cell \u001b[1;32mIn[14], line 4\u001b[1;36m\u001b[0m\n\u001b[1;33m    x y\u001b[0m\n\u001b[1;37m      ^\u001b[0m\n\u001b[1;31mSyntaxError\u001b[0m\u001b[1;31m:\u001b[0m invalid syntax\n"
     ]
    }
   ],
   "source": [
    "#5.In math notation you can multiply x and y like this: x y. What happens if you try that in Python?\n",
    "x = 5\n",
    "y = 10\n",
    "x y\n",
    "#* must be used to multiply"
   ]
  },
  {
   "cell_type": "code",
   "execution_count": 16,
   "id": "66315a31-3f51-4131-832b-ec26f93e9ba2",
   "metadata": {},
   "outputs": [
    {
     "data": {
      "text/plain": [
       "523.5987755982989"
      ]
     },
     "execution_count": 16,
     "metadata": {},
     "output_type": "execute_result"
    }
   ],
   "source": [
    "#2.10 Exercise2\n",
    "# 1.#The volume of a sphere with radius r is 4/3 π r3. What is the volume of a sphere with radius 5?\n",
    "import math\n",
    "r = 5\n",
    "volume = (4/3) * math.pi * r**3\n",
    "volume"
   ]
  },
  {
   "cell_type": "code",
   "execution_count": 18,
   "id": "41ca96ac-6400-433d-be71-d5abcde2eb9f",
   "metadata": {},
   "outputs": [
    {
     "data": {
      "text/plain": [
       "945.4499999999999"
      ]
     },
     "execution_count": 18,
     "metadata": {},
     "output_type": "execute_result"
    }
   ],
   "source": [
    "# 2.Suppose the cover price of a book is $24.95, but bookstores get a 40% discount. Shipping costs $3 for the first copy and 75 cents for each additional copy. What is the total wholesale cost for 60 copies?\n",
    "cover_price = 24.95\n",
    "discount_rate = 0.40\n",
    "shipping_first_copy = 3\n",
    "shipping_additional_copy = 0.75\n",
    "num_copies = 60\n",
    "\n",
    "discounted_price = cover_price * (1 - discount_rate)\n",
    "\n",
    "total_cost = discounted_price * num_copies + shipping_first_copy + shipping_additional_copy * (num_copies - 1)\n",
    "total_cost"
   ]
  },
  {
   "cell_type": "code",
   "execution_count": 20,
   "id": "386cdc64-3075-464c-976b-727c18f50e5e",
   "metadata": {},
   "outputs": [
    {
     "data": {
      "text/plain": [
       "'07:30 AM'"
      ]
     },
     "execution_count": 20,
     "metadata": {},
     "output_type": "execute_result"
    }
   ],
   "source": [
    "# 3.If I leave my house at 6:52 am and run 1 mile at an easy pace (8:15 per mile), then 3 miles at tempo (7:12 per mile) and 1 mile at easy pace again, what time do I get home for breakfast?\n",
    "from datetime import datetime, timedelta\n",
    "\n",
    "easy_pace = timedelta(minutes=8, seconds=15)\n",
    "tempo_pace = timedelta(minutes=7, seconds=12)\n",
    "\n",
    "start_time = datetime.strptime(\"6:52 AM\", \"%I:%M %p\")\n",
    "\n",
    "total_time = easy_pace + 3 * tempo_pace + easy_pace\n",
    "\n",
    "end_time = start_time + total_time\n",
    "end_time.strftime(\"%I:%M %p\")"
   ]
  },
  {
   "cell_type": "code",
   "execution_count": 22,
   "id": "ccf48f8c-b3ed-43a1-9243-3bd8333fafa5",
   "metadata": {},
   "outputs": [
    {
     "name": "stdout",
     "output_type": "stream",
     "text": [
      "  Hello, world!  \n",
      "Hello, world!\n"
     ]
    }
   ],
   "source": [
    "#8.13 Exercise 1 \n",
    "text = \"  Hello, world!  \"\n",
    "stripped_text = text.strip()\n",
    "print(f'{text}')\n",
    "print(f'{stripped_text}')"
   ]
  },
  {
   "cell_type": "code",
   "execution_count": 24,
   "id": "97318bfa-b73b-4cfc-a150-e3096418103f",
   "metadata": {},
   "outputs": [
    {
     "name": "stdout",
     "output_type": "stream",
     "text": [
      "3\n"
     ]
    }
   ],
   "source": [
    "# Exercise 2\n",
    "text = \"banana\"\n",
    "count_a = text.count('a')\n",
    "print(count_a)"
   ]
  },
  {
   "cell_type": "code",
   "execution_count": 26,
   "id": "102e7a71-1744-4cf6-8ac1-95a99203a7c6",
   "metadata": {},
   "outputs": [
    {
     "name": "stdout",
     "output_type": "stream",
     "text": [
      "bnn\n",
      "ananab\n"
     ]
    }
   ],
   "source": [
    "# Exercise 3\n",
    "fruit = 'banana'\n",
    "sliced_fruit = fruit[0:5:2]\n",
    "print(sliced_fruit)\n",
    "fruit_reversed = fruit[::-1]\n",
    "print(fruit_reversed)"
   ]
  },
  {
   "cell_type": "code",
   "execution_count": 30,
   "id": "9c8d4e0b-3e3f-481d-b0ac-cce648a2d012",
   "metadata": {},
   "outputs": [
    {
     "ename": "SyntaxError",
     "evalue": "unterminated string literal (detected at line 7) (2087686422.py, line 7)",
     "output_type": "error",
     "traceback": [
      "\u001b[1;36m  Cell \u001b[1;32mIn[30], line 7\u001b[1;36m\u001b[0m\n\u001b[1;33m    return 'False\u001b[0m\n\u001b[1;37m           ^\u001b[0m\n\u001b[1;31mSyntaxError\u001b[0m\u001b[1;31m:\u001b[0m unterminated string literal (detected at line 7)\n"
     ]
    }
   ],
   "source": [
    "# Exercise 4\n",
    "def any_lowercase2(s):\n",
    "    for c in s:\n",
    "        if 'c'.islower():\n",
    "            return 'True'\n",
    "        else:\n",
    "            return 'False\n",
    "#change 'c'.islower() to c,islower\n",
    "\n",
    "def any_lowercase5(s):\n",
    "    for c in s:\n",
    "        if not c.islower():\n",
    "            return False\n",
    "    return True\n",
    "#This function checks whether each character in the string is a lowercase letter. If it encounters any non-lowercase letters, it returns False. \n",
    "    #True is returned only if all characters are lowercase.\n",
    "    \n",
    "# if c.islower(): \n",
    "    return True"
   ]
  },
  {
   "cell_type": "code",
   "execution_count": 34,
   "id": "696f4fdd-b5ff-4434-8cdd-ecd9d92e2a5b",
   "metadata": {},
   "outputs": [
    {
     "name": "stdout",
     "output_type": "stream",
     "text": [
      "jolly\n",
      "cubed\n",
      "HAL\n"
     ]
    }
   ],
   "source": [
    "# Exercise 5\n",
    "def rotate_word(word, n):\n",
    "    rotated_word = [] \n",
    "    for char in word:\n",
    "        if char.isalpha(): \n",
    "            base = ord('a') if char.islower() else ord('A')\n",
    "            \n",
    "            rotated_char = chr(base + (ord(char) - base + n) % 26)\n",
    "            rotated_word.append(rotated_char)\n",
    "        else:\n",
    "            rotated_word.append(char)\n",
    "    \n",
    "    return ''.join(rotated_word)\n",
    "print(rotate_word(\"cheer\", 7))  \n",
    "print(rotate_word(\"melon\", -10))  \n",
    "print(rotate_word(\"IBM\", -1))  "
   ]
  },
  {
   "cell_type": "code",
   "execution_count": null,
   "id": "81d28070-a7c4-4e5c-b30e-5118a3c0aa97",
   "metadata": {},
   "outputs": [],
   "source": []
  }
 ],
 "metadata": {
  "kernelspec": {
   "display_name": "Python [conda env:base] *",
   "language": "python",
   "name": "conda-base-py"
  },
  "language_info": {
   "codemirror_mode": {
    "name": "ipython",
    "version": 3
   },
   "file_extension": ".py",
   "mimetype": "text/x-python",
   "name": "python",
   "nbconvert_exporter": "python",
   "pygments_lexer": "ipython3",
   "version": "3.12.7"
  }
 },
 "nbformat": 4,
 "nbformat_minor": 5
}
