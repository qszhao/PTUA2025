{
 "cells": [
  {
   "cell_type": "code",
   "execution_count": 5,
   "id": "e509387b-e2d1-4c34-90f1-98879bbc16ed",
   "metadata": {},
   "outputs": [
    {
     "ename": "SyntaxError",
     "evalue": "cannot assign to literal here. Maybe you meant '==' instead of '='? (678916071.py, line 1)",
     "output_type": "error",
     "traceback": [
      "\u001b[1;36m  Cell \u001b[1;32mIn[5], line 1\u001b[1;36m\u001b[0m\n\u001b[1;33m    42 = n\u001b[0m\n\u001b[1;37m    ^\u001b[0m\n\u001b[1;31mSyntaxError\u001b[0m\u001b[1;31m:\u001b[0m cannot assign to literal here. Maybe you meant '==' instead of '='?\n"
     ]
    }
   ],
   "source": [
    "42 = n  "
   ]
  },
  {
   "cell_type": "code",
   "execution_count": 5,
   "id": "d33243bb-92ee-49b8-af26-20aeea2230fd",
   "metadata": {},
   "outputs": [
    {
     "name": "stdout",
     "output_type": "stream",
     "text": [
      "1 1\n"
     ]
    }
   ],
   "source": [
    "x = y = 1\n",
    "print(x, y)"
   ]
  },
  {
   "cell_type": "code",
   "execution_count": 9,
   "id": "f097ba53-6167-4ad3-9ede-43cedae0e4f4",
   "metadata": {},
   "outputs": [
    {
     "name": "stdout",
     "output_type": "stream",
     "text": [
      "3\n"
     ]
    }
   ],
   "source": [
    "x = 1;\n",
    "y = 2;\n",
    "print(x + y); "
   ]
  },
  {
   "cell_type": "code",
   "execution_count": 11,
   "id": "8a3b5e8a-9cee-47f9-a4c1-01daafd09eb4",
   "metadata": {},
   "outputs": [
    {
     "name": "stdout",
     "output_type": "stream",
     "text": [
      "5.0\n"
     ]
    }
   ],
   "source": [
    "x = 5.\n",
    "print(x) "
   ]
  },
  {
   "cell_type": "code",
   "execution_count": 13,
   "id": "79c8fd73-d1d1-4e46-8a7c-9ef92ed184d8",
   "metadata": {},
   "outputs": [
    {
     "ename": "SyntaxError",
     "evalue": "invalid syntax. Perhaps you forgot a comma? (424294198.py, line 3)",
     "output_type": "error",
     "traceback": [
      "\u001b[1;36m  Cell \u001b[1;32mIn[13], line 3\u001b[1;36m\u001b[0m\n\u001b[1;33m    print(x y)\u001b[0m\n\u001b[1;37m          ^\u001b[0m\n\u001b[1;31mSyntaxError\u001b[0m\u001b[1;31m:\u001b[0m invalid syntax. Perhaps you forgot a comma?\n"
     ]
    }
   ],
   "source": [
    "x = 5\n",
    "y = 2\n",
    "print(x y) "
   ]
  },
  {
   "cell_type": "code",
   "execution_count": 15,
   "id": "113007c5-8d55-422c-9ac0-20bf4fd332b5",
   "metadata": {},
   "outputs": [
    {
     "name": "stdout",
     "output_type": "stream",
     "text": [
      "523.5987755982989\n"
     ]
    }
   ],
   "source": [
    "import math\n",
    "r = 5\n",
    "volume = (4/3) * math.pi * r**3\n",
    "print(volume)"
   ]
  },
  {
   "cell_type": "code",
   "execution_count": 17,
   "id": "84575f04-bde0-487b-b62f-9b6183995683",
   "metadata": {},
   "outputs": [
    {
     "name": "stdout",
     "output_type": "stream",
     "text": [
      "945.4499999999999\n"
     ]
    }
   ],
   "source": [
    "book_price = 24.95 * 0.6\n",
    "total_books = 60\n",
    "shipping_cost = 3 + (total_books - 1) * 0.75 \n",
    "total_cost = total_books * book_price + shipping_cost\n",
    "print(total_cost) "
   ]
  },
  {
   "cell_type": "code",
   "execution_count": 19,
   "id": "3e6d68e0-acb2-49a3-a88e-a48de5d6ba44",
   "metadata": {},
   "outputs": [
    {
     "name": "stdout",
     "output_type": "stream",
     "text": [
      "get home：7:30 AM\n"
     ]
    }
   ],
   "source": [
    "start_hour = 6\n",
    "start_minute = 52\n",
    "\n",
    "easy_pace_seconds = (8 * 60) + 15  \n",
    "tempo_pace_seconds = (7 * 60) + 12  \n",
    "total_seconds = (2 * easy_pace_seconds) + (3 * tempo_pace_seconds)\n",
    "\n",
    "end_minutes = start_minute + (total_seconds // 60)\n",
    "end_hour = start_hour + (end_minutes // 60)\n",
    "end_minutes = end_minutes % 60  \n",
    "\n",
    "print(f\"get home：{end_hour}:{end_minutes:02d} AM\")"
   ]
  },
  {
   "cell_type": "code",
   "execution_count": 21,
   "id": "8c525ce7-bcdf-4102-a4e1-dbc05141ee36",
   "metadata": {},
   "outputs": [
    {
     "name": "stdout",
     "output_type": "stream",
     "text": [
      "hello\n",
      "bonono\n"
     ]
    }
   ],
   "source": [
    "s = \"  hello  \"\n",
    "print(s.strip())  \n",
    "\n",
    "s2 = \"banana\"\n",
    "print(s2.replace(\"a\", \"o\"))"
   ]
  },
  {
   "cell_type": "code",
   "execution_count": 23,
   "id": "5c506dcb-a2ec-4307-8bfc-3d2c14388e24",
   "metadata": {},
   "outputs": [
    {
     "name": "stdout",
     "output_type": "stream",
     "text": [
      "3\n"
     ]
    }
   ],
   "source": [
    "word = \"banana\"\n",
    "count_a = word.count(\"a\")\n",
    "print(count_a)"
   ]
  },
  {
   "cell_type": "code",
   "execution_count": 47,
   "id": "9f93a359-d6fa-4608-b2db-6e3d4e7397d3",
   "metadata": {},
   "outputs": [
    {
     "name": "stdout",
     "output_type": "stream",
     "text": [
      "True\n",
      "False\n"
     ]
    }
   ],
   "source": [
    "def is_palindrome(s):\n",
    "    return s == s[::-1]\n",
    "\n",
    "print(is_palindrome(\"mom\")) \n",
    "print(is_palindrome(\"hello\"))"
   ]
  },
  {
   "cell_type": "code",
   "execution_count": 61,
   "id": "275aab9a-31ef-48c2-81fd-9c15f6be1eae",
   "metadata": {},
   "outputs": [
    {
     "name": "stdout",
     "output_type": "stream",
     "text": [
      "False\n"
     ]
    }
   ],
   "source": [
    "def any_lowercase1(s):\n",
    "    for c in s:\n",
    "        if c.islower():\n",
    "            return True  \n",
    "        else:\n",
    "            return False \n",
    "# Only checks the first character and ignores the rest."
   ]
  },
  {
   "cell_type": "code",
   "execution_count": 51,
   "id": "39cf1016-cb80-437f-b1d0-89b3badbb6db",
   "metadata": {},
   "outputs": [],
   "source": [
    "def any_lowercase2(s):\n",
    "    for c in s:\n",
    "        if 'c'.islower():  \n",
    "            return 'True'\n",
    "        else:\n",
    "            return 'False'\n",
    "# Always checks the literal string 'c', not the actual input string."
   ]
  },
  {
   "cell_type": "code",
   "execution_count": 53,
   "id": "85c808b0-088e-403c-b9ac-689b6019bbb8",
   "metadata": {},
   "outputs": [],
   "source": [
    "def any_lowercase3(s):\n",
    "    for c in s:\n",
    "        flag = c.islower()\n",
    "    return flag\n",
    "# Only considers the last character of the string."
   ]
  },
  {
   "cell_type": "code",
   "execution_count": 35,
   "id": "15d531f2-516b-4362-aaa1-814b689c24ff",
   "metadata": {},
   "outputs": [],
   "source": [
    "def any_lowercase4(s):\n",
    "    flag = False\n",
    "    for c in s:\n",
    "        flag = flag or c.islower()\n",
    "    return flag\n",
    "# Correctly checks all characters and returns True if any are lowercase."
   ]
  },
  {
   "cell_type": "code",
   "execution_count": 37,
   "id": "edf9899e-f01b-4df4-a5b9-3b02db1d24b1",
   "metadata": {},
   "outputs": [],
   "source": [
    "def any_lowercase5(s):\n",
    "    for c in s:\n",
    "        if not c.islower():\n",
    "            return False\n",
    "    return True\n",
    "# Returns True only if all characters are lowercase."
   ]
  },
  {
   "cell_type": "code",
   "execution_count": 65,
   "id": "47166c9f-2300-482c-b99e-2648d0b7d4d6",
   "metadata": {},
   "outputs": [
    {
     "name": "stdout",
     "output_type": "stream",
     "text": [
      "jolly\n",
      "cubed\n",
      "GZK\n",
      "dog\n"
     ]
    }
   ],
   "source": [
    "def rotate_word(s, n):\n",
    "    result = ''\n",
    "    for char in s:\n",
    "        if char.isalpha(): \n",
    "            start = ord('A') if char.isupper() else ord('a')\n",
    "            new_char = chr(start + (ord(char) - start + n) % 26)  \n",
    "        else:\n",
    "            new_char = char \n",
    "        result += new_char\n",
    "    return result\n",
    "\n",
    "print(rotate_word(\"cheer\", 7))   \n",
    "print(rotate_word(\"melon\", -10)) \n",
    "print(rotate_word(\"HAL\", -1)) \n",
    "print(rotate_word(\"cnf\", 1))    "
   ]
  },
  {
   "cell_type": "code",
   "execution_count": null,
   "id": "cf00e5c1-21c0-4c3c-a3bc-7af841324fea",
   "metadata": {},
   "outputs": [],
   "source": []
  }
 ],
 "metadata": {
  "kernelspec": {
   "name": "conda-base-py"
  },
  "language_info": {
   "codemirror_mode": {
    "name": "ipython",
    "version": 3
   },
   "file_extension": ".py",
   "mimetype": "text/x-python",
   "name": "python",
   "nbconvert_exporter": "python",
   "pygments_lexer": "ipython3",
   "version": "3.12.7"
  }
 },
 "nbformat": 4,
 "nbformat_minor": 5
}
