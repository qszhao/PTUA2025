{
 "cells": [
  {
   "cell_type": "code",
   "execution_count": 3,
   "id": "816630cb-8295-495e-908c-dfb7daf9f9ba",
   "metadata": {},
   "outputs": [],
   "source": [
    "##An assignment statement creates a new variable and gives it a value:\n",
    "message = 'And now for something completely different'\n",
    "n = 17\n",
    "pi = 3.1415926535897932"
   ]
  },
  {
   "cell_type": "markdown",
   "id": "a4a31cc6-bb47-4ab3-aaa4-8ab110afd00a",
   "metadata": {},
   "source": [
    "Exercise2/1"
   ]
  },
  {
   "cell_type": "code",
   "execution_count": 13,
   "id": "79d6b34d-38c7-4969-9bec-cfa2fa625831",
   "metadata": {},
   "outputs": [
    {
     "name": "stdout",
     "output_type": "stream",
     "text": [
      "523.5987755982989\n"
     ]
    }
   ],
   "source": [
    "r = 5\n",
    "S = 4/3*r**3*pi\n",
    "print(S)"
   ]
  },
  {
   "cell_type": "markdown",
   "id": "7e1f0347-9cd1-43b4-a606-4ed767658052",
   "metadata": {},
   "source": [
    "Exercise2/2"
   ]
  },
  {
   "cell_type": "code",
   "execution_count": 36,
   "id": "75bfb4b3-0de8-4d52-8065-29c7b3861361",
   "metadata": {},
   "outputs": [
    {
     "name": "stdout",
     "output_type": "stream",
     "text": [
      "60\n",
      "646.0500000000005\n"
     ]
    }
   ],
   "source": [
    "x = 24.95\n",
    "d = 0.4\n",
    "f = 3\n",
    "a = 0.75\n",
    "i = 0\n",
    "S = 0\n",
    "while i < 60 :\n",
    "  if i == 0 :\n",
    "    S = S + x*d + f\n",
    "  else :\n",
    "    S = S + x*d + a\n",
    "  i = i+1\n",
    "print(i)\n",
    "print(S)"
   ]
  },
  {
   "cell_type": "markdown",
   "id": "b042f4e5-a8af-4739-ae4a-4e92d6a6489f",
   "metadata": {},
   "source": [
    "Exercise2/3"
   ]
  },
  {
   "cell_type": "code",
   "execution_count": 3,
   "id": "d73b3f9f-9a45-4d18-a0c4-b294a18a9042",
   "metadata": {},
   "outputs": [
    {
     "name": "stdout",
     "output_type": "stream",
     "text": [
      "Strat time: 06:52:00\n",
      "Ending time: 07:30:06\n"
     ]
    }
   ],
   "source": [
    "import datetime\n",
    "\n",
    "# 1. 构造一个任意日期的起始时间，这里随意指定日期为 2025-02-10\n",
    "start_time = datetime.datetime(2025, 2, 10, 6, 52, 0) \n",
    "\n",
    "# 2. 计算每段跑步的耗时（以秒数为单位）\n",
    "#    8分15秒 = 8*60 + 15 = 495秒\n",
    "easy_pace_seconds = 8 * 60 + 15      # 1英里配速\n",
    "tempo_pace_seconds = 7 * 60 + 12     # 1英里配速\n",
    "\n",
    "# 各段用时（秒）\n",
    "time_first_mile   = easy_pace_seconds\n",
    "time_three_miles  = 3 * tempo_pace_seconds\n",
    "time_last_mile    = easy_pace_seconds\n",
    "\n",
    "# 总跑步时间（秒）\n",
    "total_seconds = time_first_mile + time_three_miles + time_last_mile  # 495 + 3*432 + 495\n",
    "\n",
    "# 3. 使用 timedelta 累加总用时\n",
    "end_time = start_time + datetime.timedelta(seconds=total_seconds)\n",
    "\n",
    "# 4. 打印结果(只显示时分秒)\n",
    "print(\"Strat time:\", start_time.strftime(\"%H:%M:%S\"))\n",
    "print(\"Ending time:\", end_time.strftime(\"%H:%M:%S\"))"
   ]
  },
  {
   "cell_type": "code",
   "execution_count": null,
   "id": "c9e2a3d6-8788-4ea5-8503-98810c20fb2a",
   "metadata": {},
   "outputs": [],
   "source": []
  }
 ],
 "metadata": {
  "kernelspec": {
   "display_name": "Python [conda env:base] *",
   "language": "python",
   "name": "conda-base-py"
  },
  "language_info": {
   "codemirror_mode": {
    "name": "ipython",
    "version": 3
   },
   "file_extension": ".py",
   "mimetype": "text/x-python",
   "name": "python",
   "nbconvert_exporter": "python",
   "pygments_lexer": "ipython3",
   "version": "3.12.7"
  }
 },
 "nbformat": 4,
 "nbformat_minor": 5
}
