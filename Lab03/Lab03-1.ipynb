{
 "cells": [
  {
   "cell_type": "code",
   "execution_count": 1,
   "id": "7dad438e-b4bd-4fd7-b467-d7933f4f9aea",
   "metadata": {},
   "outputs": [
    {
     "ename": "SyntaxError",
     "evalue": "cannot assign to literal here. Maybe you meant '==' instead of '='? (3486217006.py, line 1)",
     "output_type": "error",
     "traceback": [
      "\u001b[1;36m  Cell \u001b[1;32mIn[1], line 1\u001b[1;36m\u001b[0m\n\u001b[1;33m    42 = n\u001b[0m\n\u001b[1;37m    ^\u001b[0m\n\u001b[1;31mSyntaxError\u001b[0m\u001b[1;31m:\u001b[0m cannot assign to literal here. Maybe you meant '==' instead of '='?\n"
     ]
    }
   ],
   "source": [
    "42 = n  \n"
   ]
  },
  {
   "cell_type": "code",
   "execution_count": 3,
   "id": "4e0aef25-c6bf-47ff-bc3a-2e5b2c057a4d",
   "metadata": {},
   "outputs": [
    {
     "name": "stdout",
     "output_type": "stream",
     "text": [
      "x = 1 y = 1\n"
     ]
    }
   ],
   "source": [
    "x = y = 1 \n",
    "print(\"x =\", x, \"y =\", y)"
   ]
  },
  {
   "cell_type": "code",
   "execution_count": 5,
   "id": "95dfe509-1eae-4884-a442-b611dfd30689",
   "metadata": {},
   "outputs": [
    {
     "name": "stdout",
     "output_type": "stream",
     "text": [
      "x = 5\n"
     ]
    }
   ],
   "source": [
    "x = 5;\n",
    "print(\"x =\", x)"
   ]
  },
  {
   "cell_type": "code",
   "execution_count": 11,
   "id": "c512ceb2-3b62-4d0a-884c-c20ea5768aa3",
   "metadata": {},
   "outputs": [],
   "source": [
    "x = 5."
   ]
  },
  {
   "cell_type": "code",
   "execution_count": 13,
   "id": "0695a499-4492-41eb-ae86-e5bcd044e38d",
   "metadata": {},
   "outputs": [
    {
     "ename": "SyntaxError",
     "evalue": "invalid syntax (1040348853.py, line 3)",
     "output_type": "error",
     "traceback": [
      "\u001b[1;36m  Cell \u001b[1;32mIn[13], line 3\u001b[1;36m\u001b[0m\n\u001b[1;33m    result = x y\u001b[0m\n\u001b[1;37m               ^\u001b[0m\n\u001b[1;31mSyntaxError\u001b[0m\u001b[1;31m:\u001b[0m invalid syntax\n"
     ]
    }
   ],
   "source": [
    "X=2\n",
    "y=3\n",
    "result = x y \n",
    "print(\"x y =\", result)"
   ]
  },
  {
   "cell_type": "code",
   "execution_count": 15,
   "id": "1bae985a-e0ee-4fa7-8875-6a03658a5a48",
   "metadata": {},
   "outputs": [
    {
     "name": "stdout",
     "output_type": "stream",
     "text": [
      "Volume of the sphere: 523.5987755982989\n"
     ]
    }
   ],
   "source": [
    "import math\n",
    "\n",
    "r = 5\n",
    "volume = (4/3) * math.pi * r ** 3\n",
    "print(\"Volume of the sphere:\", volume)\n"
   ]
  },
  {
   "cell_type": "code",
   "execution_count": 17,
   "id": "a1e0c036-c069-4e47-9498-983c8bf31783",
   "metadata": {},
   "outputs": [
    {
     "name": "stdout",
     "output_type": "stream",
     "text": [
      "Total wholesale cost for 60 copies: 945.4499999999999\n"
     ]
    }
   ],
   "source": [
    "cover_price = 24.95\n",
    "discount = 0.40\n",
    "discounted_price = cover_price * (1 - discount)\n",
    "first_copy_shipping = 3\n",
    "additional_copy_shipping = 0.75\n",
    "total_copies = 60\n",
    "\n",
    "total_cost = (discounted_price * total_copies) + first_copy_shipping + additional_copy_shipping * (total_copies - 1)\n",
    "print(\"Total wholesale cost for 60 copies:\", total_cost)\n"
   ]
  },
  {
   "cell_type": "code",
   "execution_count": 19,
   "id": "37a490ae-0f04-4c5b-a5e8-fc762defb1a8",
   "metadata": {},
   "outputs": [
    {
     "name": "stdout",
     "output_type": "stream",
     "text": [
      "Time I get home for breakfast: 07:30\n"
     ]
    }
   ],
   "source": [
    "import datetime\n",
    "\n",
    "start_time = datetime.datetime.strptime(\"6:52\", \"%H:%M\")\n",
    "easy_pace = 8.25  # minutes per mile\n",
    "tempo_pace = 7.2  # minutes per mile\n",
    "\n",
    "total_time = easy_pace * 2 + tempo_pace * 3  # 2 miles at easy pace, 3 miles at tempo\n",
    "end_time = start_time + datetime.timedelta(minutes=total_time)\n",
    "\n",
    "print(\"Time I get home for breakfast:\", end_time.strftime(\"%H:%M\"))\n"
   ]
  },
  {
   "cell_type": "code",
   "execution_count": 7,
   "id": "99c6beef-514a-4a71-8a07-c26a006b592e",
   "metadata": {},
   "outputs": [
    {
     "name": "stdout",
     "output_type": "stream",
     "text": [
      "Hello, World!\n",
      "   Goodbye, World!   \n"
     ]
    }
   ],
   "source": [
    "# Strip method removes whitespace from the start and end of a string\n",
    "example = \"   Hello, World!   \"\n",
    "print(example.strip()) \n",
    "\n",
    "# Replace method replaces parts of the string with another string\n",
    "print(example.replace(\"Hello\", \"Goodbye\")) "
   ]
  },
  {
   "cell_type": "code",
   "execution_count": 5,
   "id": "a01a0f7f-074d-4641-a985-d79cfe74fba5",
   "metadata": {},
   "outputs": [
    {
     "name": "stdout",
     "output_type": "stream",
     "text": [
      "3\n"
     ]
    }
   ],
   "source": [
    "# Count method returns the number of occurrences of a substring in the string\n",
    "fruit = 'banana'\n",
    "print(fruit.count('a')) "
   ]
  },
  {
   "cell_type": "code",
   "execution_count": 9,
   "id": "90ea5168-c194-42d6-be38-08d72ec9e925",
   "metadata": {},
   "outputs": [
    {
     "name": "stdout",
     "output_type": "stream",
     "text": [
      "bnn\n",
      "ananab\n",
      "True\n",
      "False\n"
     ]
    }
   ],
   "source": [
    "# Using step in slice notation\n",
    "fruit = 'banana'\n",
    "print(fruit[0:5:2]) \n",
    "\n",
    "# Reversing a string using slice notation\n",
    "print(fruit[::-1])  \n",
    "\n",
    "# Is palindrome check using slicing\n",
    "def is_palindrome(s):\n",
    "    return s == s[::-1]\n",
    "\n",
    "print(is_palindrome(\"radar\"))  \n",
    "print(is_palindrome(\"banana\")) \n"
   ]
  },
  {
   "cell_type": "code",
   "execution_count": 11,
   "id": "fb422077-24b3-4fcc-bb4f-37ea08c45884",
   "metadata": {},
   "outputs": [],
   "source": [
    "def any_lowercase1(s):\n",
    "    for c in s:\n",
    "        if c.islower():\n",
    "            return True\n",
    "        else:\n",
    "            return False"
   ]
  },
  {
   "cell_type": "code",
   "execution_count": 13,
   "id": "99876438-f528-46ac-b24d-14f4dee2dbcb",
   "metadata": {},
   "outputs": [],
   "source": [
    "def any_lowercase2(s):\n",
    "    for c in s:\n",
    "        if 'c'.islower():\n",
    "            return 'True'\n",
    "        else:\n",
    "            return 'False'"
   ]
  },
  {
   "cell_type": "code",
   "execution_count": null,
   "id": "674d8f07-667d-485a-9eea-fa1da37a4025",
   "metadata": {},
   "outputs": [],
   "source": [
    "def any_lowercase3(s):\n",
    "    flag = False\n",
    "    for c in s:\n",
    "        flag = c.islower()\n",
    "    return flag\n"
   ]
  },
  {
   "cell_type": "code",
   "execution_count": null,
   "id": "95587232-bb24-4d10-8090-fc3d4325544c",
   "metadata": {},
   "outputs": [],
   "source": [
    "def any_lowercase4(s):\n",
    "    flag = False\n",
    "    for c in s:\n",
    "        flag = flag or c.islower()\n",
    "    return flag"
   ]
  },
  {
   "cell_type": "code",
   "execution_count": null,
   "id": "cd795b83-9723-4567-801a-fd1f4613a8c5",
   "metadata": {},
   "outputs": [],
   "source": [
    "def any_lowercase5(s):\n",
    "    for c in s:\n",
    "        if not c.islower():\n",
    "            return False\n",
    "    return True"
   ]
  },
  {
   "cell_type": "code",
   "execution_count": 15,
   "id": "47dc9081-da26-45d5-808e-5043ea5f7c54",
   "metadata": {},
   "outputs": [
    {
     "name": "stdout",
     "output_type": "stream",
     "text": [
      "jolly\n",
      "cubed\n",
      "GZK\n"
     ]
    }
   ],
   "source": [
    "def rotate_word(s, n):\n",
    "    rotated = \"\"\n",
    "    for c in s:\n",
    "        if c.isalpha():\n",
    "            shifted = ord(c) + n\n",
    "            if c.islower():\n",
    "                if shifted > ord('z'):\n",
    "                    shifted -= 26\n",
    "                elif shifted < ord('a'):\n",
    "                    shifted += 26\n",
    "            elif c.isupper():\n",
    "                if shifted > ord('Z'):\n",
    "                    shifted -= 26\n",
    "                elif shifted < ord('A'):\n",
    "                    shifted += 26\n",
    "            rotated += chr(shifted)\n",
    "        else:\n",
    "            rotated += c\n",
    "    return rotated\n",
    "\n",
    "# Examples:\n",
    "print(rotate_word(\"cheer\", 7))  \n",
    "print(rotate_word(\"melon\", -10))  \n",
    "print(rotate_word(\"HAL\", -1)) \n"
   ]
  },
  {
   "cell_type": "code",
   "execution_count": 8,
   "id": "2dda5328-4563-4d1c-b1db-90546870c715",
   "metadata": {},
   "outputs": [
    {
     "name": "stderr",
     "output_type": "stream",
     "text": [
      "fatal: not a git repository (or any of the parent directories): .git\n"
     ]
    }
   ],
   "source": [
    "!git checkout -b Lab03"
   ]
  },
  {
   "cell_type": "code",
   "execution_count": 12,
   "id": "f882b8a1-6cba-424b-aae6-ac2efbd82571",
   "metadata": {},
   "outputs": [
    {
     "data": {
      "text/plain": [
       "'C:\\\\Users\\\\dongz'"
      ]
     },
     "execution_count": 12,
     "metadata": {},
     "output_type": "execute_result"
    }
   ],
   "source": [
    "pwd"
   ]
  },
  {
   "cell_type": "code",
   "execution_count": 16,
   "id": "164d50d7-fb34-4319-9b20-81fd4600d74a",
   "metadata": {},
   "outputs": [
    {
     "name": "stdout",
     "output_type": "stream",
     "text": [
      " 驱动器 C 中的卷是 Windows-SSD\n",
      " 卷的序列号是 56BB-1C46\n",
      "\n",
      " C:\\Users\\dongz 的目录\n",
      "\n",
      "2025/02/10  14:50    <DIR>          .\n",
      "2025/01/15  22:42    <DIR>          ..\n",
      "2025/01/13  16:20    <DIR>          .anaconda\n",
      "2025/02/05  16:04             2,469 .bash_history\n",
      "2025/02/10  12:35    <DIR>          .conda\n",
      "2025/01/13  16:20               146 .condarc\n",
      "2025/01/13  16:20    <DIR>          .continuum\n",
      "2025/01/27  15:20                87 .gitconfig\n",
      "2025/01/27  15:36    <DIR>          .idlerc\n",
      "2025/02/10  14:40    <DIR>          .ipynb_checkpoints\n",
      "2025/01/26  21:44    <DIR>          .ipython\n",
      "2025/01/26  21:41    <DIR>          .jupyter\n",
      "2025/01/27  12:15                20 .lesshst\n",
      "2024/10/29  23:46    <DIR>          .matplotlib\n",
      "2025/01/26  23:27    <DIR>          .ssh\n",
      "2025/01/27  16:46             4,651 .viminfo\n",
      "2025/01/26  21:44    <DIR>          .virtual_documents\n",
      "2025/01/26  22:10    <DIR>          .vscode\n",
      "2025/01/26  21:30    <DIR>          anaconda_projects\n",
      "2025/01/13  16:21    <DIR>          anaconda3\n",
      "2025/01/26  22:59    <DIR>          ansel\n",
      "2024/09/02  13:48    <DIR>          Contacts\n",
      "2025/02/06  18:19    <DIR>          Desktop\n",
      "2025/02/03  15:41    <DIR>          Documents\n",
      "2025/02/06  17:15    <DIR>          Downloads\n",
      "2024/09/02  13:48    <DIR>          Favorites\n",
      "2025/01/27  12:24    <DIR>          Lab02\n",
      "2025/02/10  14:50             9,973 Lab03-1.ipynb\n",
      "2024/09/02  13:48    <DIR>          Links\n",
      "2024/09/02  13:48    <DIR>          Music\n",
      "2025/01/09  19:50    <DIR>          OneDrive\n",
      "2024/12/10  11:24    <DIR>          Pictures\n",
      "2025/01/27  16:13    <DIR>          PTUA2025\n",
      "2024/09/02  13:48    <DIR>          Saved Games\n",
      "2024/09/09  10:51    <DIR>          Searches\n",
      "2024/10/14  12:52    <DIR>          Videos\n",
      "2025/02/10  14:35    <DIR>          Zotero\n",
      "               6 个文件         17,346 字节\n",
      "              31 个目录 139,208,744,960 可用字节\n"
     ]
    }
   ],
   "source": [
    "ls"
   ]
  },
  {
   "cell_type": "code",
   "execution_count": 22,
   "id": "2f455d2d-6016-494b-894c-f90101a2a3f9",
   "metadata": {},
   "outputs": [
    {
     "name": "stdout",
     "output_type": "stream",
     "text": [
      "C:\\Users\\dongz\\PTUA2025\n",
      "On branch PTUALab\n",
      "nothing to commit, working tree clean\n"
     ]
    }
   ],
   "source": [
    "%cd PTUA2025\n",
    "!git status"
   ]
  },
  {
   "cell_type": "code",
   "execution_count": 26,
   "id": "330d2f87-06af-4b69-9508-dbaff05291fc",
   "metadata": {},
   "outputs": [
    {
     "name": "stdout",
     "output_type": "stream",
     "text": [
      " 驱动器 C 中的卷是 Windows-SSD\n",
      " 卷的序列号是 56BB-1C46\n",
      "\n",
      " C:\\Users\\dongz\\PTUA2025 的目录\n",
      "\n",
      "2025/01/27  16:13    <DIR>          .\n",
      "2025/02/10  14:56    <DIR>          ..\n",
      "2025/01/27  11:12    <DIR>          Lab01\n",
      "2025/01/27  20:35    <DIR>          Lab02\n",
      "2025/01/27  11:12             1,085 LICENSE\n",
      "2025/01/27  11:12               211 README.md\n",
      "2025/01/27  11:12    <DIR>          WordCountNotebook\n",
      "               2 个文件          1,296 字节\n",
      "               5 个目录 139,199,840,256 可用字节\n"
     ]
    }
   ],
   "source": [
    "ls"
   ]
  },
  {
   "cell_type": "code",
   "execution_count": 28,
   "id": "a1f67904-ccc5-4437-bf39-ff8bf6317cd0",
   "metadata": {},
   "outputs": [
    {
     "name": "stdout",
     "output_type": "stream",
     "text": [
      "C:\\Users\\dongz\n"
     ]
    }
   ],
   "source": [
    "%cd C:\\Users\\dongz"
   ]
  },
  {
   "cell_type": "code",
   "execution_count": null,
   "id": "e980eb36-7f49-4f03-94f1-e2774d33bbb2",
   "metadata": {},
   "outputs": [],
   "source": []
  }
 ],
 "metadata": {
  "kernelspec": {
   "display_name": "Python [conda env:base] *",
   "language": "python",
   "name": "conda-base-py"
  },
  "language_info": {
   "codemirror_mode": {
    "name": "ipython",
    "version": 3
   },
   "file_extension": ".py",
   "mimetype": "text/x-python",
   "name": "python",
   "nbconvert_exporter": "python",
   "pygments_lexer": "ipython3",
   "version": "3.12.7"
  }
 },
 "nbformat": 4,
 "nbformat_minor": 5
}
