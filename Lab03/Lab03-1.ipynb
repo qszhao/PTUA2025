{
 "cells": [
  {
   "cell_type": "code",
   "execution_count": 8,
   "id": "52725763-7ca7-4651-a3e9-363a46c39487",
   "metadata": {},
   "outputs": [],
   "source": [
    "n = 42 # n = 42 is legal"
   ]
  },
  {
   "cell_type": "code",
   "execution_count": 10,
   "id": "a2357fe7-716e-4228-a2b3-3c76dbfc1440",
   "metadata": {},
   "outputs": [
    {
     "ename": "SyntaxError",
     "evalue": "cannot assign to literal here. Maybe you meant '==' instead of '='? (2682809510.py, line 1)",
     "output_type": "error",
     "traceback": [
      "\u001b[1;36m  Cell \u001b[1;32mIn[10], line 1\u001b[1;36m\u001b[0m\n\u001b[1;33m    42 = n # 42 = n is not legal because 42 is a constant and cannot be used as the left-hand side of an assignment.\u001b[0m\n\u001b[1;37m    ^\u001b[0m\n\u001b[1;31mSyntaxError\u001b[0m\u001b[1;31m:\u001b[0m cannot assign to literal here. Maybe you meant '==' instead of '='?\n"
     ]
    }
   ],
   "source": [
    "42 = n # 42 = n is not legal because 42 is a constant and cannot be used as the left-hand side of an assignment."
   ]
  },
  {
   "cell_type": "code",
   "execution_count": 12,
   "id": "e4fd719e-a308-475c-934f-327c8a44ecc6",
   "metadata": {},
   "outputs": [],
   "source": [
    "x = y = 1 # y = 1，x = y"
   ]
  },
  {
   "cell_type": "code",
   "execution_count": 14,
   "id": "a1673f01-a286-476f-a666-7b85ae80d73d",
   "metadata": {},
   "outputs": [
    {
     "name": "stdout",
     "output_type": "stream",
     "text": [
      "3\n"
     ]
    }
   ],
   "source": [
    "x = 1; y = 2; print(x + y);"
   ]
  },
  {
   "cell_type": "code",
   "execution_count": 16,
   "id": "bb63919a-1581-4b38-92eb-7feefed2fd86",
   "metadata": {},
   "outputs": [
    {
     "name": "stdout",
     "output_type": "stream",
     "text": [
      "Hello\n",
      "Bye\n"
     ]
    }
   ],
   "source": [
    "print(\"Hello\");print(\"Bye\");"
   ]
  },
  {
   "cell_type": "code",
   "execution_count": 18,
   "id": "ad7f20c6-9010-40cc-83c5-25eabd1ef630",
   "metadata": {},
   "outputs": [
    {
     "name": "stdout",
     "output_type": "stream",
     "text": [
      "3\n"
     ]
    }
   ],
   "source": [
    "x = 1\n",
    "y = 2\n",
    "print(x + y)"
   ]
  },
  {
   "cell_type": "code",
   "execution_count": 20,
   "id": "f52c70a1-37ff-4ce5-9087-64117f95919c",
   "metadata": {},
   "outputs": [],
   "source": [
    "x = 1."
   ]
  },
  {
   "cell_type": "code",
   "execution_count": 22,
   "id": "3527e398-f478-41c0-b7d8-e88d46890b4f",
   "metadata": {},
   "outputs": [
    {
     "ename": "SyntaxError",
     "evalue": "invalid syntax (512696790.py, line 1)",
     "output_type": "error",
     "traceback": [
      "\u001b[1;36m  Cell \u001b[1;32mIn[22], line 1\u001b[1;36m\u001b[0m\n\u001b[1;33m    print(\"Hello\").\u001b[0m\n\u001b[1;37m                   ^\u001b[0m\n\u001b[1;31mSyntaxError\u001b[0m\u001b[1;31m:\u001b[0m invalid syntax\n"
     ]
    }
   ],
   "source": [
    "print(\"Hello\")."
   ]
  },
  {
   "cell_type": "code",
   "execution_count": 26,
   "id": "b84177f3-04da-4d35-ac2d-ef2a0f3566ff",
   "metadata": {},
   "outputs": [
    {
     "ename": "NameError",
     "evalue": "name 'xy' is not defined",
     "output_type": "error",
     "traceback": [
      "\u001b[1;31m---------------------------------------------------------------------------\u001b[0m",
      "\u001b[1;31mNameError\u001b[0m                                 Traceback (most recent call last)",
      "Cell \u001b[1;32mIn[26], line 3\u001b[0m\n\u001b[0;32m      1\u001b[0m x \u001b[38;5;241m=\u001b[39m \u001b[38;5;241m2\u001b[39m\n\u001b[0;32m      2\u001b[0m y \u001b[38;5;241m=\u001b[39m \u001b[38;5;241m3\u001b[39m\n\u001b[1;32m----> 3\u001b[0m xy\n",
      "\u001b[1;31mNameError\u001b[0m: name 'xy' is not defined"
     ]
    }
   ],
   "source": [
    "x = 2\n",
    "y = 3\n",
    "xy # Wrong way"
   ]
  },
  {
   "cell_type": "code",
   "execution_count": 28,
   "id": "9a6c93c0-a5be-4838-89f7-29e9ab55d98d",
   "metadata": {},
   "outputs": [
    {
     "name": "stdout",
     "output_type": "stream",
     "text": [
      "6\n"
     ]
    }
   ],
   "source": [
    "x = 2\n",
    "y = 3\n",
    "result = x * y\n",
    "print(result)"
   ]
  },
  {
   "cell_type": "code",
   "execution_count": 30,
   "id": "6e9cd261-5b77-4b87-a29d-52827527772e",
   "metadata": {},
   "outputs": [
    {
     "name": "stdout",
     "output_type": "stream",
     "text": [
      "523.5987755982989\n"
     ]
    }
   ],
   "source": [
    "import math\n",
    "r = 5\n",
    "V = (4/3) * math.pi * r**3\n",
    "print(V)"
   ]
  },
  {
   "cell_type": "code",
   "execution_count": 34,
   "id": "86ce3895-7f35-416f-a799-130f53a4bd03",
   "metadata": {},
   "outputs": [
    {
     "name": "stdout",
     "output_type": "stream",
     "text": [
      "945.4499999999999\n"
     ]
    }
   ],
   "source": [
    "price = 24.95\n",
    "discount = 0.6\n",
    "num = 60\n",
    "shipping_first = 3.00\n",
    "shipping_additional = 0.75\n",
    "discounted_price = price * discount\n",
    "book_cost = discounted_price * num\n",
    "shipping_cost = shipping_first + (shipping_additional * (num - 1))\n",
    "wholesale_cost = book_cost + shipping_cost\n",
    "print(wholesale_cost)"
   ]
  },
  {
   "cell_type": "code",
   "execution_count": 44,
   "id": "e84ce0b5-041c-418f-b3f6-bed07163318e",
   "metadata": {},
   "outputs": [
    {
     "name": "stdout",
     "output_type": "stream",
     "text": [
      "Return time: 7:30\n"
     ]
    }
   ],
   "source": [
    "start_time = \"6:52\"\n",
    "easy_pace_time = 8.25\n",
    "tempo_pace_time = 7.2\n",
    "total_run_time = (easy_pace_time * 2) + (tempo_pace_time * 3)\n",
    "hours = int(total_run_time // 60)\n",
    "minutes = int(total_run_time % 60)\n",
    "end_time_hours = 6 + hours + ((52 + minutes) // 60)\n",
    "end_time_minutes = (52 + minutes) % 60\n",
    "print(f\"Return time: {end_time_hours}:{end_time_minutes:02d}\")"
   ]
  },
  {
   "cell_type": "code",
   "execution_count": 60,
   "id": "04d98f5d-d0ee-42b6-8d89-2771cf1d27e3",
   "metadata": {},
   "outputs": [
    {
     "name": "stdout",
     "output_type": "stream",
     "text": [
      "hello\n"
     ]
    }
   ],
   "source": [
    "text = \"            hello              \"\n",
    "print(text.strip())"
   ]
  },
  {
   "cell_type": "code",
   "execution_count": 50,
   "id": "12f65db5-002f-41d9-9d68-f170d22c6fbd",
   "metadata": {},
   "outputs": [
    {
     "name": "stdout",
     "output_type": "stream",
     "text": [
      "hello Python\n"
     ]
    }
   ],
   "source": [
    "text = \"hello world\"\n",
    "print(text.replace(\"world\", \"Python\"))"
   ]
  },
  {
   "cell_type": "code",
   "execution_count": 54,
   "id": "cd7f1a3d-4119-4589-99f0-52d65673d02a",
   "metadata": {},
   "outputs": [
    {
     "name": "stdout",
     "output_type": "stream",
     "text": [
      "3\n"
     ]
    }
   ],
   "source": [
    "fruit = 'banana'\n",
    "print(fruit.count('a'))"
   ]
  },
  {
   "cell_type": "code",
   "execution_count": 58,
   "id": "83fb9d05-9128-4fff-8ef8-433bc0564e32",
   "metadata": {},
   "outputs": [
    {
     "name": "stdout",
     "output_type": "stream",
     "text": [
      "False\n",
      "True\n"
     ]
    }
   ],
   "source": [
    "def is_palindrome(s):\n",
    "    return s == s[::-1]\n",
    "print(is_palindrome(\"hello\")) \n",
    "print(is_palindrome(\"pop\"))"
   ]
  },
  {
   "cell_type": "code",
   "execution_count": null,
   "id": "754f8b15-d4f0-4dff-92df-1c75a712950e",
   "metadata": {},
   "outputs": [],
   "source": [
    "# any_lowercase1(s): Incorrectly checks only the first character, returning immediately if it's lowercase or not lowercase.\n",
    "# any_lowercase2(s): Always returns 'True' because 'c'.islower() is always true, completely ignoring the input string.\n",
    "# any_lowercase3(s): Only returns the lowercase status of the last character, effectively losing information about previous characters.\n",
    "# any_lowercase4(s): Correctly checks if any character is lowercase by using logical OR, working as intended.\n",
    "# any_lowercase5(s): Checks if ALL characters are lowercase, which is the opposite of finding if ANY character is lowercase.\n",
    "# Only any_lowercase4 correctly solves the problem of detecting lowercase letters in a string."
   ]
  },
  {
   "cell_type": "code",
   "execution_count": 72,
   "id": "b92985f2-db7d-40ed-b652-4f3e07e44f47",
   "metadata": {},
   "outputs": [
    {
     "name": "stdout",
     "output_type": "stream",
     "text": [
      "jolly\n",
      "cubed\n"
     ]
    }
   ],
   "source": [
    "def rotate_word(word, rotation):\n",
    "    rotated = ''\n",
    "    for char in word:\n",
    "        if char.isalpha():\n",
    "            # Determine base (lowercase or uppercase)\n",
    "            base = 'a' if char.islower() else 'A'\n",
    "            # Rotate the character\n",
    "            rotated_char = chr((ord(char) - ord(base) + rotation) % 26 + ord(base))\n",
    "            rotated += rotated_char\n",
    "        else:\n",
    "            rotated += char\n",
    "    return rotated\n",
    "print(rotate_word('cheer', 7))\n",
    "print(rotate_word('melon', -10))"
   ]
  }
 ],
 "metadata": {
  "kernelspec": {
   "display_name": "Python [conda env:base] *",
   "language": "python",
   "name": "conda-base-py"
  },
  "language_info": {
   "codemirror_mode": {
    "name": "ipython",
    "version": 3
   },
   "file_extension": ".py",
   "mimetype": "text/x-python",
   "name": "python",
   "nbconvert_exporter": "python",
   "pygments_lexer": "ipython3",
   "version": "3.12.7"
  }
 },
 "nbformat": 4,
 "nbformat_minor": 5
}
