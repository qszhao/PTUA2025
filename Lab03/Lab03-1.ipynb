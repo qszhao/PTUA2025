{
 "cells": [
  {
   "cell_type": "code",
   "execution_count": 1,
   "id": "7f13018b",
   "metadata": {},
   "outputs": [
    {
     "ename": "SyntaxError",
     "evalue": "cannot assign to literal (<ipython-input-1-a6535184637d>, line 3)",
     "output_type": "error",
     "traceback": [
      "\u001b[1;36m  File \u001b[1;32m\"<ipython-input-1-a6535184637d>\"\u001b[1;36m, line \u001b[1;32m3\u001b[0m\n\u001b[1;33m    42 = n\u001b[0m\n\u001b[1;37m    ^\u001b[0m\n\u001b[1;31mSyntaxError\u001b[0m\u001b[1;31m:\u001b[0m cannot assign to literal\n"
     ]
    }
   ],
   "source": [
    "#Chapter 2 Exercise 1\n",
    "# 1. We’ve seen that n = 42 is legal. What about 42 = n?\n",
    "42 = n\n",
    "# Answer: 42 = n is illegal."
   ]
  },
  {
   "cell_type": "code",
   "execution_count": 2,
   "id": "8bf7d515",
   "metadata": {},
   "outputs": [
    {
     "name": "stdout",
     "output_type": "stream",
     "text": [
      "1 1\n"
     ]
    }
   ],
   "source": [
    "# 2. How about x = y = 1?\n",
    "x = y = 1\n",
    "print(x, y)\n",
    "# Answer: x = y = 1 is legal."
   ]
  },
  {
   "cell_type": "code",
   "execution_count": 3,
   "id": "8ca566d7",
   "metadata": {},
   "outputs": [
    {
     "name": "stdout",
     "output_type": "stream",
     "text": [
      "1\n"
     ]
    }
   ],
   "source": [
    "# 3. In some languages every statement ends with a semi-colon, ;. What happens if you put a semi-colon at the end of a Python statement?\n",
    "# Answer: This code will not throw an error and the semi-colon will be ignored such as the following code.\n",
    "print(x);\n"
   ]
  },
  {
   "cell_type": "code",
   "execution_count": 4,
   "id": "7fb6a3c4",
   "metadata": {},
   "outputs": [
    {
     "ename": "SyntaxError",
     "evalue": "invalid syntax (<ipython-input-4-f094dba3a236>, line 2)",
     "output_type": "error",
     "traceback": [
      "\u001b[1;36m  File \u001b[1;32m\"<ipython-input-4-f094dba3a236>\"\u001b[1;36m, line \u001b[1;32m2\u001b[0m\n\u001b[1;33m    print(\"aa\").\u001b[0m\n\u001b[1;37m                ^\u001b[0m\n\u001b[1;31mSyntaxError\u001b[0m\u001b[1;31m:\u001b[0m invalid syntax\n"
     ]
    }
   ],
   "source": [
    "# 4. What if you put a period at the end of a statement?\n",
    "print(\"aa\").\n",
    "# Answer:This code will throw an error.\n"
   ]
  },
  {
   "cell_type": "code",
   "execution_count": 5,
   "id": "128b18e0",
   "metadata": {},
   "outputs": [
    {
     "name": "stdout",
     "output_type": "stream",
     "text": [
      "2\n"
     ]
    },
    {
     "ename": "NameError",
     "evalue": "name 'xy' is not defined",
     "output_type": "error",
     "traceback": [
      "\u001b[1;31m---------------------------------------------------------------------------\u001b[0m",
      "\u001b[1;31mNameError\u001b[0m                                 Traceback (most recent call last)",
      "\u001b[1;32m<ipython-input-5-912d615db8ea>\u001b[0m in \u001b[0;36m<module>\u001b[1;34m\u001b[0m\n\u001b[0;32m      3\u001b[0m \u001b[0my\u001b[0m \u001b[1;33m=\u001b[0m \u001b[1;36m2\u001b[0m\u001b[1;33m\u001b[0m\u001b[1;33m\u001b[0m\u001b[0m\n\u001b[0;32m      4\u001b[0m \u001b[0mprint\u001b[0m\u001b[1;33m(\u001b[0m\u001b[0mx\u001b[0m \u001b[1;33m*\u001b[0m \u001b[0my\u001b[0m\u001b[1;33m)\u001b[0m\u001b[1;33m\u001b[0m\u001b[1;33m\u001b[0m\u001b[0m\n\u001b[1;32m----> 5\u001b[1;33m \u001b[0mprint\u001b[0m\u001b[1;33m(\u001b[0m\u001b[0mxy\u001b[0m\u001b[1;33m)\u001b[0m\u001b[1;33m\u001b[0m\u001b[1;33m\u001b[0m\u001b[0m\n\u001b[0m\u001b[0;32m      6\u001b[0m \u001b[1;31m# Answer: This code will throw an error. Multiplying x and y should be: x * y.\u001b[0m\u001b[1;33m\u001b[0m\u001b[1;33m\u001b[0m\u001b[1;33m\u001b[0m\u001b[0m\n",
      "\u001b[1;31mNameError\u001b[0m: name 'xy' is not defined"
     ]
    }
   ],
   "source": [
    "# 5. In math notation you can multiply x and y like this: x y. What happens if you try that in Python?\n",
    "x = 1\n",
    "y = 2\n",
    "print(x * y)\n",
    "print(xy)\n",
    "# Answer: This code will throw an error. Multiplying x and y should be: x * y."
   ]
  },
  {
   "cell_type": "code",
   "execution_count": 6,
   "id": "33140eb4",
   "metadata": {},
   "outputs": [
    {
     "name": "stdout",
     "output_type": "stream",
     "text": [
      "The volume of a sphere with radius 5 is: 523.5987755982989\n"
     ]
    }
   ],
   "source": [
    "# Chapter 2 Exercise 2\n",
    "import math\n",
    "# 1. The volume of a sphere with radius r is 4/3 π r3. What is the volume of a sphere with radius 5?\n",
    "volume = math.pi * 4 * 5 * 5 * 5 / 3\n",
    "print(\"The volume of a sphere with radius 5 is: \" + str(volume))\n"
   ]
  },
  {
   "cell_type": "code",
   "execution_count": 7,
   "id": "b9cd2d14",
   "metadata": {},
   "outputs": [
    {
     "name": "stdout",
     "output_type": "stream",
     "text": [
      "The total wholesale for 60 copies is: 945.4499999999999\n"
     ]
    }
   ],
   "source": [
    "# 2. Suppose the cover price of a book is $24.95, but bookstores get a 40% discount. Shipping costs $3 for the first copy and 75 cents for each additional copy. What is the total wholesale cost for 60 copies?\n",
    "total = 24.95 * 60 * 0.6 + 3 + 59 * 0.75\n",
    "print(\"The total wholesale for 60 copies is: \" + str(total))\n"
   ]
  },
  {
   "cell_type": "code",
   "execution_count": 8,
   "id": "ee0ea0f7",
   "metadata": {},
   "outputs": [
    {
     "name": "stdout",
     "output_type": "stream",
     "text": [
      "I get home for breakfast at: 07:30:06 AM\n"
     ]
    }
   ],
   "source": [
    "# 3. If I leave my house at 6:52 am and run 1 mile at an easy pace (8:15 per mile), then 3 miles at tempo (7:12 per mile) and 1 mile at easy pace again, what time do I get home for breakfast?\n",
    "from datetime import datetime, timedelta\n",
    "easy = timedelta(minutes=8, seconds=15)\n",
    "tempo = timedelta(minutes=7, seconds=12)\n",
    "time_total = 2 * easy + 3 * tempo\n",
    "start = datetime.strptime(\"6:52\", \"%H:%M\")\n",
    "finish = start + time_total\n",
    "print(\"I get home for breakfast at: \" + finish.strftime(\"%H:%M:%S %p\"))\n",
    "\n"
   ]
  },
  {
   "cell_type": "code",
   "execution_count": 9,
   "id": "37e9ed5c",
   "metadata": {},
   "outputs": [
    {
     "name": "stdout",
     "output_type": "stream",
     "text": [
      "she's dreaming.\n",
      "   She's dreaming.\n",
      "9\n"
     ]
    }
   ],
   "source": [
    "# Chapter 8 Exercise 1\n",
    "string_1 = \"   she's dreaming.\"\n",
    "print(string_1.strip())\n",
    "print(string_1.replace(\"she's\", \"She's\"))\n",
    "print(string_1.find(\"dreaming\"))\n",
    "\n"
   ]
  },
  {
   "cell_type": "code",
   "execution_count": 28,
   "id": "a598981a",
   "metadata": {},
   "outputs": [
    {
     "name": "stdout",
     "output_type": "stream",
     "text": [
      "3\n"
     ]
    }
   ],
   "source": [
    "# Chapter 8 Exercise 2\n",
    "string_2 = \"banana\"\n",
    "print(string_2.count(\"a\"))\n",
    "\n"
   ]
  },
  {
   "cell_type": "code",
   "execution_count": 1,
   "id": "a350caf7",
   "metadata": {},
   "outputs": [
    {
     "name": "stdout",
     "output_type": "stream",
     "text": [
      "False\n"
     ]
    }
   ],
   "source": [
    "# Chapter 8 Exercise 3\n",
    "def is_palindrome(s):\n",
    "    return s == s[::-1]\n",
    "print(is_palindrome(\"abcda\"))"
   ]
  },
  {
   "cell_type": "code",
   "execution_count": 3,
   "id": "2800f4b6",
   "metadata": {},
   "outputs": [
    {
     "name": "stdout",
     "output_type": "stream",
     "text": [
      "True\n",
      "True\n",
      "True\n",
      "True\n",
      "True\n"
     ]
    }
   ],
   "source": [
    "# Chapter 8 Exercise 4\n",
    "def any_lowercase1(s):\n",
    "    for c in s:\n",
    "        if c.islower():\n",
    "            return True\n",
    "        else:\n",
    "            return False\n",
    "print(any_lowercase1(\"aaAAA\"))\n",
    "# This just can check the first letter.\n",
    "\n",
    "def any_lowercase2(s):\n",
    "    for c in s:\n",
    "        if 'c'.islower():\n",
    "            return 'True'\n",
    "        else:\n",
    "            return 'False'\n",
    "print(any_lowercase2(\"aaaaa\"))     \n",
    "# \"c\"is always lower. Not check the status of the input string.\n",
    "\n",
    "def any_lowercase3(s):\n",
    "    for c in s:\n",
    "        flag = c.islower()\n",
    "    return flag\n",
    "print(any_lowercase3(\"AAAaa\"))\n",
    "# It only returns the status of the last letter.\n",
    "\n",
    "def any_lowercase4(s):\n",
    "    flag = False\n",
    "    for c in s:\n",
    "        flag = flag or c.islower()\n",
    "    return flag\n",
    "print(any_lowercase4(\"aaaaaa\"))\n",
    "# Correct.\n",
    "\n",
    "def any_lowercase5(s):\n",
    "    for c in s:\n",
    "        if not c.islower():\n",
    "            return False\n",
    "    return True\n",
    "print(any_lowercase5(\"aaaa\"))\n",
    "# Correct."
   ]
  },
  {
   "cell_type": "code",
   "execution_count": 10,
   "id": "59665836",
   "metadata": {},
   "outputs": [
    {
     "name": "stdout",
     "output_type": "stream",
     "text": [
      "def\n",
      "YZA\n",
      "Tlwyfga\n"
     ]
    }
   ],
   "source": [
    "# Chapter 8 Exercise 5\n",
    "def rotate_word(string, int):\n",
    "    result = \"\"\n",
    "    for i in string:\n",
    "        if i.isupper():\n",
    "            start = ord('A')\n",
    "        else:\n",
    "            start = ord('a')\n",
    "        new_char = chr(start + (ord(i) - start + int) % 26)\n",
    "        result += new_char\n",
    "    return result\n",
    "print(rotate_word(\"abc\", 3))\n",
    "print(rotate_word(\"ABC\", -2))\n",
    "print(rotate_word(\"Asdfmnh\", -7))"
   ]
  }
 ],
 "metadata": {
  "kernelspec": {
   "display_name": "Python 3",
   "language": "python",
   "name": "python3"
  },
  "language_info": {
   "codemirror_mode": {
    "name": "ipython",
    "version": 3
   },
   "file_extension": ".py",
   "mimetype": "text/x-python",
   "name": "python",
   "nbconvert_exporter": "python",
   "pygments_lexer": "ipython3",
   "version": "3.8.8"
  }
 },
 "nbformat": 4,
 "nbformat_minor": 5
}
