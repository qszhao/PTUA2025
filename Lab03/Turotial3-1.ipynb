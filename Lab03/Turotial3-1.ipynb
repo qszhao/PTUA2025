{
 "cells": [
  {
   "cell_type": "markdown",
   "id": "baa7f8d8-05b1-45aa-a3d8-4f13b68e61a0",
   "metadata": {},
   "source": [
    "## Chapter2"
   ]
  },
  {
   "cell_type": "code",
   "execution_count": 12,
   "id": "43771b63-5739-4319-be38-975de3c23dcf",
   "metadata": {},
   "outputs": [
    {
     "ename": "SyntaxError",
     "evalue": "cannot assign to literal here. Maybe you meant '==' instead of '='? (3090476294.py, line 1)",
     "output_type": "error",
     "traceback": [
      "\u001b[1;36m  Cell \u001b[1;32mIn[12], line 1\u001b[1;36m\u001b[0m\n\u001b[1;33m    42 = n\u001b[0m\n\u001b[1;37m    ^\u001b[0m\n\u001b[1;31mSyntaxError\u001b[0m\u001b[1;31m:\u001b[0m cannot assign to literal here. Maybe you meant '==' instead of '='?\n"
     ]
    }
   ],
   "source": [
    "#Exercise1\n",
    "42 = n"
   ]
  },
  {
   "cell_type": "code",
   "execution_count": 14,
   "id": "80be2b12-d1c8-4deb-8ba8-6ecd416a41d0",
   "metadata": {},
   "outputs": [],
   "source": [
    "x = y = 1"
   ]
  },
  {
   "cell_type": "code",
   "execution_count": 16,
   "id": "a2304cb3-0319-4a4b-9eac-c12f7b6126c7",
   "metadata": {},
   "outputs": [
    {
     "ename": "SyntaxError",
     "evalue": "invalid syntax (1567273689.py, line 1)",
     "output_type": "error",
     "traceback": [
      "\u001b[1;36m  Cell \u001b[1;32mIn[16], line 1\u001b[1;36m\u001b[0m\n\u001b[1;33m    x y\u001b[0m\n\u001b[1;37m      ^\u001b[0m\n\u001b[1;31mSyntaxError\u001b[0m\u001b[1;31m:\u001b[0m invalid syntax\n"
     ]
    }
   ],
   "source": [
    "x y"
   ]
  },
  {
   "cell_type": "code",
   "execution_count": 2,
   "id": "2b7235f7-5151-40df-8064-4b374ac4e424",
   "metadata": {},
   "outputs": [
    {
     "name": "stdout",
     "output_type": "stream",
     "text": [
      "523.5987755982989\n"
     ]
    }
   ],
   "source": [
    "#Exercise2\n",
    "##计算半径为5的球体的体积\n",
    "import math\n",
    "r = 5\n",
    "V = (4/3) * math.pi * r**3\n",
    "print(V)"
   ]
  },
  {
   "cell_type": "code",
   "execution_count": 6,
   "id": "b916ece8-ff10-47f7-87e1-6f5f74e41da2",
   "metadata": {},
   "outputs": [
    {
     "name": "stdout",
     "output_type": "stream",
     "text": [
      "945.4499999999999\n"
     ]
    }
   ],
   "source": [
    "##计算60本书的批发总成本\n",
    "cover_price = 24.95\n",
    "discount = 0.4\n",
    "shipping_firstbook = 3\n",
    "shippingadditional_perbook = 0.75\n",
    "number = 60\n",
    "\n",
    "#60本书的总批发价格\n",
    "wholesale_prices = cover_price * (1 - discount) * number\n",
    "#60本书的总运费\n",
    "shipping_cost = shipping_firstbook + ( number - 1) * shippingadditional_perbook\n",
    "#总成本=总批发价格+总运费\n",
    "total_cost = wholesale_prices + shipping_cost\n",
    "\n",
    "print(total_cost)"
   ]
  },
  {
   "cell_type": "code",
   "execution_count": 10,
   "id": "8a86b65a-4062-4d79-85ae-a9cd39aaf341",
   "metadata": {},
   "outputs": [
    {
     "name": "stdout",
     "output_type": "stream",
     "text": [
      "07:30\n"
     ]
    }
   ],
   "source": [
    "##计算回家吃早饭的时间\n",
    "\n",
    "from datetime import datetime, timedelta\n",
    "\n",
    "easy_pace = timedelta(minutes=8, seconds=15)\n",
    "tempo_pace = timedelta(minutes=7, seconds=12)\n",
    "departure_time = datetime.strptime(\"06:52\", \"%H:%M\")\n",
    "#总跑步时间\n",
    "totaltime_running = easy_pace * 1 + tempo_pace * 3 + easy_pace * 1\n",
    "#回家时间\n",
    "arrival_time = departure_time + totaltime_running\n",
    "Time = arrival_time.strftime(\"%H:%M\")\n",
    "print(Time)"
   ]
  },
  {
   "cell_type": "markdown",
   "id": "17ad6254-b573-4f6c-a295-592f93b27466",
   "metadata": {},
   "source": [
    "## Chapter8"
   ]
  },
  {
   "cell_type": "code",
   "execution_count": 20,
   "id": "26fba0c3-2b2c-4cd5-9839-9a4f09967b67",
   "metadata": {},
   "outputs": [
    {
     "name": "stdout",
     "output_type": "stream",
     "text": [
      "3\n"
     ]
    }
   ],
   "source": [
    "#Exercise2\n",
    "##将此代码封装在名为count的函数中\n",
    "def count(word, letter):\n",
    "    count = 0\n",
    "    for char in word:\n",
    "        if char == letter:\n",
    "            count += 1\n",
    "    return count\n",
    "word = 'banana'\n",
    "letter = 'a'\n",
    "print(count(word, letter))"
   ]
  },
  {
   "cell_type": "code",
   "execution_count": 22,
   "id": "e7cfcef6-191f-4f38-9d23-104c89a71284",
   "metadata": {},
   "outputs": [],
   "source": [
    "#Exercise3\n",
    "is_palindrome = lambda s: s == s[::-1]"
   ]
  },
  {
   "cell_type": "code",
   "execution_count": null,
   "id": "ee53fa2b-9770-49dc-b9b8-6d15fc1a8024",
   "metadata": {},
   "outputs": [],
   "source": [
    "#Exercise4\n",
    "any_lowercase1:\n",
    "def any_lowercase1(s):\n",
    "    for c in s:\n",
    "        if c.islower():\n",
    "            return True\n",
    "        else:\n",
    "            return False\n",
    "#这串代码的作用只检查第一个字符。如果第一个字符是小写字母，就返回 True。\n",
    "#如果第一个字符不是小写字母，它立即返回 False，这是不对的。它应该检查整个字符串中的所有字符。\n",
    "\n",
    "any_lowercase2:\n",
    "def any_lowercase2(s):\n",
    "    for c in s:\n",
    "        if 'c'.islower():\n",
    "            return 'True'\n",
    "        else:\n",
    "            return 'False'\n",
    "#这串代码的条件是 'c'.islower() 检查字符 'c' 是否是小写字母（它确实是），但它并没有使用 c 变量。\n",
    "#因此这个函数只是在检查'c'这一个字符串，而不是字符串 s 的每一个字符 c 。\n",
    "\n",
    "#any_lowercase3:\n",
    "def any_lowercase3(s):\n",
    "    for c in s:\n",
    "        flag = c.islower()\n",
    "    return flag\n",
    "#这串代码的函数只检查最后一个字符是否是小写字母，并将结果赋给 flag。\n",
    "#它只返回最后一个字符是否是小写字母，因为前面检查的字符结果会被覆盖。\n",
    "\n",
    "#any_lowercase4:\n",
    "def any_lowercase4(s):\n",
    "    flag = False\n",
    "    for c in s: #表示循环遍历s中的每个字符c\n",
    "        flag = flag or c.islower()\n",
    "    return flag\n",
    "#这个是正确的\n",
    "#如果字符串中至少有一个小写字母，它会返回 True；如果没有小写字母，会返回False\n",
    "\n",
    "#any_lowercase5:\n",
    "def any_lowercase5(s):\n",
    "    for c in s:\n",
    "        if not c.islower():\n",
    "            return False\n",
    "    return True\n",
    "#如果有任何一个字符不是小写字母，它会立即返回 False。只有全部字母都是小写字母时会返回True。"
   ]
  },
  {
   "cell_type": "code",
   "execution_count": 41,
   "id": "ea106b7a-19d2-46cd-99b2-af859b96298a",
   "metadata": {},
   "outputs": [
    {
     "name": "stdout",
     "output_type": "stream",
     "text": [
      "jolly\n"
     ]
    }
   ],
   "source": [
    "#Exercise5\n",
    "def rotate_word(word, n):\n",
    "    rotated_word = ''\n",
    "    for char in word:\n",
    "        if char.islower():\n",
    "            rotated_word += chr((ord(char) - ord('a') + n) % 26 + ord('a'))\n",
    "        elif char.isupper():\n",
    "            rotated_word += chr((ord(char) - ord('A') + n) % 26 + ord('A'))\n",
    "        else:\n",
    "            rotated_word += char\n",
    "    return rotated_word\n",
    "print(rotate_word('cheer', 7))\n",
    "# rotate_word('cheer', 7)\n"
   ]
  },
  {
   "cell_type": "code",
   "execution_count": null,
   "id": "4f80922b-ab85-4c96-8b88-d1fe3bdb5561",
   "metadata": {},
   "outputs": [],
   "source": []
  }
 ],
 "metadata": {
  "kernelspec": {
   "display_name": "Python [conda env:base] *",
   "language": "python",
   "name": "conda-base-py"
  },
  "language_info": {
   "codemirror_mode": {
    "name": "ipython",
    "version": 3
   },
   "file_extension": ".py",
   "mimetype": "text/x-python",
   "name": "python",
   "nbconvert_exporter": "python",
   "pygments_lexer": "ipython3",
   "version": "3.12.7"
  }
 },
 "nbformat": 4,
 "nbformat_minor": 5
}
