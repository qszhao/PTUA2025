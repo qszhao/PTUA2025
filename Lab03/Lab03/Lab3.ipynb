{
 "cells": [
  {
   "cell_type": "code",
   "execution_count": 1,
   "id": "07019c6f-98df-4e26-a0d0-793a112eacb2",
   "metadata": {},
   "outputs": [
    {
     "ename": "SyntaxError",
     "evalue": "cannot assign to literal here. Maybe you meant '==' instead of '='? (3090476294.py, line 1)",
     "output_type": "error",
     "traceback": [
      "\u001b[1;36m  Cell \u001b[1;32mIn[1], line 1\u001b[1;36m\u001b[0m\n\u001b[1;33m    42 = n\u001b[0m\n\u001b[1;37m    ^\u001b[0m\n\u001b[1;31mSyntaxError\u001b[0m\u001b[1;31m:\u001b[0m cannot assign to literal here. Maybe you meant '==' instead of '='?\n"
     ]
    }
   ],
   "source": [
    "42 = n"
   ]
  },
  {
   "cell_type": "code",
   "execution_count": 2,
   "id": "459527ca-07ff-4214-b614-ea4e1ba64656",
   "metadata": {},
   "outputs": [],
   "source": [
    "x = y = 1"
   ]
  },
  {
   "cell_type": "code",
   "execution_count": 3,
   "id": "986f033c-62c0-4507-a570-c6a5da19ee72",
   "metadata": {},
   "outputs": [
    {
     "data": {
      "text/plain": [
       "1"
      ]
     },
     "execution_count": 3,
     "metadata": {},
     "output_type": "execute_result"
    }
   ],
   "source": [
    "x * y"
   ]
  },
  {
   "cell_type": "code",
   "execution_count": 4,
   "id": "d0c94eaf-e50f-4cf2-8b72-7586daface82",
   "metadata": {},
   "outputs": [
    {
     "name": "stdout",
     "output_type": "stream",
     "text": [
      "523.5987755982989\n"
     ]
    }
   ],
   "source": [
    "# Exercise 2-1\n",
    "import math\n",
    "r = 5\n",
    "v = 4/3*math.pi*r**3\n",
    "print(v)"
   ]
  },
  {
   "cell_type": "code",
   "execution_count": 5,
   "id": "afb60cfe-a8c4-4c04-8d30-3ed1df152a1b",
   "metadata": {},
   "outputs": [
    {
     "name": "stdout",
     "output_type": "stream",
     "text": [
      "945.4499999999999\n"
     ]
    }
   ],
   "source": [
    "# Exercise 2-2\n",
    "n = 60\n",
    "book = 24.95*(1-0.4)*n\n",
    "shipping = 3 + 0.75*(n-1)\n",
    "total = book + shipping\n",
    "print(total)"
   ]
  },
  {
   "cell_type": "code",
   "execution_count": 6,
   "id": "5a117a01-d4da-419b-8ee8-9054be356f3d",
   "metadata": {},
   "outputs": [
    {
     "name": "stdout",
     "output_type": "stream",
     "text": [
      "go home time: 7:30 am\n"
     ]
    }
   ],
   "source": [
    "# Exercise 2-3\n",
    "start_hour = 6\n",
    "start_minute = 52\n",
    "\n",
    "easy_pace_minutes = 8 * 1 + 15/60 \n",
    "tempo_pace_minutes = 7 * 1 + 12/60 \n",
    "\n",
    "total_minutes = easy_pace_minutes * 2 + tempo_pace_minutes * 3\n",
    "\n",
    "final_minutes = start_minute + total_minutes\n",
    "final_hour = start_hour + final_minutes // 60\n",
    "final_minutes = final_minutes % 60\n",
    "\n",
    "print(f\"go home time: {int(final_hour)}:{int(final_minutes):02d} am\")"
   ]
  },
  {
   "cell_type": "code",
   "execution_count": 7,
   "id": "f896ee4a-7b98-4a5d-aa0d-c72b86152c3b",
   "metadata": {},
   "outputs": [
    {
     "name": "stdout",
     "output_type": "stream",
     "text": [
      "3\n"
     ]
    }
   ],
   "source": [
    "# Exercises 8-2\n",
    "def count_letter(word, target):\n",
    "   count = 0\n",
    "   for letter in word:\n",
    "       if letter == target:\n",
    "           count = count + 1\n",
    "   return count\n",
    "\n",
    "print(count_letter('banana', 'a')) "
   ]
  },
  {
   "cell_type": "code",
   "execution_count": 8,
   "id": "0c36b736-8442-45c0-bd94-42d29d65065b",
   "metadata": {},
   "outputs": [
    {
     "name": "stdout",
     "output_type": "stream",
     "text": [
      "True\n",
      "False\n"
     ]
    }
   ],
   "source": [
    "# Exercises 8-3\n",
    "def is_palindrome(word):\n",
    "    return word == word[::-1] \n",
    "\n",
    " #test\n",
    "print(is_palindrome('radar')) \n",
    "print(is_palindrome('hello')) "
   ]
  },
  {
   "cell_type": "code",
   "execution_count": 9,
   "id": "f9fd1bef-e6e2-4413-85d6-7b27875cb8f9",
   "metadata": {},
   "outputs": [],
   "source": [
    "# Exercises 8-4\n",
    "def any_lowercase1(s):\n",
    "    for c in s:\n",
    "        if c.islower():\n",
    "            return True\n",
    "        else:\n",
    "            return False\n",
    "#Only check the first character, if the first character lowercase return True, otherwise False.\n",
    "\n",
    "def any_lowercase2(s):\n",
    "    for c in s:\n",
    "        if 'c'.islower():\n",
    "            return 'True'\n",
    "        else:\n",
    "            return 'False'\n",
    "#Instead of checking the input string, it only checks if the character 'c' is lowercase and always returns 'True'.\n",
    "\n",
    "def any_lowercase3(s):\n",
    "    for c in s:\n",
    "        flag = c.islower()\n",
    "    return flag\n",
    "#Iterates through the entire string, keeping only the last character checked.\n",
    "\n",
    "def any_lowercase4(s):\n",
    "    flag = False\n",
    "    for c in s:\n",
    "        flag = flag or c.islower()\n",
    "    return flag\n",
    "#Returns True whenever there is a lowercase letter.\n",
    "\n",
    "def any_lowercase5(s):\n",
    "    for c in s:\n",
    "        if not c.islower():\n",
    "            return False\n",
    "    return True\n",
    "#Checks if all are lowercase, and immediately returns False if it encounters a letter that is not lowercase."
   ]
  },
  {
   "cell_type": "code",
   "execution_count": 10,
   "id": "27772673-2f3f-484c-bb11-361818ab11d8",
   "metadata": {},
   "outputs": [
    {
     "name": "stdout",
     "output_type": "stream",
     "text": [
      "olssv\n",
      "xqffo\n"
     ]
    }
   ],
   "source": [
    "# Exercises 8-5\n",
    "def rotate_word(word, rotation):\n",
    "   result = ''\n",
    "   for letter in word:\n",
    "       ascii_code = ord(letter)\n",
    "       if ord('a') <= ascii_code <= ord('z'):\n",
    "           new_code = (ascii_code - ord('a') + rotation) % 26 + ord('a')\n",
    "       elif ord('A') <= ascii_code <= ord('Z'):\n",
    "           new_code = (ascii_code - ord('A') + rotation) % 26 + ord('A')\n",
    "       else:\n",
    "           new_code = ascii_code\n",
    "           \n",
    "       result += chr(new_code)\n",
    "   return result\n",
    "\n",
    "# Test\n",
    "print(rotate_word('hello', 7)) \n",
    "print(rotate_word('happy', -10))  "
   ]
  }
 ],
 "metadata": {
  "kernelspec": {
   "display_name": "Python 3 (ipykernel)",
   "language": "python",
   "name": "python3"
  },
  "language_info": {
   "codemirror_mode": {
    "name": "ipython",
    "version": 3
   },
   "file_extension": ".py",
   "mimetype": "text/x-python",
   "name": "python",
   "nbconvert_exporter": "python",
   "pygments_lexer": "ipython3",
   "version": "3.12.7"
  }
 },
 "nbformat": 4,
 "nbformat_minor": 5
}
