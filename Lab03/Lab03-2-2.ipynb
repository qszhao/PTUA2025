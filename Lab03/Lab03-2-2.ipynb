{
 "cells": [
  {
   "cell_type": "code",
   "execution_count": 6,
   "id": "56e380ff-3d91-4e86-b382-a038eaa14d59",
   "metadata": {},
   "outputs": [
    {
     "name": "stdout",
     "output_type": "stream",
     "text": [
      "Convergence Criterion: 0.01\n",
      "Average Draws: 34.10\n",
      "Standard Deviation: 44.36\n",
      "----------------------------------------\n",
      "Convergence Criterion: 0.001\n",
      "Average Draws: 336.70\n",
      "Standard Deviation: 448.19\n",
      "----------------------------------------\n",
      "Convergence Criterion: 0.0001\n",
      "Average Draws: 3276.10\n",
      "Standard Deviation: 4532.27\n",
      "----------------------------------------\n",
      "Convergence Criterion: 1e-05\n",
      "Average Draws: 1421352.60\n",
      "Standard Deviation: 4075699.77\n",
      "----------------------------------------\n"
     ]
    }
   ],
   "source": [
    "import random\n",
    "import math\n",
    "import numpy as np\n",
    "\n",
    "convergence_criteria = [0.01, 0.001, 0.0001, 0.00001]\n",
    "\n",
    "def estimate_pi(convergence_criterion):\n",
    "    inside_circle = 0\n",
    "    total_points = 0\n",
    "\n",
    "    while True:\n",
    "        x, y = random.uniform(-1, 1), random.uniform(-1, 1)\n",
    "        total_points += 1\n",
    "\n",
    "        if x**2 + y**2 <= 1:\n",
    "            inside_circle += 1\n",
    "\n",
    "        pi_estimate = (inside_circle / total_points) * 4\n",
    "        percent_difference = abs((pi_estimate - math.pi) / math.pi)\n",
    "\n",
    "        if percent_difference < convergence_criterion:\n",
    "            return total_points  # Return number of draws\n",
    "\n",
    "for criterion in convergence_criteria:\n",
    "    draws = [estimate_pi(criterion) for _ in range(10)]\n",
    "    avg_draws = np.mean(draws)\n",
    "    std_dev_draws = np.std(draws)\n",
    "    \n",
    "    print(f\"Convergence Criterion: {criterion}\")\n",
    "    print(f\"Average Draws: {avg_draws:.2f}\")\n",
    "    print(f\"Standard Deviation: {std_dev_draws:.2f}\")\n",
    "    print(\"-\" * 40)\n"
   ]
  }
 ],
 "metadata": {
  "kernelspec": {
   "display_name": "Python [conda env:base] *",
   "language": "python",
   "name": "conda-base-py"
  },
  "language_info": {
   "codemirror_mode": {
    "name": "ipython",
    "version": 3
   },
   "file_extension": ".py",
   "mimetype": "text/x-python",
   "name": "python",
   "nbconvert_exporter": "python",
   "pygments_lexer": "ipython3",
   "version": "3.12.7"
  }
 },
 "nbformat": 4,
 "nbformat_minor": 5
}
