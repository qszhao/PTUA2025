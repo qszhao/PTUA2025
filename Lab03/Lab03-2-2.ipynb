{
 "cells": [
  {
   "cell_type": "code",
   "execution_count": 1,
   "id": "4ef9fa69-5410-4b0b-b963-bb76b17d6f9c",
   "metadata": {},
   "outputs": [
    {
     "name": "stdout",
     "output_type": "stream",
     "text": [
      "Convergence criterion: 0.01\n",
      "Average number of draws: 10.3\n",
      "Standard deviation of draws: 10.373523991392704\n",
      "Convergence criterion: 0.001\n",
      "Average number of draws: 60.9\n",
      "Standard deviation of draws: 93.11868770552987\n",
      "Convergence criterion: 0.0001\n",
      "Average number of draws: 1119.0\n",
      "Standard deviation of draws: 1371.1995478412323\n",
      "Convergence criterion: 1e-05\n",
      "Average number of draws: 10752.4\n",
      "Standard deviation of draws: 13167.394565364859\n"
     ]
    }
   ],
   "source": [
    "import random\n",
    "import math\n",
    "import numpy as np\n",
    "\n",
    "def estimate_pi(convergence_criterion):\n",
    "    inside_circle = 0\n",
    "    total_points = 0\n",
    "    pi_estimate = 0\n",
    "    \n",
    "    while True:\n",
    "        x, y = random.random(), random.random()\n",
    "        if x**2 + y**2 <= 1:\n",
    "            inside_circle += 1\n",
    "        total_points += 1\n",
    "        new_pi_estimate = 4 * inside_circle / total_points\n",
    "        if abs(new_pi_estimate - pi_estimate) < convergence_criterion * pi_estimate:\n",
    "            break\n",
    "        pi_estimate = new_pi_estimate\n",
    "\n",
    "    return total_points\n",
    "\n",
    "criteria = [0.01, 0.001, 0.0001, 0.00001]\n",
    "results = {c: [] for c in criteria}\n",
    "\n",
    "for c in criteria:\n",
    "    for _ in range(10):\n",
    "        results[c].append(estimate_pi(c))\n",
    "\n",
    "for c in criteria:\n",
    "    draws = results[c]\n",
    "    print(f\"Convergence criterion: {c}\")\n",
    "    print(f\"Average number of draws: {np.mean(draws)}\")\n",
    "    print(f\"Standard deviation of draws: {np.std(draws)}\")\n"
   ]
  },
  {
   "cell_type": "code",
   "execution_count": null,
   "id": "eec7564f-a2cb-42f6-875f-cd51f2f8f6f5",
   "metadata": {},
   "outputs": [],
   "source": []
  }
 ],
 "metadata": {
  "kernelspec": {
   "display_name": "Python [conda env:base] *",
   "language": "python",
   "name": "conda-base-py"
  },
  "language_info": {
   "codemirror_mode": {
    "name": "ipython",
    "version": 3
   },
   "file_extension": ".py",
   "mimetype": "text/x-python",
   "name": "python",
   "nbconvert_exporter": "python",
   "pygments_lexer": "ipython3",
   "version": "3.12.7"
  }
 },
 "nbformat": 4,
 "nbformat_minor": 5
}
