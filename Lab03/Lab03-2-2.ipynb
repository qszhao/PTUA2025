{
 "cells": [
  {
   "cell_type": "code",
   "execution_count": 14,
   "id": "5bc20639",
   "metadata": {},
   "outputs": [
    {
     "name": "stdout",
     "output_type": "stream",
     "text": [
      "Convergence Criterion: 0.01\n",
      "Average Draws: 24.60, Standard Deviation: 25.10\n",
      "Convergence Criterion: 0.001\n",
      "Average Draws: 241.50, Standard Deviation: 455.82\n",
      "Convergence Criterion: 0.0001\n",
      "Average Draws: 18293.00, Standard Deviation: 50855.97\n",
      "Convergence Criterion: 1e-05\n",
      "Average Draws: 28406.70, Standard Deviation: 60634.76\n"
     ]
    }
   ],
   "source": [
    "import random\n",
    "import math\n",
    "import numpy as np\n",
    "\n",
    "def estimate_pi(convergence_criterion):\n",
    "    inside_circle = 0\n",
    "    total_draws = 0\n",
    "    \n",
    "    while True:\n",
    "        x, y = random.random(), random.random()\n",
    "        if x**2 + y**2 <= 1:\n",
    "            inside_circle += 1\n",
    "        \n",
    "        total_draws += 1\n",
    "        pi_estimate = (inside_circle / total_draws) * 4\n",
    "        error = abs(pi_estimate - math.pi) / math.pi\n",
    "        \n",
    "        if error < convergence_criterion:\n",
    "            return total_draws\n",
    "\n",
    "convergence_criteria = [0.01, 0.001, 0.0001, 0.00001]\n",
    "results = {}\n",
    "\n",
    "for criterion in convergence_criteria:\n",
    "    draws_required = [estimate_pi(criterion) for _ in range(10)]\n",
    "    avg_draws = np.mean(draws_required)\n",
    "    std_dev_draws = np.std(draws_required)\n",
    "    results[criterion] = (avg_draws, std_dev_draws)\n",
    "    print(f\"Convergence Criterion: {criterion}\")\n",
    "    print(f\"Average Draws: {avg_draws:.2f}, Standard Deviation: {std_dev_draws:.2f}\")\n"
   ]
  },
  {
   "cell_type": "code",
   "execution_count": null,
   "id": "1fda46c0",
   "metadata": {},
   "outputs": [],
   "source": []
  }
 ],
 "metadata": {
  "kernelspec": {
   "display_name": "Python 3",
   "language": "python",
   "name": "python3"
  },
  "language_info": {
   "codemirror_mode": {
    "name": "ipython",
    "version": 3
   },
   "file_extension": ".py",
   "mimetype": "text/x-python",
   "name": "python",
   "nbconvert_exporter": "python",
   "pygments_lexer": "ipython3",
   "version": "3.8.8"
  }
 },
 "nbformat": 4,
 "nbformat_minor": 5
}
