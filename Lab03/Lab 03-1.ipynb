{
 "cells": [
  {
   "cell_type": "code",
   "execution_count": 48,
   "id": "6e2686f8-d826-4351-a368-e7b4e7a0bfb1",
   "metadata": {},
   "outputs": [
    {
     "name": "stdout",
     "output_type": "stream",
     "text": [
      "Exercise 2.1\n"
     ]
    }
   ],
   "source": [
    "print(\"Exercise 2.1\")"
   ]
  },
  {
   "cell_type": "code",
   "execution_count": 18,
   "id": "f2e2c164-3fd5-4451-bfb7-b54f82424aca",
   "metadata": {},
   "outputs": [
    {
     "name": "stdout",
     "output_type": "stream",
     "text": [
      "2\n"
     ]
    }
   ],
   "source": [
    "n = 2\n",
    "print(n)"
   ]
  },
  {
   "cell_type": "code",
   "execution_count": 4,
   "id": "c6a92e22-f8ca-4a1d-80c6-90930df29161",
   "metadata": {},
   "outputs": [
    {
     "ename": "SyntaxError",
     "evalue": "cannot assign to literal here. Maybe you meant '==' instead of '='? (2195254476.py, line 1)",
     "output_type": "error",
     "traceback": [
      "\u001b[0;36m  Cell \u001b[0;32mIn[4], line 1\u001b[0;36m\u001b[0m\n\u001b[0;31m    2 = n\u001b[0m\n\u001b[0m    ^\u001b[0m\n\u001b[0;31mSyntaxError\u001b[0m\u001b[0;31m:\u001b[0m cannot assign to literal here. Maybe you meant '==' instead of '='?\n"
     ]
    }
   ],
   "source": [
    "2 = n"
   ]
  },
  {
   "cell_type": "code",
   "execution_count": 24,
   "id": "0ec6b3b2-fb13-4340-81c1-833d2a2b376e",
   "metadata": {},
   "outputs": [
    {
     "name": "stdout",
     "output_type": "stream",
     "text": [
      "1\n",
      "1\n"
     ]
    }
   ],
   "source": [
    "x = y = 1\n",
    "print(x)\n",
    "print(y)"
   ]
  },
  {
   "cell_type": "code",
   "execution_count": 44,
   "id": "677ea0a2-8e9b-4515-af8c-6552df03e3c0",
   "metadata": {},
   "outputs": [
    {
     "name": "stdout",
     "output_type": "stream",
     "text": [
      "1 1\n"
     ]
    }
   ],
   "source": [
    "x = y = 1;\n",
    "print(x, y);"
   ]
  },
  {
   "cell_type": "code",
   "execution_count": 46,
   "id": "58fba564-d419-426b-9516-058a02809775",
   "metadata": {},
   "outputs": [
    {
     "ename": "SyntaxError",
     "evalue": "invalid syntax (2785441279.py, line 2)",
     "output_type": "error",
     "traceback": [
      "\u001b[0;36m  Cell \u001b[0;32mIn[46], line 2\u001b[0;36m\u001b[0m\n\u001b[0;31m    print(x, y).\u001b[0m\n\u001b[0m                ^\u001b[0m\n\u001b[0;31mSyntaxError\u001b[0m\u001b[0;31m:\u001b[0m invalid syntax\n"
     ]
    }
   ],
   "source": [
    "x = y = 1.\n",
    "print(x, y)."
   ]
  },
  {
   "cell_type": "code",
   "execution_count": 32,
   "id": "a9090df9-181f-4f66-b588-290fcb1985fd",
   "metadata": {},
   "outputs": [
    {
     "name": "stdout",
     "output_type": "stream",
     "text": [
      "15\n"
     ]
    }
   ],
   "source": [
    "x = 3\n",
    "y = 5\n",
    "print(x * y)"
   ]
  },
  {
   "cell_type": "code",
   "execution_count": 36,
   "id": "42de1b94-5fb6-4354-a4cc-3fa44aefe7d3",
   "metadata": {},
   "outputs": [
    {
     "name": "stdout",
     "output_type": "stream",
     "text": [
      "Exercise 2.2\n"
     ]
    }
   ],
   "source": [
    "print(\"Exercise 2.2\")"
   ]
  },
  {
   "cell_type": "code",
   "execution_count": 40,
   "id": "cb6d60ca-8c3d-408d-b7b0-e57e498b6d63",
   "metadata": {},
   "outputs": [
    {
     "name": "stdout",
     "output_type": "stream",
     "text": [
      "523.5833333333333\n"
     ]
    }
   ],
   "source": [
    "r = 5\n",
    "π = 3.1415\n",
    "print(4/3 *π *r *r *r)"
   ]
  },
  {
   "cell_type": "code",
   "execution_count": 60,
   "id": "f392551e-d5eb-4e77-8dab-e11a2448099b",
   "metadata": {},
   "outputs": [
    {
     "name": "stdout",
     "output_type": "stream",
     "text": [
      "$ 945.4499999999999\n"
     ]
    }
   ],
   "source": [
    "p = 24.95\n",
    "d = 0.6\n",
    "n = 60\n",
    "fc = 3\n",
    "ac = 0.75\n",
    "print(\"$\", p *n *d + fc + ac *(n-1))"
   ]
  },
  {
   "cell_type": "code",
   "execution_count": 84,
   "id": "9338d926-1404-4537-9816-cab6551fdd63",
   "metadata": {},
   "outputs": [
    {
     "name": "stdout",
     "output_type": "stream",
     "text": [
      "7.501666666666667\n",
      "7 : 30\n"
     ]
    }
   ],
   "source": [
    "start_hour = 6\n",
    "start_minute = 52\n",
    "easy_pace = 8 + 15 /60 \n",
    "tempo = 7 + 12 /60\n",
    "time_min = easy_pace + tempo *3 + easy_pace\n",
    "alltime_hour = (time_min + start_minute) /60\n",
    "total_hour = start_hour + alltime_hour\n",
    "print(total_hour)\n",
    "hours = 7\n",
    "minutes =(total_hour - 7) *60\n",
    "print(hours, \":\", int(minutes))"
   ]
  },
  {
   "cell_type": "code",
   "execution_count": 87,
   "id": "a1b21063-c68b-4494-9157-e91f7a2fd22a",
   "metadata": {},
   "outputs": [
    {
     "name": "stdout",
     "output_type": "stream",
     "text": [
      "Exercise 5.1\n"
     ]
    }
   ],
   "source": [
    "print(\"Exercise 5.1\")"
   ]
  },
  {
   "cell_type": "code",
   "execution_count": 141,
   "id": "206d8348-a733-420c-b512-a3129a077f03",
   "metadata": {},
   "outputs": [
    {
     "name": "stdout",
     "output_type": "stream",
     "text": [
      "hello\n"
     ]
    }
   ],
   "source": [
    "word = \" hello \"\n",
    "print(word.strip())"
   ]
  },
  {
   "cell_type": "code",
   "execution_count": 143,
   "id": "1b067881-483b-4611-8cd2-efb7eb1ad80c",
   "metadata": {},
   "outputs": [
    {
     "name": "stdout",
     "output_type": "stream",
     "text": [
      "heaao\n"
     ]
    }
   ],
   "source": [
    "word = \"hello\"\n",
    "print(word.replace(\"l\", \"a\"))"
   ]
  },
  {
   "cell_type": "code",
   "execution_count": 145,
   "id": "208939d4-09db-46ce-bb75-f776d5e84920",
   "metadata": {},
   "outputs": [
    {
     "name": "stdout",
     "output_type": "stream",
     "text": [
      "3\n"
     ]
    }
   ],
   "source": [
    "word = \"hello\"\n",
    "print(word.find(\"l\", 3, 4))"
   ]
  },
  {
   "cell_type": "code",
   "execution_count": 99,
   "id": "4f462302-82a7-4a10-b810-489d04da8c2c",
   "metadata": {},
   "outputs": [
    {
     "name": "stdout",
     "output_type": "stream",
     "text": [
      "2\n"
     ]
    }
   ],
   "source": [
    "s = \"hello\"\n",
    "print(s.find(\"l\"))"
   ]
  },
  {
   "cell_type": "code",
   "execution_count": 97,
   "id": "d771a9bb-6f97-4d5c-9cc7-e0b6207a72b8",
   "metadata": {},
   "outputs": [
    {
     "name": "stdout",
     "output_type": "stream",
     "text": [
      "Exercise 5.2\n"
     ]
    }
   ],
   "source": [
    "print(\"Exercise 5.2\")"
   ]
  },
  {
   "cell_type": "code",
   "execution_count": 139,
   "id": "48271cf8-ea81-4c44-8097-2bef40021d70",
   "metadata": {},
   "outputs": [
    {
     "name": "stdout",
     "output_type": "stream",
     "text": [
      "3\n"
     ]
    }
   ],
   "source": [
    "word = 'banana'\n",
    "print(word.count('a'))"
   ]
  },
  {
   "cell_type": "code",
   "execution_count": 149,
   "id": "c1d53079-ddd6-4f06-98af-417693666555",
   "metadata": {},
   "outputs": [
    {
     "name": "stdout",
     "output_type": "stream",
     "text": [
      "3\n"
     ]
    }
   ],
   "source": [
    "word = 'banana'\n",
    "count = 0\n",
    "for letter in word:\n",
    "    if letter == 'a':\n",
    "        count = count + 1\n",
    "print(count)"
   ]
  },
  {
   "cell_type": "code",
   "execution_count": 103,
   "id": "50772726-4892-4d7c-9ca3-cdd8864610cc",
   "metadata": {},
   "outputs": [
    {
     "name": "stdout",
     "output_type": "stream",
     "text": [
      "Exercise 5.3\n"
     ]
    }
   ],
   "source": [
    "print(\"Exercise 5.3\")"
   ]
  },
  {
   "cell_type": "code",
   "execution_count": 151,
   "id": "ad7dfc1e-9183-4016-9b32-e5d1f7e78378",
   "metadata": {},
   "outputs": [
    {
     "name": "stdout",
     "output_type": "stream",
     "text": [
      "True\n",
      "False\n"
     ]
    }
   ],
   "source": [
    "def is_palindrome(s):\n",
    "    return s == s[::-1]\n",
    "print(is_palindrome(\"level\"))\n",
    "print(is_palindrome(\"hello\"))"
   ]
  },
  {
   "cell_type": "code",
   "execution_count": 107,
   "id": "31cc0a98-ff6e-45c0-a25b-30723cc26041",
   "metadata": {},
   "outputs": [
    {
     "name": "stdout",
     "output_type": "stream",
     "text": [
      "Exercise 5.4\n"
     ]
    }
   ],
   "source": [
    "print(\"Exercise 5.4\")"
   ]
  },
  {
   "cell_type": "code",
   "execution_count": 1,
   "id": "04207f65-a9ff-4135-a51c-8690d22bbcd3",
   "metadata": {},
   "outputs": [
    {
     "name": "stdout",
     "output_type": "stream",
     "text": [
      "This function checks only the first character of the string and returns True if it is lowercase, which doesn't guarantee the check of the entire string.\n"
     ]
    }
   ],
   "source": [
    "def any_lowercase1(s):\n",
    "    for c in s:\n",
    "        if c.islower():\n",
    "            return True\n",
    "        else:\n",
    "            return False\n",
    "print(\"This function checks only the first character of the string and returns True if it is lowercase, which doesn't guarantee the check of the entire string.\") "
   ]
  },
  {
   "cell_type": "code",
   "execution_count": 3,
   "id": "1d6c71d5-031b-46c0-9d49-9d175777c9a2",
   "metadata": {},
   "outputs": [
    {
     "name": "stdout",
     "output_type": "stream",
     "text": [
      "This function mistakenly checks if the literal character 'c' is lowercase and always returns 'True', which does not reflect the input string's characters.\n"
     ]
    }
   ],
   "source": [
    "def any_lowercase2(s):\n",
    "    for c in s:\n",
    "        if 'c'.islower():\n",
    "            return 'True'\n",
    "        else:\n",
    "            return 'False'\n",
    "print(\"This function mistakenly checks if the literal character 'c' is lowercase and always returns 'True', which does not reflect the input string's characters.\") "
   ]
  },
  {
   "cell_type": "code",
   "execution_count": 5,
   "id": "f8fba757-9bec-4138-823e-d71211d4bf21",
   "metadata": {},
   "outputs": [
    {
     "name": "stdout",
     "output_type": "stream",
     "text": [
      "Only the lowercase status of the last character checked is returned, which does not accurately check for at least one lowercase letter in the entire string.\n"
     ]
    }
   ],
   "source": [
    "def any_lowercase3(s):\n",
    "    for c in s:\n",
    "        flag = c.islower()\n",
    "    return flag\n",
    "print(\"Only the lowercase status of the last character checked is returned, which does not accurately check for at least one lowercase letter in the entire string.\")"
   ]
  },
  {
   "cell_type": "code",
   "execution_count": 7,
   "id": "dffbc3af-e96b-4adb-8e87-30bc49a330ec",
   "metadata": {},
   "outputs": [
    {
     "name": "stdout",
     "output_type": "stream",
     "text": [
      "Correctly checks and returns True if there is at least one lowercase letter anywhere in the string.\n"
     ]
    }
   ],
   "source": [
    "def any_lowercase4(s):\n",
    "    flag = False\n",
    "    for c in s:\n",
    "        flag = flag or c.islower()\n",
    "    return flag\n",
    "print(\"Correctly checks and returns True if there is at least one lowercase letter anywhere in the string.\")"
   ]
  },
  {
   "cell_type": "code",
   "execution_count": 9,
   "id": "7730c3c0-7f44-4a37-b47d-f30e50b51803",
   "metadata": {},
   "outputs": [
    {
     "name": "stdout",
     "output_type": "stream",
     "text": [
      "Checks if all characters in the string are lowercase and returns False if any character is not, which is not the intended functionality.\n"
     ]
    }
   ],
   "source": [
    "def any_lowercase5(s):\n",
    "    for c in s:\n",
    "        if not c.islower():\n",
    "            return False\n",
    "    return True\n",
    "print(\"Checks if all characters in the string are lowercase and returns False if any character is not, which is not the intended functionality.\") "
   ]
  },
  {
   "cell_type": "code",
   "execution_count": 121,
   "id": "b136c1b4-9e08-4534-ae85-55a5ac07c3f8",
   "metadata": {},
   "outputs": [
    {
     "name": "stdout",
     "output_type": "stream",
     "text": [
      "Exercise 5.5\n"
     ]
    }
   ],
   "source": [
    "print(\"Exercise 5.5\")"
   ]
  },
  {
   "cell_type": "code",
   "execution_count": 168,
   "id": "312f044b-7965-4388-b431-e8daaf55a333",
   "metadata": {},
   "outputs": [
    {
     "name": "stdout",
     "output_type": "stream",
     "text": [
      "jolly\n",
      "cubed\n",
      "GZK\n"
     ]
    }
   ],
   "source": [
    "def rotate_word(word, shift):\n",
    "    result = \"\"\n",
    "    for char in word:\n",
    "        if char.isalpha(): \n",
    "            start = ord('A') if char.isupper() else ord('a')\n",
    "            rotated = chr(start + (ord(char) - start + shift) % 26)\n",
    "            result += rotated\n",
    "        else:\n",
    "            result += char \n",
    "    return result\n",
    "\n",
    "print(rotate_word(\"cheer\", 7)) \n",
    "print(rotate_word(\"melon\", -10)) \n",
    "print(rotate_word(\"HAL\", -1)) "
   ]
  }
 ],
 "metadata": {
  "kernelspec": {
   "display_name": "Python [conda env:base] *",
   "language": "python",
   "name": "conda-base-py"
  },
  "language_info": {
   "codemirror_mode": {
    "name": "ipython",
    "version": 3
   },
   "file_extension": ".py",
   "mimetype": "text/x-python",
   "name": "python",
   "nbconvert_exporter": "python",
   "pygments_lexer": "ipython3",
   "version": "3.12.7"
  }
 },
 "nbformat": 4,
 "nbformat_minor": 5
}
