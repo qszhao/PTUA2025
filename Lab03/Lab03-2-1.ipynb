{
 "cells": [
  {
   "cell_type": "code",
   "execution_count": 1,
   "id": "c471f70e-d8a9-4a3b-9540-e6b1e3676317",
   "metadata": {},
   "outputs": [
    {
     "name": "stdin",
     "output_type": "stream",
     "text": [
      "Enter the convergence criterion as a decimal (e.g., 0.01):  0.01\n",
      "Enter the maximum number of iterations:  10000\n"
     ]
    },
    {
     "name": "stdout",
     "output_type": "stream",
     "text": [
      "Converged after 34 iterations. Estimated π: 3.0588235294117645\n"
     ]
    }
   ],
   "source": [
    "import random\n",
    "import math\n",
    "\n",
    "def estimate_pi(convergence_criterion, sentinel):\n",
    "    inside_circle = 0\n",
    "    total_points = 0\n",
    "    pi_estimate = 0\n",
    "    true_pi = math.pi\n",
    "\n",
    "    # Start Monte Carlo simulation\n",
    "    while total_points < sentinel:\n",
    "        # Generate random point (x, y)\n",
    "        x, y = random.random(), random.random()\n",
    "        \n",
    "        # Check if the point is inside the circle\n",
    "        if x**2 + y**2 <= 1:\n",
    "            inside_circle += 1\n",
    "        \n",
    "        # Increment total points\n",
    "        total_points += 1\n",
    "        \n",
    "        # Calculate current estimate of pi\n",
    "        new_pi_estimate = 4 * inside_circle / total_points\n",
    "        \n",
    "        # Check convergence\n",
    "        if abs(new_pi_estimate - pi_estimate) < convergence_criterion * pi_estimate:\n",
    "            pi_estimate = new_pi_estimate\n",
    "            print(f\"Converged after {total_points} iterations. Estimated π: {pi_estimate}\")\n",
    "            return\n",
    "        \n",
    "        # Update pi estimate\n",
    "        pi_estimate = new_pi_estimate\n",
    "\n",
    "    # If the draw limit is reached, print a warning\n",
    "    percentage_difference = abs(pi_estimate - true_pi) / true_pi * 100\n",
    "    print(f\"Draw limit reached. Estimated π: {pi_estimate}, True π: {true_pi}\")\n",
    "    print(f\"Percentage difference: {percentage_difference:.5f}%\")\n",
    "\n",
    "# Get user input\n",
    "convergence_criterion = float(input(\"Enter the convergence criterion as a decimal (e.g., 0.01): \"))\n",
    "sentinel = int(input(\"Enter the maximum number of iterations: \"))\n",
    "\n",
    "# Call the function\n",
    "estimate_pi(convergence_criterion, sentinel)\n"
   ]
  },
  {
   "cell_type": "code",
   "execution_count": 5,
   "id": "b71d5220-4c78-4614-91a3-38015563523b",
   "metadata": {},
   "outputs": [
    {
     "name": "stdout",
     "output_type": "stream",
     "text": [
      "* PTUALab\n",
      "  main\n"
     ]
    }
   ],
   "source": [
    "!git branch\n"
   ]
  },
  {
   "cell_type": "code",
   "execution_count": 7,
   "id": "406f1562-50d7-41a2-806f-089cc422d682",
   "metadata": {},
   "outputs": [
    {
     "name": "stderr",
     "output_type": "stream",
     "text": [
      "error: switch `m' requires a value\n",
      "error: src refspec Lab03 does not match any\n",
      "error: failed to push some refs to 'https://github.com/ZEQIANDONG/PTUA2025'\n"
     ]
    }
   ],
   "source": [
    "!git add .\n",
    "!git commit -m \n",
    "!git push origin Lab03"
   ]
  },
  {
   "cell_type": "code",
   "execution_count": null,
   "id": "fc1dc4e2-fc44-4e72-8113-9ecb4a70a4dc",
   "metadata": {},
   "outputs": [],
   "source": []
  }
 ],
 "metadata": {
  "kernelspec": {
   "display_name": "Python [conda env:base] *",
   "language": "python",
   "name": "conda-base-py"
  },
  "language_info": {
   "codemirror_mode": {
    "name": "ipython",
    "version": 3
   },
   "file_extension": ".py",
   "mimetype": "text/x-python",
   "name": "python",
   "nbconvert_exporter": "python",
   "pygments_lexer": "ipython3",
   "version": "3.12.7"
  }
 },
 "nbformat": 4,
 "nbformat_minor": 5
}
