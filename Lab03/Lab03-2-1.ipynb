{
 "cells": [
  {
   "cell_type": "code",
   "execution_count": 10,
   "id": "6e4b26f9-fbfb-4d73-8124-77f480ab9407",
   "metadata": {},
   "outputs": [
    {
     "name": "stdin",
     "output_type": "stream",
     "text": [
      "Enter convergence criterion (e.g., 0.01):  0.01\n",
      "Enter the maximum number of draws:  1000\n"
     ]
    },
    {
     "name": "stdout",
     "output_type": "stream",
     "text": [
      "Convergence reached. Estimate: 3.14155, Percentage difference: 0.00128%\n"
     ]
    }
   ],
   "source": [
    "import random\n",
    "import math\n",
    "\n",
    "def monte_carlo_pi(convergence_criterion, max_draws):\n",
    "    inside_circle = 0\n",
    "    total_draws = 0\n",
    "    current_estimate = 0\n",
    "    \n",
    "    while total_draws < max_draws:\n",
    "        x = random.random()\n",
    "        y = random.random()\n",
    "        distance = x**2 + y**2\n",
    "        \n",
    "        if distance <= 1:\n",
    "            inside_circle += 1\n",
    "        \n",
    "        total_draws += 1\n",
    "        current_estimate = 4 * inside_circle / total_draws\n",
    "        percentage_diff = abs((current_estimate - math.pi) / math.pi) * 100\n",
    "        \n",
    "        if percentage_diff <= convergence_criterion:\n",
    "            break\n",
    "    \n",
    "    if total_draws >= max_draws:\n",
    "        print(f\"Maximum draw limit exceeded. Current estimate: {current_estimate:.5f}, Percentage difference: {percentage_diff:.5f}%\")\n",
    "    else:\n",
    "        print(f\"Convergence reached. Estimate: {current_estimate:.5f}, Percentage difference: {percentage_diff:.5f}%\")\n",
    "    \n",
    "    return total_draws, current_estimate\n",
    "\n",
    "convergence_criterion = float(input(\"Enter convergence criterion (e.g., 0.01): \"))\n",
    "max_draws = int(input(\"Enter the maximum number of draws: \"))\n",
    "\n",
    "draws, estimate = monte_carlo_pi(convergence_criterion, max_draws)"
   ]
  },
  {
   "cell_type": "code",
   "execution_count": null,
   "id": "37670706-a417-4dc9-aed5-7f6c8b9dfea9",
   "metadata": {},
   "outputs": [],
   "source": []
  }
 ],
 "metadata": {
  "kernelspec": {
   "display_name": "Python [conda env:base] *",
   "language": "python",
   "name": "conda-base-py"
  },
  "language_info": {
   "codemirror_mode": {
    "name": "ipython",
    "version": 3
   },
   "file_extension": ".py",
   "mimetype": "text/x-python",
   "name": "python",
   "nbconvert_exporter": "python",
   "pygments_lexer": "ipython3",
   "version": "3.12.7"
  }
 },
 "nbformat": 4,
 "nbformat_minor": 5
}
