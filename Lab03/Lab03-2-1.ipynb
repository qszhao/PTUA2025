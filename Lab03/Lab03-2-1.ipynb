{
 "cells": [
  {
   "cell_type": "code",
   "execution_count": 6,
   "id": "476c47b1",
   "metadata": {},
   "outputs": [
    {
     "name": "stdout",
     "output_type": "stream",
     "text": [
      "Enter convergence criterion (e.g., 0.01 for 1%): 0.01\n",
      "Enter maximum number of draws: 10000\n",
      "Converged to 3.111111111111111 after 9 draws.\n"
     ]
    },
    {
     "data": {
      "text/plain": [
       "(3.111111111111111, 9)"
      ]
     },
     "execution_count": 6,
     "metadata": {},
     "output_type": "execute_result"
    }
   ],
   "source": [
    "import random\n",
    "import math\n",
    "\n",
    "convergence_criterion = float(input(\"Enter convergence criterion (e.g., 0.01 for 1%): \"))\n",
    "draw_limit = int(input(\"Enter maximum number of draws: \"))\n",
    "\n",
    "def estimate_pi(convergence_criterion, draw_limit):\n",
    "    inside_circle = 0\n",
    "    total_draws = 0\n",
    "    \n",
    "    while total_draws < draw_limit:\n",
    "        x, y = random.random(), random.random()\n",
    "        if x**2 + y**2 <= 1:\n",
    "            inside_circle += 1\n",
    "        \n",
    "        total_draws += 1\n",
    "        pi_estimate = (inside_circle / total_draws) * 4\n",
    "        error = abs(pi_estimate - math.pi) / math.pi\n",
    "        \n",
    "        if error < convergence_criterion:\n",
    "            print(f\"Converged to {pi_estimate} after {total_draws} draws.\")\n",
    "            return pi_estimate, total_draws\n",
    "    \n",
    "    print(f\"Draw limit exceeded. Final estimate: {pi_estimate}, Error: {error:.5%}\")\n",
    "    return pi_estimate, total_draws\n",
    "\n",
    "estimate_pi(convergence_criterion, draw_limit)"
   ]
  },
  {
   "cell_type": "code",
   "execution_count": null,
   "id": "84589472",
   "metadata": {},
   "outputs": [],
   "source": []
  }
 ],
 "metadata": {
  "kernelspec": {
   "display_name": "Python 3",
   "language": "python",
   "name": "python3"
  },
  "language_info": {
   "codemirror_mode": {
    "name": "ipython",
    "version": 3
   },
   "file_extension": ".py",
   "mimetype": "text/x-python",
   "name": "python",
   "nbconvert_exporter": "python",
   "pygments_lexer": "ipython3",
   "version": "3.8.8"
  }
 },
 "nbformat": 4,
 "nbformat_minor": 5
}
