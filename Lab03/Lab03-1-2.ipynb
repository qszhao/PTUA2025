{
 "cells": [
  {
   "cell_type": "code",
   "execution_count": 17,
   "id": "d84f84fc-14dd-4c2f-88a3-781d1c2bd990",
   "metadata": {},
   "outputs": [
    {
     "name": "stdout",
     "output_type": "stream",
     "text": [
      "1\n"
     ]
    }
   ],
   "source": [
    "def find(word, letter):\n",
    "    index = 0\n",
    "    while index < len(word):\n",
    "        if word[index] == letter:\n",
    "            return index  # 找到就返回索引\n",
    "        index += 1\n",
    "    return -1\n",
    "\n",
    "print(find(\"banana\", \"a\")) "
   ]
  },
  {
   "cell_type": "markdown",
   "id": "b61facf4-10da-40bd-9daa-81dbad838f52",
   "metadata": {},
   "source": [
    "Strip"
   ]
  },
  {
   "cell_type": "code",
   "execution_count": 20,
   "id": "ab8a3356-03e7-485d-ba47-06e545a71ce4",
   "metadata": {},
   "outputs": [
    {
     "name": "stdout",
     "output_type": "stream",
     "text": [
      "'Hello, world!'\n"
     ]
    }
   ],
   "source": [
    "text = \"  Hello, world!  \\n\"\n",
    "clean_text = text.strip()\n",
    "print(repr(clean_text))"
   ]
  },
  {
   "cell_type": "code",
   "execution_count": 22,
   "id": "f00b30c2-3672-4e5f-b8d1-06fbc1911b5b",
   "metadata": {},
   "outputs": [
    {
     "name": "stdout",
     "output_type": "stream",
     "text": [
      "'Hello, world!  \\n'\n",
      "'  Hello, world!'\n"
     ]
    }
   ],
   "source": [
    "text = \"  Hello, world!  \\n\"\n",
    "\n",
    "print(repr(text.lstrip()))  # 去掉左侧空白\n",
    "# 结果: 'Hello, world!  \\n'\n",
    "\n",
    "print(repr(text.rstrip()))  # 去掉右侧空白\n",
    "# 结果: '  Hello, world!'"
   ]
  },
  {
   "cell_type": "code",
   "execution_count": 24,
   "id": "6e20ae5a-dbbc-4280-a2ef-0a74d18e158c",
   "metadata": {},
   "outputs": [
    {
     "name": "stdout",
     "output_type": "stream",
     "text": [
      "'Hello'\n"
     ]
    }
   ],
   "source": [
    "text = \"...,Hello,...\"\n",
    "# 指定去掉 . 和 , 这两种字符\n",
    "clean_text = text.strip(\".,\")\n",
    "print(repr(clean_text))\n",
    "# 结果: 'Hello'"
   ]
  },
  {
   "cell_type": "markdown",
   "id": "0c70f2cf-ed8a-4a8b-9525-a2e96b23fc28",
   "metadata": {},
   "source": [
    "Replace"
   ]
  },
  {
   "cell_type": "code",
   "execution_count": 26,
   "id": "d638d1cd-210f-4886-af3e-4854323bd6df",
   "metadata": {},
   "outputs": [
    {
     "name": "stdout",
     "output_type": "stream",
     "text": [
      "Hi World\n"
     ]
    }
   ],
   "source": [
    "text = \"Hello World\"\n",
    "# 将 \"Hello\" 替换成 \"Hi\"\n",
    "new_text = text.replace(\"Hello\", \"Hi\")\n",
    "print(new_text)  # \"Hi World\""
   ]
  },
  {
   "cell_type": "code",
   "execution_count": 30,
   "id": "0a5d17ab-1afe-48a6-8bb9-b33370a42fd5",
   "metadata": {},
   "outputs": [
    {
     "name": "stdout",
     "output_type": "stream",
     "text": [
      "LMAO\n"
     ]
    }
   ],
   "source": [
    "text = \"LOL\"\n",
    "new_text = text.replace(\"LOL\", \"LMAO\")\n",
    "print(new_text)"
   ]
  },
  {
   "cell_type": "markdown",
   "id": "b6faf10c-218e-4716-9f3e-e652a9c74f4e",
   "metadata": {},
   "source": [
    "Exercise2 Count"
   ]
  },
  {
   "cell_type": "code",
   "execution_count": 32,
   "id": "73e382de-85d8-410a-aecb-263e688645c1",
   "metadata": {},
   "outputs": [
    {
     "name": "stdout",
     "output_type": "stream",
     "text": [
      "3\n"
     ]
    }
   ],
   "source": [
    "word = 'banana'\n",
    "count = 0\n",
    "for letter in word:\n",
    "    if letter == 'a':\n",
    "        count += 1\n",
    "print(count)  # 输出 3"
   ]
  },
  {
   "cell_type": "markdown",
   "id": "70f887e7-1c01-470e-9e55-6c5da3a17a50",
   "metadata": {},
   "source": [
    "Exercise3 Slice"
   ]
  },
  {
   "cell_type": "code",
   "execution_count": 34,
   "id": "bc174cc0-fc24-4561-b140-438a5224a38e",
   "metadata": {},
   "outputs": [
    {
     "name": "stdout",
     "output_type": "stream",
     "text": [
      "bnn\n"
     ]
    }
   ],
   "source": [
    "fruit = 'banana'\n",
    "# 从索引 0 到索引 4（包含 0, 不含 5），步长为 2\n",
    "print(fruit[0:5:2])  # 'bnn' "
   ]
  },
  {
   "cell_type": "code",
   "execution_count": 40,
   "id": "21f23dd8-5db8-4add-be2d-66e0edfae8ac",
   "metadata": {},
   "outputs": [
    {
     "name": "stdout",
     "output_type": "stream",
     "text": [
      "banana\n"
     ]
    }
   ],
   "source": [
    "fruit = 'banana'\n",
    "# 从索引 0 到索引 4（包含 0, 不含 5），步长为 2\n",
    "print(fruit[0:6:1])  # 'bnn' "
   ]
  },
  {
   "cell_type": "code",
   "execution_count": 44,
   "id": "b56e12e7-ea7b-4627-869c-b449f216a421",
   "metadata": {},
   "outputs": [
    {
     "name": "stdout",
     "output_type": "stream",
     "text": [
      "ananab\n"
     ]
    }
   ],
   "source": [
    "fruit = 'banana'\n",
    "# 从索引 0 到索引 4（包含 0, 不含 5），步长为 2\n",
    "print(fruit[::-1])  # 'bnn' "
   ]
  },
  {
   "cell_type": "code",
   "execution_count": 50,
   "id": "0f5addfe-c1ff-4a47-9571-249f8ffccdb8",
   "metadata": {},
   "outputs": [
    {
     "name": "stdout",
     "output_type": "stream",
     "text": [
      "True\n"
     ]
    }
   ],
   "source": [
    "def is_palindrome(word):\n",
    "    return word == word[::-1]\n",
    "\n",
    "print(is_palindrome(\"lol\"))"
   ]
  },
  {
   "cell_type": "markdown",
   "id": "457e4d90-4f0a-45f3-aeae-bbab0a2a8d93",
   "metadata": {},
   "source": [
    "Exercise4"
   ]
  },
  {
   "cell_type": "code",
   "execution_count": 54,
   "id": "26a7c065-3446-4201-9097-ed9b92b4544d",
   "metadata": {},
   "outputs": [
    {
     "name": "stdout",
     "output_type": "stream",
     "text": [
      "False\n"
     ]
    }
   ],
   "source": [
    "def any_lowercase1(s):\n",
    "    for c in s:\n",
    "        if c.islower():\n",
    "            return True\n",
    "        else:\n",
    "            return False\n",
    "\n",
    "print(any_lowercase1(\"DASDsad\"))"
   ]
  },
  {
   "cell_type": "code",
   "execution_count": 65,
   "id": "d98cfd3c-cc21-4c0b-b30f-897c350a5a65",
   "metadata": {},
   "outputs": [
    {
     "name": "stdout",
     "output_type": "stream",
     "text": [
      "True\n"
     ]
    }
   ],
   "source": [
    "def any_lowercase2(s):\n",
    "    for c in s:\n",
    "        if 'c'.islower():\n",
    "            return 'True'\n",
    "        else:\n",
    "            return 'False'\n",
    "\n",
    "print(any_lowercase2(\"ASD\"))"
   ]
  },
  {
   "cell_type": "code",
   "execution_count": 85,
   "id": "c5f40b3d-1647-4427-8fa7-5f75eb04810c",
   "metadata": {},
   "outputs": [
    {
     "name": "stdout",
     "output_type": "stream",
     "text": [
      "False\n"
     ]
    }
   ],
   "source": [
    "def any_lowercase3(s):\n",
    "    for c in s:\n",
    "        flag = c.islower()\n",
    "    return flag\n",
    "\n",
    "print(any_lowercase3(\"afdfdDD\"))"
   ]
  },
  {
   "cell_type": "code",
   "execution_count": 87,
   "id": "48926c1d-7783-4219-ab75-d6d86db6aee1",
   "metadata": {},
   "outputs": [
    {
     "name": "stdout",
     "output_type": "stream",
     "text": [
      "False\n"
     ]
    }
   ],
   "source": [
    "def any_lowercase4(s):\n",
    "    flag = False\n",
    "    for c in s:\n",
    "        flag = flag or c.islower()\n",
    "    return flag\n",
    "\n",
    "print(any_lowercase4(\"ASD\"))"
   ]
  },
  {
   "cell_type": "code",
   "execution_count": 89,
   "id": "a6067363-c1fb-4df3-b075-3478d05cfb9b",
   "metadata": {},
   "outputs": [
    {
     "name": "stdout",
     "output_type": "stream",
     "text": [
      "False\n"
     ]
    }
   ],
   "source": [
    "def any_lowercase5(s):\n",
    "    for c in s:\n",
    "        if not c.islower():\n",
    "            return False\n",
    "    return True\n",
    "\n",
    "print(any_lowercase5(\"AfdfdSD\"))"
   ]
  },
  {
   "cell_type": "markdown",
   "id": "346dc70b-c1e3-4cdb-a882-8c1f4fce8470",
   "metadata": {},
   "source": [
    "Exercise5"
   ]
  },
  {
   "cell_type": "code",
   "execution_count": null,
   "id": "44bdd2f0-41c5-4e22-8c67-8612701bee3c",
   "metadata": {},
   "outputs": [],
   "source": []
  }
 ],
 "metadata": {
  "kernelspec": {
   "display_name": "Python [conda env:base] *",
   "language": "python",
   "name": "conda-base-py"
  },
  "language_info": {
   "codemirror_mode": {
    "name": "ipython",
    "version": 3
   },
   "file_extension": ".py",
   "mimetype": "text/x-python",
   "name": "python",
   "nbconvert_exporter": "python",
   "pygments_lexer": "ipython3",
   "version": "3.12.7"
  }
 },
 "nbformat": 4,
 "nbformat_minor": 5
}
