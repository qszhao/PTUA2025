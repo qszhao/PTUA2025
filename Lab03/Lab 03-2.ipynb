{
 "cells": [
  {
   "cell_type": "code",
   "execution_count": 93,
   "id": "1acb81f0-bb34-4d3e-b44d-7c1cea4fd191",
   "metadata": {},
   "outputs": [
    {
     "name": "stdout",
     "output_type": "stream",
     "text": [
      "Exercise 1\n"
     ]
    }
   ],
   "source": [
    "print(\"Exercise 1\")"
   ]
  },
  {
   "cell_type": "code",
   "execution_count": 95,
   "id": "e4be602c-3a81-4b63-b4a9-07f4e96dff63",
   "metadata": {},
   "outputs": [],
   "source": [
    "import math\n",
    "import random\n",
    "\n",
    "def monte_carlo_pi(convergence, sentinel):\n",
    "    \"\"\"\n",
    "    Estimate π using Monte Carlo simulation.\n",
    "    Stop when relative error < convergence or total draws >= sentinel.\n",
    "    \"\"\"\n",
    "    inside = 0\n",
    "    total = 0\n",
    "    \n",
    "    while True:\n",
    "        total += 1\n",
    "        x = random.uniform(-1, 1)\n",
    "        y = random.uniform(-1, 1)\n",
    "        \n",
    "        if x * x + y * y <= 1:\n",
    "            inside += 1\n",
    "        \n",
    "        pi_estimate = 4 * inside / total\n",
    "        \n",
    "        diff = abs(pi_estimate - math.pi) / math.pi\n",
    "        \n",
    "        if diff < convergence:\n",
    "            return total, pi_estimate, diff\n",
    "        \n",
    "        if total >= sentinel:\n",
    "            print(\"The sampling number has reached the upper limit, but the convergence condition is still not satisfied.\")\n",
    "            return total, pi_estimate, diff"
   ]
  },
  {
   "cell_type": "code",
   "execution_count": 97,
   "id": "e6f759aa-03f1-4519-91ae-6277ee53cf43",
   "metadata": {},
   "outputs": [
    {
     "name": "stdin",
     "output_type": "stream",
     "text": [
      "Enter the convergence criterion:  0.001\n",
      "Enter the maximum number of draws:  1000\n"
     ]
    }
   ],
   "source": [
    "convergence = float(input(\"Enter the convergence criterion: \"))\n",
    "sentinel = int(input(\"Enter the maximum number of draws: \"))"
   ]
  },
  {
   "cell_type": "code",
   "execution_count": 99,
   "id": "eae40f84-898b-4a04-898e-20e236bd654f",
   "metadata": {},
   "outputs": [
    {
     "name": "stdout",
     "output_type": "stream",
     "text": [
      "Total number of draws: 42\n",
      "Estimated value of π: 3.142857142857143\n",
      "Relative error: 0.0004024994347707008\n"
     ]
    }
   ],
   "source": [
    "draws, pi_est, perc_diff = monte_carlo_pi(convergence, sentinel)\n",
    "print(\"Total number of draws:\", draws)\n",
    "print(\"Estimated value of π:\", pi_est)\n",
    "print(\"Relative error:\", perc_diff)"
   ]
  },
  {
   "cell_type": "code",
   "execution_count": 101,
   "id": "b0e9f235-cf80-42fe-ae67-a3b51668562f",
   "metadata": {},
   "outputs": [
    {
     "name": "stdout",
     "output_type": "stream",
     "text": [
      "Exercise 2\n"
     ]
    }
   ],
   "source": [
    "print(\"Exercise 2\")"
   ]
  },
  {
   "cell_type": "code",
   "execution_count": 103,
   "id": "22df6510-6e5d-4d19-9552-6af8a696d62e",
   "metadata": {},
   "outputs": [],
   "source": [
    "import math\n",
    "import random\n",
    "import statistics\n",
    "\n",
    "def monte_carlo_pi_no_sentinel(convergence):\n",
    "    \"\"\"\n",
    "    Estimate π using Monte Carlo simulation.\n",
    "    Stop when relative error < convergence.\n",
    "    No sentinel value (max draw limit).\n",
    "    \"\"\"\n",
    "    inside = 0\n",
    "    total = 0\n",
    "    \n",
    "    while True:\n",
    "        total += 1\n",
    "        x = random.uniform(-1, 1)\n",
    "        y = random.uniform(-1, 1)\n",
    "        if x * x + y * y <= 1:\n",
    "            inside += 1\n",
    "        pi_estimate = 4 * inside / total\n",
    "        diff = abs(pi_estimate - math.pi) / math.pi\n",
    "        if diff < convergence:\n",
    "            return total"
   ]
  },
  {
   "cell_type": "code",
   "execution_count": 107,
   "id": "caabac07-491b-401c-9e68-e5c1e5cf6312",
   "metadata": {},
   "outputs": [
    {
     "name": "stdout",
     "output_type": "stream",
     "text": [
      "Convergence Criterion: 0.01\n",
      "Average Draws Required: 132.30\n",
      "Standard Deviation of Draws: 219.69\n",
      "----------------------------------------\n",
      "Convergence Criterion: 0.001\n",
      "Average Draws Required: 84.40\n",
      "Standard Deviation of Draws: 164.66\n",
      "----------------------------------------\n",
      "Convergence Criterion: 0.0001\n",
      "Average Draws Required: 1183.60\n",
      "Standard Deviation of Draws: 1675.90\n",
      "----------------------------------------\n",
      "Convergence Criterion: 1e-05\n",
      "Average Draws Required: 7037.70\n",
      "Standard Deviation of Draws: 12263.33\n",
      "----------------------------------------\n"
     ]
    }
   ],
   "source": [
    "convergence_list = [0.01, 0.001, 0.0001, 0.00001]\n",
    "runs = 10  \n",
    "\n",
    "for conv in convergence_list:\n",
    "    draws_list = []\n",
    "    for i in range(runs):\n",
    "        draws = monte_carlo_pi_no_sentinel(conv)\n",
    "        draws_list.append(draws)\n",
    "    \n",
    "    avg_draws = sum(draws_list) / len(draws_list)\n",
    "    std_draws = statistics.stdev(draws_list)\n",
    "\n",
    "    print(f\"Convergence Criterion: {conv}\")\n",
    "    print(f\"Average Draws Required: {avg_draws:.2f}\")\n",
    "    print(f\"Standard Deviation of Draws: {std_draws:.2f}\")\n",
    "    print(\"-\" * 40)"
   ]
  },
  {
   "cell_type": "code",
   "execution_count": null,
   "id": "1e47a54b-0f71-497e-b39e-b47626672fe6",
   "metadata": {},
   "outputs": [],
   "source": []
  }
 ],
 "metadata": {
  "kernelspec": {
   "display_name": "Python [conda env:base] *",
   "language": "python",
   "name": "conda-base-py"
  },
  "language_info": {
   "codemirror_mode": {
    "name": "ipython",
    "version": 3
   },
   "file_extension": ".py",
   "mimetype": "text/x-python",
   "name": "python",
   "nbconvert_exporter": "python",
   "pygments_lexer": "ipython3",
   "version": "3.12.7"
  }
 },
 "nbformat": 4,
 "nbformat_minor": 5
}
