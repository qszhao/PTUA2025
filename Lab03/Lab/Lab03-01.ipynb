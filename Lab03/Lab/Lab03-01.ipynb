{
 "cells": [
  {
   "cell_type": "code",
   "execution_count": 5,
   "id": "05330c63-6015-4a42-b2ef-d13353d031d3",
   "metadata": {},
   "outputs": [
    {
     "name": "stdout",
     "output_type": "stream",
     "text": [
      "3\n"
     ]
    }
   ],
   "source": [
    "fruit = \"banana\" # chapter 8 ex 2\n",
    "print(fruit.count(\"a\"))"
   ]
  },
  {
   "cell_type": "code",
   "execution_count": 23,
   "id": "11e10148-41b3-4488-bfcc-115f39731b02",
   "metadata": {},
   "outputs": [
    {
     "name": "stdout",
     "output_type": "stream",
     "text": [
      "banana\n",
      "ananab\n"
     ]
    }
   ],
   "source": [
    "fruit = \"banana\" #chapter 8 exercise 3\n",
    "print(fruit)\n",
    "print(fruit[::-1])"
   ]
  },
  {
   "cell_type": "code",
   "execution_count": 19,
   "id": "e6ed844a-f5b9-4142-8591-6af243531975",
   "metadata": {},
   "outputs": [
    {
     "data": {
      "text/plain": [
       "'True'"
      ]
     },
     "execution_count": 19,
     "metadata": {},
     "output_type": "execute_result"
    }
   ],
   "source": [
    "        # chapter 8 exercise 4\n",
    "def any_lowercase2(s):  ### this is the correct one, as the outputs are strings and \n",
    "    for c in s:\n",
    "        if 'c'.islower():\n",
    "            return 'True'\n",
    "        else:\n",
    "            return 'False'\n",
    "\n",
    "fruit = \"Banana\"\n",
    "any_lowercase2(fruit)"
   ]
  },
  {
   "cell_type": "code",
   "execution_count": 61,
   "id": "80e991be-f6df-47e1-bde5-7bce447aac23",
   "metadata": {},
   "outputs": [
    {
     "name": "stdout",
     "output_type": "stream",
     "text": [
      "dvwulg\n"
     ]
    }
   ],
   "source": [
    "def rotate_word(word, step): # chapter 8 ex 5\n",
    "    new_word = \"\"\n",
    "    for letter in word:\n",
    "        \n",
    "        num = ord(letter) + step\n",
    "        \n",
    "        new_word = new_word + chr(num)\n",
    "    print (new_word)\n",
    "\n",
    "name = 'astrid'\n",
    "shift = 3\n",
    "rotate_word(name, shift)\n",
    "    "
   ]
  },
  {
   "cell_type": "code",
   "execution_count": 11,
   "id": "b36c5bbc-a86f-45e6-988e-89ab06417503",
   "metadata": {},
   "outputs": [
    {
     "data": {
      "text/plain": [
       "2"
      ]
     },
     "execution_count": 11,
     "metadata": {},
     "output_type": "execute_result"
    }
   ],
   "source": [
    "ord('c') - ord('a') # seeing what this does\n"
   ]
  },
  {
   "cell_type": "code",
   "execution_count": 17,
   "id": "e21a34ee-d2e0-4a83-ae52-506e1e4b537d",
   "metadata": {},
   "outputs": [
    {
     "data": {
      "text/plain": [
       "'a'"
      ]
     },
     "execution_count": 17,
     "metadata": {},
     "output_type": "execute_result"
    }
   ],
   "source": [
    "chr(97) # turns unicode into character it represents"
   ]
  },
  {
   "cell_type": "code",
   "execution_count": null,
   "id": "16286740-9fb0-483a-aec9-12e76fe71fe7",
   "metadata": {},
   "outputs": [],
   "source": []
  }
 ],
 "metadata": {
  "kernelspec": {
   "display_name": "Python [conda env:base] *",
   "language": "python",
   "name": "conda-base-py"
  },
  "language_info": {
   "codemirror_mode": {
    "name": "ipython",
    "version": 3
   },
   "file_extension": ".py",
   "mimetype": "text/x-python",
   "name": "python",
   "nbconvert_exporter": "python",
   "pygments_lexer": "ipython3",
   "version": "3.12.7"
  }
 },
 "nbformat": 4,
 "nbformat_minor": 5
}
