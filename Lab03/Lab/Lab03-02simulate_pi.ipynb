{
 "cells": [
  {
   "cell_type": "markdown",
   "metadata": {
    "deletable": true,
    "editable": true
   },
   "source": [
    "# Simulating $\\pi$"
   ]
  },
  {
   "cell_type": "markdown",
   "metadata": {
    "deletable": true,
    "editable": true
   },
   "source": [
    "The area of a circle $C$ is given as $|C| = \\pi r^2$ with $r$ as the radius.\n",
    "\n",
    "A square $S$ has area $|S| = w^2$ where $w$ is the length of a side of the square.\n",
    "\n",
    "If we put a circle with radius $r$ inside of a square with edge $w=2r$ then the ratio of the areas is:\n",
    "\n",
    "$$ratio = \\frac{|C|}{|S|} = \\frac{\\pi r^2}{w^2} = \\frac{\\pi r^2}{(2r)^2}= \\frac{\\pi r^2}{4r^2} = \\frac{\\pi}{4} $$\n",
    "\n",
    "Thus if we multiply the ratio of the areas by 4 we have a formula for $pi$:\n",
    "$$ \\pi = 4 ratio$$ \n",
    "or\n",
    "$$ \\pi = 4\\frac{|C|}{|S|}$$\n",
    "\n"
   ]
  },
  {
   "cell_type": "markdown",
   "metadata": {
    "deletable": true,
    "editable": true
   },
   "source": [
    "We can use this relationship to simulate the ratio of the areas to generate an estimate of $\\pi$.\n",
    "\n",
    "Basically we take uniform random draws of an $x$ and $y$ coordinate for a point and look at the share of many such points that fall within the circle of all those that are in the square.\n",
    "\n",
    "We want to get within $p=0.00001$ of the value of $\\pi$ that is reported in Python and we are curious as to how many points we have to draw to achieve this level of accuracy."
   ]
  },
  {
   "cell_type": "code",
   "execution_count": 1,
   "metadata": {
    "collapsed": false,
    "deletable": true,
    "editable": true,
    "jupyter": {
     "outputs_hidden": false
    }
   },
   "outputs": [],
   "source": [
    "import random\n",
    "import math\n",
    "import matplotlib.pyplot as plt"
   ]
  },
  {
   "cell_type": "code",
   "execution_count": 5,
   "metadata": {
    "collapsed": false,
    "deletable": true,
    "editable": true,
    "jupyter": {
     "outputs_hidden": false
    }
   },
   "outputs": [],
   "source": [
    "pi = math.pi # our benchmark that we want to estimate using simulation"
   ]
  },
  {
   "cell_type": "code",
   "execution_count": 7,
   "metadata": {
    "collapsed": false,
    "deletable": true,
    "editable": true,
    "jupyter": {
     "outputs_hidden": false
    }
   },
   "outputs": [
    {
     "data": {
      "text/plain": [
       "3.141592653589793"
      ]
     },
     "execution_count": 7,
     "metadata": {},
     "output_type": "execute_result"
    }
   ],
   "source": [
    "pi"
   ]
  },
  {
   "cell_type": "markdown",
   "metadata": {},
   "source": [
    "## random.random()\n",
    "Return the next random floating point number in the range [0.0, 1.0).\n",
    "\n",
    "https://docs.python.org/3/library/random.html (learn to check function documents is very important)"
   ]
  },
  {
   "cell_type": "code",
   "execution_count": 10,
   "metadata": {
    "collapsed": false,
    "deletable": true,
    "editable": true,
    "jupyter": {
     "outputs_hidden": false
    }
   },
   "outputs": [
    {
     "name": "stdout",
     "output_type": "stream",
     "text": [
      "Draws needed:  25350\n"
     ]
    }
   ],
   "source": [
    "n = 0 # number of points falling in the unit circle\n",
    "d = 0 # number of points falling in the unit square\n",
    "simulating = True # use as a sentinel\n",
    "while simulating:\n",
    "    x = random.random()\n",
    "    y = random.random()\n",
    "    if x**2 + y**2 <= 1.0:\n",
    "        n += 1\n",
    "    d += 1\n",
    "    ratio = 4 * n * 1./d\n",
    "#    print(ratio)\n",
    "    if abs(ratio-pi) / pi <= 0.00001:\n",
    "        print(\"Draws needed: \", d)\n",
    "        break"
   ]
  },
  {
   "cell_type": "code",
   "execution_count": 12,
   "metadata": {
    "deletable": true,
    "editable": true
   },
   "outputs": [
    {
     "name": "stdout",
     "output_type": "stream",
     "text": [
      "4.0\n",
      "4.0\n",
      "4.0\n",
      "4.0\n",
      "3.2\n",
      "3.3333333333333335\n",
      "3.4285714285714284\n",
      "3.5\n",
      "3.5555555555555554\n",
      "3.6\n",
      "3.6363636363636362\n",
      "3.6666666666666665\n",
      "3.6923076923076925\n",
      "3.7142857142857144\n",
      "3.466666666666667\n",
      "3.25\n",
      "3.2941176470588234\n",
      "3.3333333333333335\n",
      "3.1578947368421053\n",
      "3.2\n",
      "3.238095238095238\n",
      "3.272727272727273\n",
      "3.3043478260869565\n",
      "3.3333333333333335\n",
      "3.36\n",
      "3.230769230769231\n",
      "3.259259259259259\n",
      "3.142857142857143\n",
      "3.1724137931034484\n",
      "3.2\n",
      "3.225806451612903\n",
      "3.25\n",
      "3.272727272727273\n",
      "3.2941176470588234\n",
      "3.3142857142857145\n",
      "3.3333333333333335\n",
      "3.3513513513513513\n",
      "3.3684210526315788\n",
      "3.3846153846153846\n",
      "3.4\n",
      "3.4146341463414633\n",
      "3.3333333333333335\n",
      "3.3488372093023258\n",
      "3.3636363636363638\n",
      "3.3777777777777778\n",
      "3.391304347826087\n",
      "3.404255319148936\n",
      "3.4166666666666665\n",
      "3.4285714285714284\n",
      "3.44\n",
      "3.372549019607843\n",
      "3.3076923076923075\n",
      "3.3207547169811322\n",
      "3.3333333333333335\n",
      "3.3454545454545452\n",
      "3.357142857142857\n",
      "3.2982456140350878\n",
      "3.310344827586207\n",
      "3.3220338983050848\n",
      "3.3333333333333335\n",
      "3.278688524590164\n",
      "3.2903225806451615\n",
      "3.238095238095238\n",
      "3.1875\n",
      "3.1384615384615384\n",
      "3.1515151515151514\n",
      "3.1641791044776117\n",
      "3.176470588235294\n",
      "3.130434782608696\n",
      "3.085714285714286\n",
      "3.0985915492957745\n",
      "3.111111111111111\n",
      "3.1232876712328768\n",
      "3.135135135135135\n",
      "3.1466666666666665\n",
      "3.1578947368421053\n",
      "3.168831168831169\n",
      "3.128205128205128\n",
      "3.1392405063291138\n",
      "3.15\n",
      "3.111111111111111\n",
      "3.073170731707317\n",
      "3.0843373493975905\n",
      "3.0952380952380953\n",
      "3.0588235294117645\n",
      "3.0697674418604652\n",
      "3.0804597701149423\n",
      "3.090909090909091\n",
      "3.101123595505618\n",
      "3.111111111111111\n",
      "3.076923076923077\n",
      "3.0434782608695654\n",
      "3.010752688172043\n",
      "3.021276595744681\n",
      "3.031578947368421\n",
      "3.0416666666666665\n",
      "3.051546391752577\n",
      "3.061224489795918\n",
      "3.0707070707070705\n",
      "3.08\n",
      "3.0495049504950495\n",
      "3.0588235294117645\n",
      "3.029126213592233\n",
      "3.0384615384615383\n",
      "3.0476190476190474\n",
      "3.056603773584906\n",
      "3.02803738317757\n",
      "3.037037037037037\n",
      "3.0458715596330275\n",
      "3.0545454545454547\n",
      "3.027027027027027\n",
      "3.0\n",
      "3.0088495575221237\n",
      "2.982456140350877\n",
      "2.991304347826087\n",
      "3.0\n",
      "3.0085470085470085\n",
      "3.016949152542373\n",
      "2.991596638655462\n",
      "3.0\n",
      "3.0082644628099175\n",
      "3.0163934426229506\n",
      "3.024390243902439\n",
      "3.0\n",
      "3.008\n",
      "3.015873015873016\n",
      "2.9921259842519685\n",
      "3.0\n",
      "3.007751937984496\n",
      "3.0153846153846153\n",
      "3.0229007633587788\n",
      "3.0303030303030303\n",
      "3.037593984962406\n",
      "3.044776119402985\n",
      "3.051851851851852\n",
      "3.0294117647058822\n",
      "3.0364963503649633\n",
      "3.0434782608695654\n",
      "3.050359712230216\n",
      "3.0285714285714285\n",
      "3.0354609929078014\n",
      "3.0422535211267605\n",
      "3.020979020979021\n",
      "3.0277777777777777\n",
      "3.0344827586206895\n",
      "3.041095890410959\n",
      "3.020408163265306\n",
      "3.027027027027027\n",
      "3.033557046979866\n",
      "3.013333333333333\n",
      "3.019867549668874\n",
      "3.026315789473684\n",
      "3.0326797385620914\n",
      "3.038961038961039\n",
      "3.0451612903225804\n",
      "3.051282051282051\n",
      "3.0573248407643314\n",
      "3.0632911392405062\n",
      "3.0440251572327046\n",
      "3.05\n",
      "3.0559006211180124\n",
      "3.0617283950617282\n",
      "3.067484662576687\n",
      "3.048780487804878\n",
      "3.0545454545454547\n",
      "3.036144578313253\n",
      "3.0419161676646707\n",
      "3.0238095238095237\n",
      "3.029585798816568\n",
      "3.0352941176470587\n",
      "3.0409356725146197\n",
      "3.0232558139534884\n",
      "3.0289017341040463\n",
      "3.0344827586206895\n",
      "3.0171428571428573\n",
      "3.0\n",
      "3.005649717514124\n",
      "3.0112359550561796\n",
      "3.016759776536313\n",
      "3.0\n",
      "2.983425414364641\n",
      "2.989010989010989\n",
      "2.9945355191256833\n",
      "3.0\n",
      "3.0054054054054054\n",
      "3.010752688172043\n",
      "3.016042780748663\n",
      "3.021276595744681\n",
      "3.005291005291005\n",
      "3.0105263157894737\n",
      "3.0157068062827226\n",
      "3.0208333333333335\n",
      "3.0259067357512954\n",
      "3.0309278350515463\n",
      "3.0358974358974358\n",
      "3.0408163265306123\n",
      "3.045685279187817\n",
      "3.0505050505050506\n",
      "3.0351758793969847\n",
      "3.04\n",
      "3.044776119402985\n",
      "3.0297029702970297\n",
      "3.0147783251231526\n",
      "3.019607843137255\n",
      "3.004878048780488\n",
      "3.0097087378640777\n",
      "3.0144927536231885\n",
      "3.019230769230769\n",
      "3.0047846889952154\n",
      "3.0095238095238095\n",
      "3.014218009478673\n",
      "3.0\n",
      "3.004694835680751\n",
      "3.0093457943925235\n",
      "3.013953488372093\n",
      "3.0185185185185186\n",
      "3.0230414746543777\n",
      "3.0275229357798166\n",
      "3.0319634703196345\n",
      "3.018181818181818\n",
      "3.02262443438914\n",
      "3.027027027027027\n",
      "3.031390134529148\n",
      "3.0357142857142856\n",
      "3.04\n",
      "3.0442477876106193\n",
      "3.048458149779736\n",
      "3.0526315789473686\n",
      "3.056768558951965\n",
      "3.0608695652173914\n",
      "3.064935064935065\n",
      "3.0689655172413794\n",
      "3.072961373390558\n",
      "3.076923076923077\n",
      "3.0638297872340425\n",
      "3.0677966101694913\n",
      "3.0548523206751055\n",
      "3.0588235294117645\n",
      "3.062761506276151\n",
      "3.066666666666667\n",
      "3.070539419087137\n",
      "3.074380165289256\n",
      "3.078189300411523\n",
      "3.0655737704918034\n",
      "3.0693877551020408\n",
      "3.073170731707317\n",
      "3.076923076923077\n",
      "3.0806451612903225\n",
      "3.0843373493975905\n",
      "3.072\n",
      "3.0597609561752988\n",
      "3.0634920634920637\n",
      "3.067193675889328\n",
      "3.0708661417322833\n",
      "3.074509803921569\n",
      "3.078125\n",
      "3.0817120622568095\n",
      "3.0852713178294575\n",
      "3.088803088803089\n",
      "3.0923076923076924\n",
      "3.0957854406130267\n",
      "3.0839694656488548\n",
      "3.08745247148289\n",
      "3.0757575757575757\n",
      "3.079245283018868\n",
      "3.0676691729323307\n",
      "3.0711610486891385\n",
      "3.074626865671642\n",
      "3.0780669144981414\n",
      "3.0814814814814815\n",
      "3.0701107011070112\n",
      "3.073529411764706\n",
      "3.076923076923077\n",
      "3.0802919708029197\n",
      "3.0836363636363635\n",
      "3.0869565217391304\n",
      "3.0902527075812274\n",
      "3.093525179856115\n",
      "3.082437275985663\n",
      "3.085714285714286\n",
      "3.088967971530249\n",
      "3.0921985815602837\n",
      "3.095406360424028\n",
      "3.0985915492957745\n",
      "3.087719298245614\n",
      "3.090909090909091\n",
      "3.0940766550522647\n",
      "3.0833333333333335\n",
      "3.086505190311419\n",
      "3.089655172413793\n",
      "3.0927835051546393\n",
      "3.095890410958904\n",
      "3.098976109215017\n",
      "3.1020408163265305\n",
      "3.1050847457627118\n",
      "3.0945945945945947\n",
      "3.0976430976430978\n",
      "3.087248322147651\n",
      "3.076923076923077\n",
      "3.08\n",
      "3.0697674418604652\n",
      "3.0728476821192054\n",
      "3.075907590759076\n",
      "3.0789473684210527\n",
      "3.081967213114754\n",
      "3.084967320261438\n",
      "3.0749185667752443\n",
      "3.0779220779220777\n",
      "3.0679611650485437\n",
      "3.0709677419354837\n",
      "3.0739549839228295\n",
      "3.0641025641025643\n",
      "3.0670926517571884\n",
      "3.070063694267516\n",
      "3.073015873015873\n",
      "3.0759493670886076\n",
      "3.0662460567823344\n",
      "3.069182389937107\n",
      "3.072100313479624\n",
      "3.075\n",
      "3.0778816199376946\n",
      "3.080745341614907\n",
      "3.08359133126935\n",
      "3.074074074074074\n",
      "3.076923076923077\n",
      "3.079754601226994\n",
      "3.0825688073394497\n",
      "3.073170731707317\n",
      "3.0759878419452886\n",
      "3.066666666666667\n",
      "3.069486404833837\n",
      "3.0602409638554215\n",
      "3.063063063063063\n",
      "3.053892215568862\n",
      "3.056716417910448\n",
      "3.0595238095238093\n",
      "3.0623145400593472\n",
      "3.06508875739645\n",
      "3.0678466076696167\n",
      "3.070588235294118\n",
      "3.0733137829912023\n",
      "3.064327485380117\n",
      "3.067055393586006\n",
      "3.0697674418604652\n",
      "3.072463768115942\n",
      "3.0751445086705202\n",
      "3.0662824207492796\n",
      "3.0689655172413794\n",
      "3.0716332378223496\n",
      "3.0742857142857143\n",
      "3.0655270655270654\n",
      "3.0681818181818183\n",
      "3.0708215297450425\n",
      "3.073446327683616\n",
      "3.076056338028169\n",
      "3.0786516853932584\n",
      "3.081232492997199\n",
      "3.083798882681564\n",
      "3.086350974930362\n",
      "3.088888888888889\n",
      "3.0914127423822713\n",
      "3.0939226519337018\n",
      "3.0964187327823693\n",
      "3.098901098901099\n",
      "3.1013698630136988\n",
      "3.1038251366120218\n",
      "3.106267029972752\n",
      "3.108695652173913\n",
      "3.111111111111111\n",
      "3.1027027027027025\n",
      "3.105121293800539\n",
      "3.10752688172043\n",
      "3.1099195710455763\n",
      "3.1016042780748663\n",
      "3.104\n",
      "3.106382978723404\n",
      "3.1087533156498672\n",
      "3.111111111111111\n",
      "3.1029023746701845\n",
      "3.1052631578947367\n",
      "3.0971128608923886\n",
      "3.089005235602094\n",
      "3.0809399477806787\n",
      "3.0833333333333335\n",
      "3.085714285714286\n",
      "3.088082901554404\n",
      "3.090439276485788\n",
      "3.0927835051546393\n",
      "3.095115681233933\n",
      "3.0974358974358975\n",
      "3.0997442455242967\n",
      "3.1020408163265305\n",
      "3.104325699745547\n",
      "3.1065989847715736\n",
      "3.108860759493671\n",
      "3.111111111111111\n",
      "3.1133501259445846\n",
      "3.1155778894472363\n",
      "3.107769423558897\n",
      "3.11\n",
      "3.112219451371571\n",
      "3.1144278606965172\n",
      "3.1166253101736974\n",
      "3.118811881188119\n",
      "3.1209876543209876\n",
      "3.123152709359606\n",
      "3.1253071253071254\n",
      "3.127450980392157\n",
      "3.12958435207824\n",
      "3.131707317073171\n",
      "3.124087591240876\n",
      "3.1262135922330097\n",
      "3.128329297820823\n",
      "3.130434782608696\n",
      "3.1325301204819276\n",
      "3.1346153846153846\n",
      "3.1366906474820144\n",
      "3.138755980861244\n",
      "3.1312649164677806\n",
      "3.123809523809524\n",
      "3.125890736342043\n",
      "3.1279620853080567\n",
      "3.120567375886525\n",
      "3.1132075471698113\n",
      "3.1152941176470588\n",
      "3.1173708920187795\n",
      "3.110070257611241\n",
      "3.1121495327102804\n",
      "3.114219114219114\n",
      "3.116279069767442\n",
      "3.109048723897912\n",
      "3.111111111111111\n",
      "3.113163972286374\n",
      "3.1152073732718892\n",
      "3.117241379310345\n",
      "3.1192660550458715\n",
      "3.1212814645308926\n",
      "3.1232876712328768\n",
      "3.1161731207289294\n",
      "3.118181818181818\n",
      "3.120181405895692\n",
      "3.1221719457013575\n",
      "3.115124153498871\n",
      "3.1171171171171173\n",
      "3.1101123595505618\n",
      "3.1121076233183858\n",
      "3.105145413870246\n",
      "3.107142857142857\n",
      "3.10913140311804\n",
      "3.111111111111111\n",
      "3.1130820399113084\n",
      "3.1150442477876106\n",
      "3.108167770419426\n",
      "3.101321585903084\n",
      "3.1032967032967034\n",
      "3.1052631578947367\n",
      "3.1072210065645516\n",
      "3.109170305676856\n",
      "3.111111111111111\n",
      "3.1130434782608694\n",
      "3.1149674620390457\n",
      "3.116883116883117\n",
      "3.1187904967602593\n",
      "3.1206896551724137\n",
      "3.1225806451612903\n",
      "3.124463519313305\n",
      "3.1177730192719486\n",
      "3.111111111111111\n",
      "3.1044776119402986\n",
      "3.106382978723404\n",
      "3.1082802547770703\n",
      "3.110169491525424\n",
      "3.112050739957717\n",
      "3.1139240506329116\n",
      "3.1157894736842104\n",
      "3.1092436974789917\n",
      "3.111111111111111\n",
      "3.1046025104602513\n",
      "3.106471816283925\n",
      "3.1083333333333334\n",
      "3.1101871101871104\n",
      "3.103734439834025\n",
      "3.1055900621118013\n",
      "3.0991735537190084\n",
      "3.1010309278350516\n",
      "3.094650205761317\n",
      "3.0965092402464065\n",
      "3.098360655737705\n",
      "3.1002044989775053\n",
      "3.1020408163265305\n",
      "3.1038696537678208\n",
      "3.105691056910569\n",
      "3.107505070993915\n",
      "3.1093117408906883\n",
      "3.111111111111111\n",
      "3.1048387096774195\n",
      "3.106639839034205\n",
      "3.108433734939759\n",
      "3.1102204408817635\n",
      "3.104\n",
      "3.1057884231536925\n",
      "3.1075697211155378\n",
      "3.10934393638171\n",
      "3.111111111111111\n",
      "3.112871287128713\n",
      "3.1146245059288535\n",
      "3.116370808678501\n",
      "3.1102362204724407\n",
      "3.1119842829076623\n",
      "3.1137254901960785\n",
      "3.107632093933464\n",
      "3.109375\n",
      "3.1033138401559452\n",
      "3.105058365758755\n",
      "3.1067961165048543\n",
      "3.10077519379845\n",
      "3.102514506769826\n",
      "3.0965250965250966\n",
      "3.098265895953757\n",
      "3.1\n",
      "3.0940499040307103\n",
      "3.0957854406130267\n",
      "3.0975143403441683\n",
      "3.099236641221374\n",
      "3.100952380952381\n",
      "3.102661596958175\n",
      "3.1043643263757117\n",
      "3.0984848484848486\n",
      "3.100189035916824\n",
      "3.1018867924528304\n",
      "3.103578154425612\n",
      "3.0977443609022557\n",
      "3.099437148217636\n",
      "3.093632958801498\n",
      "3.08785046728972\n",
      "3.08955223880597\n",
      "3.091247672253259\n",
      "3.0855018587360594\n",
      "3.0871985157699444\n",
      "3.088888888888889\n",
      "3.090573012939002\n",
      "3.092250922509225\n",
      "3.0939226519337018\n",
      "3.0955882352941178\n",
      "3.0972477064220185\n",
      "3.098901098901099\n",
      "3.1005484460694697\n",
      "3.102189781021898\n",
      "3.1038251366120218\n",
      "3.098181818181818\n",
      "3.0998185117967334\n",
      "3.101449275362319\n",
      "3.1030741410488245\n",
      "3.104693140794224\n",
      "3.106306306306306\n",
      "3.1079136690647484\n",
      "3.10951526032316\n",
      "3.1039426523297493\n",
      "3.105545617173524\n",
      "3.107142857142857\n",
      "3.10873440285205\n",
      "3.110320284697509\n",
      "3.1119005328596803\n",
      "3.106382978723404\n",
      "3.1079646017699116\n",
      "3.1095406360424027\n",
      "3.111111111111111\n",
      "3.112676056338028\n",
      "3.114235500878735\n",
      "3.1157894736842104\n",
      "3.117338003502627\n",
      "3.1188811188811187\n",
      "3.1204188481675392\n",
      "3.1219512195121952\n",
      "3.123478260869565\n",
      "3.125\n",
      "3.1265164644714036\n",
      "3.1280276816608996\n",
      "3.1295336787564767\n",
      "3.1310344827586207\n",
      "3.1325301204819276\n",
      "3.127147766323024\n",
      "3.1286449399656946\n",
      "3.1301369863013697\n",
      "3.1316239316239316\n",
      "3.1331058020477816\n",
      "3.1277683134582626\n",
      "3.122448979591837\n",
      "3.1239388794567065\n",
      "3.1254237288135593\n",
      "3.1269035532994924\n",
      "3.1283783783783785\n",
      "3.1298482293423273\n",
      "3.1313131313131315\n",
      "3.1327731092436975\n",
      "3.134228187919463\n",
      "3.135678391959799\n",
      "3.137123745819398\n",
      "3.1385642737896493\n",
      "3.14\n",
      "3.141430948419301\n",
      "3.1362126245847177\n",
      "3.1376451077943615\n",
      "3.1390728476821192\n",
      "3.1404958677685952\n",
      "3.1419141914191417\n",
      "3.14332784184514\n",
      "3.138157894736842\n",
      "3.1330049261083746\n",
      "3.134426229508197\n",
      "3.1358428805237315\n",
      "3.1372549019607843\n",
      "3.1386623164763456\n",
      "3.1400651465798046\n",
      "3.1414634146341465\n",
      "3.142857142857143\n",
      "3.1377633711507293\n",
      "3.1391585760517797\n",
      "3.1405492730210014\n",
      "3.141935483870968\n",
      "3.143317230273752\n",
      "3.144694533762058\n",
      "3.139646869983949\n",
      "3.141025641025641\n",
      "3.1424\n",
      "3.143769968051118\n",
      "3.138755980861244\n",
      "3.1337579617834397\n",
      "3.135135135135135\n",
      "3.1365079365079365\n",
      "3.1378763866877972\n",
      "3.1392405063291138\n",
      "3.140600315955766\n",
      "3.141955835962145\n",
      "3.1433070866141732\n",
      "3.1446540880503147\n",
      "3.1397174254317113\n",
      "3.134796238244514\n",
      "3.1298904538341157\n",
      "3.13125\n",
      "3.126365054602184\n",
      "3.127725856697819\n",
      "3.1290824261275274\n",
      "3.124223602484472\n",
      "3.125581395348837\n",
      "3.126934984520124\n",
      "3.1221020092735703\n",
      "3.117283950617284\n",
      "3.1186440677966103\n",
      "3.12\n",
      "3.121351766513057\n",
      "3.1226993865030677\n",
      "3.124042879019908\n",
      "3.125382262996942\n",
      "3.1267175572519084\n",
      "3.1280487804878048\n",
      "3.1293759512937593\n",
      "3.1306990881458967\n",
      "3.1320182094081943\n",
      "3.1333333333333333\n",
      "3.128593040847201\n",
      "3.1299093655589125\n",
      "3.1312217194570136\n",
      "3.1325301204819276\n",
      "3.133834586466165\n",
      "3.129129129129129\n",
      "3.130434782608696\n",
      "3.1317365269461077\n",
      "3.133034379671151\n",
      "3.1343283582089554\n",
      "3.135618479880775\n",
      "3.136904761904762\n",
      "3.1322436849925706\n",
      "3.1335311572700295\n",
      "3.1348148148148147\n",
      "3.136094674556213\n",
      "3.137370753323486\n",
      "3.1386430678466075\n",
      "3.1399116347569955\n",
      "3.1411764705882352\n",
      "3.1365638766519823\n",
      "3.1378299120234603\n",
      "3.1390922401171304\n",
      "3.1403508771929824\n",
      "3.141605839416058\n",
      "Draws needed:  685\n"
     ]
    }
   ],
   "source": [
    "n = 0\n",
    "d = 0\n",
    "ratios = []\n",
    "xs = []\n",
    "ys = []\n",
    "simulating = True # use as a sentinel\n",
    "while simulating:\n",
    "    x = random.random()\n",
    "    y = random.random()\n",
    "    xs.append(x)\n",
    "    ys.append(y)\n",
    "    if x**2 + y**2 <= 1.0:\n",
    "        n += 1\n",
    "    d += 1\n",
    "    ratio = 4 * n * 1./d\n",
    "    \n",
    "    print(ratio)\n",
    "    ratios.append(ratio)\n",
    "    if abs(ratio-pi) / pi <= 0.00001:\n",
    "        print(\"Draws needed: \", d)\n",
    "        break"
   ]
  },
  {
   "cell_type": "markdown",
   "metadata": {},
   "source": [
    "## Plot the first 10 $\\pi$ estimation"
   ]
  },
  {
   "cell_type": "code",
   "execution_count": 15,
   "metadata": {
    "collapsed": false,
    "deletable": true,
    "editable": true,
    "jupyter": {
     "outputs_hidden": false
    }
   },
   "outputs": [
    {
     "data": {
      "text/plain": [
       "[<matplotlib.lines.Line2D at 0x168c6b2e0c0>]"
      ]
     },
     "execution_count": 15,
     "metadata": {},
     "output_type": "execute_result"
    },
    {
     "data": {
      "image/png": "[encoded data removed]",
      "text/plain": [
       "<Figure size 640x480 with 1 Axes>"
      ]
     },
     "metadata": {},
     "output_type": "display_data"
    }
   ],
   "source": [
    "plt.plot(ratios[:10])"
   ]
  },
  {
   "cell_type": "code",
   "execution_count": 16,
   "metadata": {
    "collapsed": false,
    "deletable": true,
    "editable": true,
    "jupyter": {
     "outputs_hidden": false
    }
   },
   "outputs": [
    {
     "data": {
      "text/plain": [
       "685"
      ]
     },
     "execution_count": 16,
     "metadata": {},
     "output_type": "execute_result"
    }
   ],
   "source": [
    "len(ratios)"
   ]
  },
  {
   "cell_type": "markdown",
   "metadata": {},
   "source": [
    "## Plot the first 500 $\\pi$ estimation with min and max values of the estimation"
   ]
  },
  {
   "cell_type": "code",
   "execution_count": 20,
   "metadata": {
    "collapsed": false,
    "deletable": true,
    "editable": true,
    "jupyter": {
     "outputs_hidden": false
    }
   },
   "outputs": [
    {
     "data": {
      "text/plain": [
       "(2.982456140350877, 4.0)"
      ]
     },
     "execution_count": 20,
     "metadata": {},
     "output_type": "execute_result"
    },
    {
     "data": {
      "image/png": "[encoded data removed]",
      "text/plain": [
       "<Figure size 640x480 with 1 Axes>"
      ]
     },
     "metadata": {},
     "output_type": "display_data"
    }
   ],
   "source": [
    "plt.plot(ratios[:500])\n",
    "plt.ylim(min(ratios), max(ratios))"
   ]
  },
  {
   "cell_type": "code",
   "execution_count": 22,
   "metadata": {
    "collapsed": false,
    "deletable": true,
    "editable": true,
    "jupyter": {
     "outputs_hidden": false
    }
   },
   "outputs": [
    {
     "data": {
      "text/plain": [
       "[4.0,\n",
       " 4.0,\n",
       " 4.0,\n",
       " 4.0,\n",
       " 3.2,\n",
       " 3.3333333333333335,\n",
       " 3.4285714285714284,\n",
       " 3.5,\n",
       " 3.5555555555555554,\n",
       " 3.6]"
      ]
     },
     "execution_count": 22,
     "metadata": {},
     "output_type": "execute_result"
    }
   ],
   "source": [
    "ratios[:10]"
   ]
  },
  {
   "cell_type": "markdown",
   "metadata": {},
   "source": [
    "## Plot the entire $\\pi$ estimation "
   ]
  },
  {
   "cell_type": "code",
   "execution_count": 25,
   "metadata": {
    "collapsed": false,
    "deletable": true,
    "editable": true,
    "jupyter": {
     "outputs_hidden": false
    }
   },
   "outputs": [
    {
     "data": {
      "text/plain": [
       "[<matplotlib.lines.Line2D at 0x168c6ceb6e0>]"
      ]
     },
     "execution_count": 25,
     "metadata": {},
     "output_type": "execute_result"
    },
    {
     "data": {
      "image/png": "[encoded data removed]",
      "text/plain": [
       "<Figure size 640x480 with 1 Axes>"
      ]
     },
     "metadata": {},
     "output_type": "display_data"
    }
   ],
   "source": [
    "plt.plot(ratios)"
   ]
  },
  {
   "cell_type": "markdown",
   "metadata": {
    "collapsed": false,
    "deletable": true,
    "editable": true,
    "jupyter": {
     "outputs_hidden": false
    }
   },
   "source": [
    "## Getting User Input"
   ]
  },
  {
   "cell_type": "code",
   "execution_count": 34,
   "metadata": {},
   "outputs": [
    {
     "name": "stdin",
     "output_type": "stream",
     "text": [
      "enter 100\n"
     ]
    },
    {
     "data": {
      "text/plain": [
       "'100'"
      ]
     },
     "execution_count": 34,
     "metadata": {},
     "output_type": "execute_result"
    }
   ],
   "source": [
    "input('enter')"
   ]
  },
  {
   "cell_type": "code",
   "execution_count": 36,
   "metadata": {},
   "outputs": [
    {
     "name": "stdin",
     "output_type": "stream",
     "text": [
      "enter 100\n"
     ]
    }
   ],
   "source": [
    "x = input('enter')"
   ]
  },
  {
   "cell_type": "code",
   "execution_count": 13,
   "metadata": {},
   "outputs": [
    {
     "data": {
      "text/plain": [
       "'100'"
      ]
     },
     "execution_count": 13,
     "metadata": {},
     "output_type": "execute_result"
    }
   ],
   "source": [
    "x"
   ]
  },
  {
   "cell_type": "code",
   "execution_count": 38,
   "metadata": {},
   "outputs": [
    {
     "data": {
      "text/plain": [
       "str"
      ]
     },
     "execution_count": 38,
     "metadata": {},
     "output_type": "execute_result"
    }
   ],
   "source": [
    "type(x)"
   ]
  },
  {
   "cell_type": "code",
   "execution_count": 40,
   "metadata": {},
   "outputs": [
    {
     "data": {
      "text/plain": [
       "100"
      ]
     },
     "execution_count": 40,
     "metadata": {},
     "output_type": "execute_result"
    }
   ],
   "source": [
    "int(x)"
   ]
  },
  {
   "cell_type": "code",
   "execution_count": 42,
   "metadata": {},
   "outputs": [
    {
     "data": {
      "text/plain": [
       "100.0"
      ]
     },
     "execution_count": 42,
     "metadata": {},
     "output_type": "execute_result"
    }
   ],
   "source": [
    "float(x)"
   ]
  },
  {
   "cell_type": "code",
   "execution_count": 44,
   "metadata": {},
   "outputs": [
    {
     "data": {
      "text/plain": [
       "int"
      ]
     },
     "execution_count": 44,
     "metadata": {},
     "output_type": "execute_result"
    }
   ],
   "source": [
    "type(int(x))"
   ]
  },
  {
   "cell_type": "code",
   "execution_count": 46,
   "metadata": {},
   "outputs": [
    {
     "data": {
      "text/plain": [
       "float"
      ]
     },
     "execution_count": 46,
     "metadata": {},
     "output_type": "execute_result"
    }
   ],
   "source": [
    "type(float(x))"
   ]
  },
  {
   "cell_type": "code",
   "execution_count": 19,
   "metadata": {},
   "outputs": [],
   "source": [
    "xf = float(x)"
   ]
  },
  {
   "cell_type": "code",
   "execution_count": 26,
   "metadata": {},
   "outputs": [
    {
     "data": {
      "text/plain": [
       "100.0"
      ]
     },
     "execution_count": 26,
     "metadata": {},
     "output_type": "execute_result"
    }
   ],
   "source": [
    "xf"
   ]
  },
  {
   "cell_type": "code",
   "execution_count": 92,
   "metadata": {},
   "outputs": [
    {
     "name": "stdin",
     "output_type": "stream",
     "text": [
      "Enter Convergence Criterion (percentage difference for stopping the loop): 0.0001\n",
      "Enter Sentinel value: 5000\n"
     ]
    },
    {
     "name": "stdout",
     "output_type": "stream",
     "text": [
      "4.0\n",
      "4.0\n",
      "4.0\n",
      "4.0\n",
      "4.0\n",
      "4.0\n",
      "4.0\n",
      "4.0\n",
      "3.5555555555555554\n",
      "3.2\n",
      "3.272727272727273\n",
      "3.3333333333333335\n",
      "3.076923076923077\n",
      "2.857142857142857\n",
      "2.933333333333333\n",
      "2.75\n",
      "2.823529411764706\n",
      "2.888888888888889\n",
      "2.9473684210526314\n",
      "3.0\n",
      "3.0476190476190474\n",
      "3.090909090909091\n",
      "3.130434782608696\n",
      "3.1666666666666665\n",
      "3.04\n",
      "3.076923076923077\n",
      "3.111111111111111\n",
      "3.142857142857143\n",
      "3.1724137931034484\n",
      "3.066666666666667\n",
      "3.096774193548387\n",
      "3.125\n",
      "3.1515151515151514\n",
      "3.176470588235294\n",
      "3.2\n",
      "3.2222222222222223\n",
      "3.2432432432432434\n",
      "3.1578947368421053\n",
      "3.1794871794871793\n",
      "3.2\n",
      "3.2195121951219514\n",
      "3.238095238095238\n",
      "3.255813953488372\n",
      "3.272727272727273\n",
      "3.2888888888888888\n",
      "3.3043478260869565\n",
      "3.234042553191489\n",
      "3.1666666666666665\n",
      "3.183673469387755\n",
      "3.2\n",
      "3.215686274509804\n",
      "3.230769230769231\n",
      "3.169811320754717\n",
      "3.185185185185185\n",
      "3.2\n",
      "3.2142857142857144\n",
      "3.2280701754385963\n",
      "3.2413793103448274\n",
      "3.2542372881355934\n",
      "3.2666666666666666\n",
      "3.2131147540983607\n",
      "3.225806451612903\n",
      "3.238095238095238\n",
      "3.1875\n",
      "3.1384615384615384\n",
      "3.090909090909091\n",
      "3.1044776119402986\n",
      "3.1176470588235294\n",
      "3.130434782608696\n",
      "3.142857142857143\n",
      "3.1549295774647885\n",
      "3.1666666666666665\n",
      "3.1232876712328768\n",
      "3.081081081081081\n",
      "3.0933333333333333\n",
      "3.1052631578947367\n",
      "3.116883116883117\n",
      "3.128205128205128\n",
      "3.1392405063291138\n",
      "3.1\n",
      "3.111111111111111\n",
      "3.1219512195121952\n",
      "3.1325301204819276\n",
      "3.0952380952380953\n",
      "3.0588235294117645\n",
      "3.0697674418604652\n",
      "3.0804597701149423\n",
      "3.090909090909091\n",
      "3.101123595505618\n",
      "3.111111111111111\n",
      "3.120879120879121\n",
      "3.130434782608696\n",
      "3.139784946236559\n",
      "3.148936170212766\n",
      "3.1578947368421053\n",
      "3.1666666666666665\n",
      "3.134020618556701\n",
      "3.142857142857143\n",
      "3.1515151515151514\n",
      "3.16\n",
      "3.1683168316831685\n",
      "3.1372549019607843\n",
      "3.145631067961165\n",
      "3.1538461538461537\n",
      "3.123809523809524\n",
      "3.1320754716981134\n",
      "3.1401869158878504\n",
      "3.1481481481481484\n",
      "3.1559633027522938\n",
      "3.1272727272727274\n",
      "3.099099099099099\n",
      "3.107142857142857\n",
      "3.1150442477876106\n",
      "3.087719298245614\n",
      "3.0956521739130434\n",
      "3.0689655172413794\n",
      "3.076923076923077\n",
      "3.0847457627118646\n",
      "3.092436974789916\n",
      "3.1\n",
      "3.1074380165289255\n",
      "3.081967213114754\n",
      "3.089430894308943\n",
      "3.096774193548387\n",
      "3.104\n",
      "3.111111111111111\n",
      "3.1181102362204722\n",
      "3.09375\n",
      "3.10077519379845\n",
      "3.1076923076923078\n",
      "3.114503816793893\n",
      "3.121212121212121\n",
      "3.1278195488721803\n",
      "3.1343283582089554\n",
      "3.111111111111111\n",
      "3.1176470588235294\n",
      "3.124087591240876\n",
      "3.130434782608696\n",
      "3.1079136690647484\n",
      "3.1142857142857143\n",
      "3.120567375886525\n",
      "3.1267605633802815\n",
      "3.132867132867133\n",
      "3.138888888888889\n",
      "3.1448275862068966\n",
      "3.1506849315068495\n",
      "3.129251700680272\n",
      "3.135135135135135\n",
      "3.140939597315436\n",
      "3.1466666666666665\n",
      "3.152317880794702\n",
      "3.1578947368421053\n",
      "3.1633986928104574\n",
      "3.168831168831169\n",
      "3.174193548387097\n",
      "3.1794871794871793\n",
      "3.159235668789809\n",
      "3.1645569620253164\n",
      "3.169811320754717\n",
      "3.175\n",
      "3.1552795031055902\n",
      "3.1358024691358026\n",
      "3.1411042944785277\n",
      "3.1219512195121952\n",
      "3.103030303030303\n",
      "3.108433734939759\n",
      "3.1137724550898205\n",
      "3.119047619047619\n",
      "3.1242603550295858\n",
      "3.1294117647058823\n",
      "3.134502923976608\n",
      "3.13953488372093\n",
      "3.1445086705202314\n",
      "3.1494252873563218\n",
      "3.1542857142857144\n",
      "3.1363636363636362\n",
      "3.1412429378531073\n",
      "3.146067415730337\n",
      "3.1508379888268156\n",
      "3.1555555555555554\n",
      "3.138121546961326\n",
      "3.142857142857143\n",
      "3.1475409836065573\n",
      "3.152173913043478\n",
      "3.135135135135135\n",
      "3.139784946236559\n",
      "3.144385026737968\n",
      "3.148936170212766\n",
      "3.132275132275132\n",
      "3.136842105263158\n",
      "3.141361256544503\n",
      "Draws needed:  191\n"
     ]
    }
   ],
   "source": [
    "ccrit= input('Enter Convergence Criterion (percentage difference for stopping the loop):')\n",
    "ccritf= float(ccrit)\n",
    "sent= input('Enter Sentinel value:')\n",
    "sentf= float(sent)\n",
    "type(sentf)\n",
    "\n",
    "\n",
    "n = 0\n",
    "d = 0\n",
    "ratios = []\n",
    "xs = []\n",
    "ys = []\n",
    "simulating = 0 # use as a sentinel\n",
    "while simulating < sentf:\n",
    "    x = random.random()\n",
    "    y = random.random()\n",
    "    xs.append(x)\n",
    "    ys.append(y)\n",
    "    if x**2 + y**2 <= 1.0:\n",
    "        n += 1\n",
    "    d += 1\n",
    "    simulating += 1\n",
    "    ratio = 4 * n * 1./d\n",
    "    \n",
    "    print(ratio)\n",
    "    ratios.append(ratio)\n",
    "    if abs(ratio-pi) / pi <= ccritf:\n",
    "        print(\"Draws needed: \", d)\n",
    "        break\n",
    "    if simulating == sentf:\n",
    "        print('error: Draws exceeded sentinel value')      \n",
    "        break\n"
   ]
  },
  {
   "cell_type": "code",
   "execution_count": null,
   "metadata": {},
   "outputs": [],
   "source": []
  }
 ],
 "metadata": {
  "kernelspec": {
   "display_name": "Python [conda env:base] *",
   "language": "python",
   "name": "conda-base-py"
  },
  "language_info": {
   "codemirror_mode": {
    "name": "ipython",
    "version": 3
   },
   "file_extension": ".py",
   "mimetype": "text/x-python",
   "name": "python",
   "nbconvert_exporter": "python",
   "pygments_lexer": "ipython3",
   "version": "3.12.7"
  }
 },
 "nbformat": 4,
 "nbformat_minor": 4
}
