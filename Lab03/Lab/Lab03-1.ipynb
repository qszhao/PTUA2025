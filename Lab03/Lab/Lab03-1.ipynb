{
 "cells": [
  {
   "cell_type": "markdown",
   "id": "decc8654-f285-44d5-97cd-db7f3c39ace5",
   "metadata": {},
   "source": [
    "# Lab 03-1: Operators and Strings"
   ]
  },
  {
   "cell_type": "code",
   "execution_count": 120,
   "id": "e80abc85-29de-41b7-bed8-f1ad52c91b00",
   "metadata": {},
   "outputs": [],
   "source": [
    "import math\n",
    "import datetime"
   ]
  },
  {
   "cell_type": "markdown",
   "id": "12e41395-2a54-4c4b-90cd-f3dfd3ee0bfd",
   "metadata": {},
   "source": [
    "## Operators"
   ]
  },
  {
   "cell_type": "markdown",
   "id": "15c5e39b-8e44-4e95-b82c-90ed47b3347f",
   "metadata": {},
   "source": [
    "### Exercise 1"
   ]
  },
  {
   "cell_type": "markdown",
   "id": "dbd88b22-80e4-4af4-b41f-88a004080d32",
   "metadata": {},
   "source": [
    "***We’ve seen that n = 42 is legal. What about 42 = n?***"
   ]
  },
  {
   "cell_type": "code",
   "execution_count": 8,
   "id": "c1e4a012-129c-4c70-bd1c-e9d07d86b3ed",
   "metadata": {},
   "outputs": [
    {
     "ename": "SyntaxError",
     "evalue": "cannot assign to literal here. Maybe you meant '==' instead of '='? (3090476294.py, line 1)",
     "output_type": "error",
     "traceback": [
      "\u001b[1;36m  Cell \u001b[1;32mIn[8], line 1\u001b[1;36m\u001b[0m\n\u001b[1;33m    42 = n\u001b[0m\n\u001b[1;37m    ^\u001b[0m\n\u001b[1;31mSyntaxError\u001b[0m\u001b[1;31m:\u001b[0m cannot assign to literal here. Maybe you meant '==' instead of '='?\n"
     ]
    }
   ],
   "source": [
    "42 = n"
   ]
  },
  {
   "cell_type": "markdown",
   "id": "1ed092e2-37a8-491c-b2db-b5c8d4035063",
   "metadata": {},
   "source": [
    "`42 = n` is not legal as it is attempting to store `n` into the number `42`, which does not make sense and results in a syntax error. In other words, it attempts to assign a value to a constant (`42`). Constants (like literal numbers) cannot be assigned values; only variables can hold values. "
   ]
  },
  {
   "cell_type": "markdown",
   "id": "a7618ca6-cee2-4d5e-9971-a570cc979814",
   "metadata": {},
   "source": [
    "***How about x = y = 1?***"
   ]
  },
  {
   "cell_type": "code",
   "execution_count": 12,
   "id": "47fdb642-1256-4d4f-9ba4-33bf47591366",
   "metadata": {},
   "outputs": [
    {
     "name": "stdout",
     "output_type": "stream",
     "text": [
      "x = 1\n",
      "y = 1\n"
     ]
    }
   ],
   "source": [
    "x = y = 1\n",
    "print(\"x =\", x)\n",
    "print(\"y =\", y)"
   ]
  },
  {
   "cell_type": "markdown",
   "id": "be33e21c-b56f-490b-8a4e-d8948167887b",
   "metadata": {},
   "source": [
    "`x` is assigned the value of `y`, which is assigned the value of `1`. Therefore, both `x` and `y` take on the value of `1`. The expression `x = y = 1` is an example of chained assignment. It means that both `x` and `y` are assigned the value `1` in a single line. This is a convenient way to assign the same value to multiple variables at once. In other words, we are assigning the same value to multiple variables in one line."
   ]
  },
  {
   "cell_type": "markdown",
   "id": "680888d7-36e0-4058-a1af-d6fb20482bf5",
   "metadata": {},
   "source": [
    "***In some languages every statement ends with a semi-colon, ;. What happens if you put a semi-colon at the end of a Python statement?***"
   ]
  },
  {
   "cell_type": "code",
   "execution_count": 16,
   "id": "abb4230f-2a09-4636-a8ee-3318423523c5",
   "metadata": {},
   "outputs": [],
   "source": [
    "x = y = 1;"
   ]
  },
  {
   "cell_type": "markdown",
   "id": "f30b9740-154a-45d7-ae40-c909f80d5fe4",
   "metadata": {},
   "source": [
    "In Python, adding a semicolon (;) at the end of a statement doesn't cause any issues—it is allowed but not required."
   ]
  },
  {
   "cell_type": "code",
   "execution_count": 19,
   "id": "ed455342-57e3-4782-8ec9-a91400755085",
   "metadata": {},
   "outputs": [],
   "source": [
    "x = y = 1."
   ]
  },
  {
   "cell_type": "code",
   "execution_count": 21,
   "id": "39042398-8036-4839-9c65-645e93008d36",
   "metadata": {},
   "outputs": [
    {
     "ename": "SyntaxError",
     "evalue": "invalid syntax (724143125.py, line 1)",
     "output_type": "error",
     "traceback": [
      "\u001b[1;36m  Cell \u001b[1;32mIn[21], line 1\u001b[1;36m\u001b[0m\n\u001b[1;33m    x = y = 1 .\u001b[0m\n\u001b[1;37m               ^\u001b[0m\n\u001b[1;31mSyntaxError\u001b[0m\u001b[1;31m:\u001b[0m invalid syntax\n"
     ]
    }
   ],
   "source": [
    "x = y = 1 ."
   ]
  },
  {
   "cell_type": "markdown",
   "id": "8b56a95f-f276-45ac-a4d0-3585ea35aa78",
   "metadata": {},
   "source": [
    "If we write `x = y = 1.`, the period indicates that `1.` is a floating-point number (`1.0`). This is valid and will assign the value `1.0` to `x`.\n",
    "\n",
    "If we add a period that does not serve a purpose (e.g., `x = y = 1 .`), Python will raise a syntax error, because the period is not expected in this context.\n",
    "\n",
    "We cannot place a period at the end of a Python statement unless it has a valid function, like representing a decimal number or being part of an object attribute."
   ]
  },
  {
   "cell_type": "markdown",
   "id": "51761233-6a1d-44e8-9fc6-ba1a37728346",
   "metadata": {},
   "source": [
    "***In math notation you can multiply x and y like this: x y. What happens if you try that in Python?***"
   ]
  },
  {
   "cell_type": "code",
   "execution_count": 27,
   "id": "1a03ca60-96e2-424e-b2de-4293c4b76fbe",
   "metadata": {},
   "outputs": [
    {
     "ename": "SyntaxError",
     "evalue": "invalid syntax (1567273689.py, line 1)",
     "output_type": "error",
     "traceback": [
      "\u001b[1;36m  Cell \u001b[1;32mIn[27], line 1\u001b[1;36m\u001b[0m\n\u001b[1;33m    x y\u001b[0m\n\u001b[1;37m      ^\u001b[0m\n\u001b[1;31mSyntaxError\u001b[0m\u001b[1;31m:\u001b[0m invalid syntax\n"
     ]
    }
   ],
   "source": [
    "x y"
   ]
  },
  {
   "cell_type": "markdown",
   "id": "bdba455d-4c26-4bdb-bb38-3a96201c8c19",
   "metadata": {},
   "source": [
    "`x y` results in a syntax error as the expression is incomplete. Python does not understand what it means as there is no operator connecting the two variables. "
   ]
  },
  {
   "cell_type": "markdown",
   "id": "b1f19e50-710d-4471-9730-f07618b41a53",
   "metadata": {},
   "source": [
    "### Exercise 2"
   ]
  },
  {
   "cell_type": "markdown",
   "id": "5528e9bf-9bf6-45d3-bb93-312cbe7cbc2d",
   "metadata": {},
   "source": [
    "***1. The volume of a sphere with radius r is $\\frac{4}{3} \\pi r^3$. What is the volume of a sphere with radius 5?***"
   ]
  },
  {
   "cell_type": "code",
   "execution_count": 50,
   "id": "d129930d-914e-4473-9bd6-6f0e2e817046",
   "metadata": {},
   "outputs": [
    {
     "data": {
      "text/plain": [
       "523.5987755982989"
      ]
     },
     "execution_count": 50,
     "metadata": {},
     "output_type": "execute_result"
    }
   ],
   "source": [
    "(4/3)*(math.pi)*(5)**3"
   ]
  },
  {
   "cell_type": "markdown",
   "id": "fe51bfab-2e2e-46c6-b3cc-0cf4795b6866",
   "metadata": {},
   "source": [
    "The volume of a sphere with radius 5 is **524**."
   ]
  },
  {
   "cell_type": "markdown",
   "id": "ea3969a0-6bbf-46ce-8c8c-d7b57c395e1f",
   "metadata": {},
   "source": [
    "***2. Suppose the cover price of a book is \\\\$24.95, but bookstores get a 40% discount. Shipping costs $3 for the first copy and 75 cents for each additional copy. What is the total wholesale cost for 60 copies?***"
   ]
  },
  {
   "cell_type": "code",
   "execution_count": 85,
   "id": "7d558cc5-525f-41c5-8d0a-f2c2ad947ae2",
   "metadata": {},
   "outputs": [
    {
     "data": {
      "text/plain": [
       "945.4499999999999"
      ]
     },
     "execution_count": 85,
     "metadata": {},
     "output_type": "execute_result"
    }
   ],
   "source": [
    "0.6*24.95*60+3+0.75*59"
   ]
  },
  {
   "cell_type": "markdown",
   "id": "82dfa036-7934-46b6-ac83-5f624fd72a89",
   "metadata": {},
   "source": [
    "The total wholesale cost for 60 copies is **\\\\$945.45**."
   ]
  },
  {
   "cell_type": "markdown",
   "id": "b99a56a6-5358-41b4-9c8d-7bee9663e8bb",
   "metadata": {},
   "source": [
    "***3. If I leave my house at 6:52 am and run 1 mile at an easy pace (8:15 per mile), then 3 miles at tempo (7:12 per mile) and 1 mile at easy pace again, what time do I get home for breakfast?***"
   ]
  },
  {
   "cell_type": "code",
   "execution_count": 151,
   "id": "778e0252-cf10-4c11-87d4-6014c4972efc",
   "metadata": {},
   "outputs": [
    {
     "name": "stdout",
     "output_type": "stream",
     "text": [
      "Start time: 06:52:00\n",
      "Seconds taken = 2286\n",
      "End time: 07:30:06\n"
     ]
    }
   ],
   "source": [
    "start_time = datetime.datetime(1,1,1,6,52,0) # dummy date 1, 1, 1\n",
    "print(\"Start time:\", start_time.time())\n",
    "seconds_taken = (8*60+15)+3*(7*60+12)+(8*60+15)\n",
    "print(\"Seconds taken =\", seconds_taken)\n",
    "end_time = start_time + datetime.timedelta(seconds = seconds_taken)\n",
    "print(\"End time:\", end_time.time())"
   ]
  },
  {
   "cell_type": "markdown",
   "id": "d3646e48-08f8-4f7c-a50c-57721a800171",
   "metadata": {},
   "source": [
    "You will get home for breakfast at **7:30 am**."
   ]
  },
  {
   "cell_type": "markdown",
   "id": "1acc8737-72d6-4a47-89bf-9b852e83ebac",
   "metadata": {},
   "source": [
    "## Strings"
   ]
  },
  {
   "cell_type": "markdown",
   "id": "5811278b-3a10-48a3-bdae-013865100d42",
   "metadata": {},
   "source": [
    "### Exercise 1"
   ]
  },
  {
   "cell_type": "markdown",
   "id": "065e85cb-8dce-4a45-b209-60304ca346cb",
   "metadata": {},
   "source": [
    "***Read the documentation of the string methods at http://docs.python.org/3/library/stdtypes.html#string-methods. You might want to experiment with some of them to make sure you understand how they work. `strip` and `replace` are particularly useful.***"
   ]
  },
  {
   "cell_type": "code",
   "execution_count": 212,
   "id": "fee55efc-227a-4f13-b729-13837d1c8cc4",
   "metadata": {},
   "outputs": [
    {
     "name": "stdout",
     "output_type": "stream",
     "text": [
      "I love oranges, oranges are great.\n",
      "I love oranges, apples are great.\n",
      "apples\n",
      "I love \n",
      "apples.\n"
     ]
    }
   ],
   "source": [
    "# str.replace(\"a\", \"b\"): replacing all occurrences\n",
    "text = \"I love apples, apples are great.\"\n",
    "new_text = text.replace(\"apples\", \"oranges\")\n",
    "print(new_text)\n",
    "\n",
    "# str.replace(\"a\", \"b\", n): limiting number of replacements\n",
    "text = \"I love apples, apples are great.\"\n",
    "new_text = text.replace(\"apples\", \"oranges\", 1) # count parameter is set to 1\n",
    "print(new_text)\n",
    "\n",
    "# str.strip(char): removes any combination of the characters specified in the string passed to the strip() method from both the start and the end of the string. \n",
    "# It does not remove characters from the middle of the string.\n",
    "text = \"I love apples.\"\n",
    "new_text = text.strip('I love .')\n",
    "print(new_text)\n",
    "\n",
    "# str.rstrip(char): returns a copy of the string with trailing characters removed. \n",
    "text = \"I love apples.\"\n",
    "new_text = text.rstrip('apples.')\n",
    "print(new_text)\n",
    "\n",
    "# str.lstrip(char): returns a copy of the string with leading characters removed. \n",
    "text = \"I love apples.\"\n",
    "new_text = text.lstrip('I love ')\n",
    "print(new_text)"
   ]
  },
  {
   "cell_type": "markdown",
   "id": "f8b0e4c6-ad3d-447a-b7bf-1aa6eb7edfde",
   "metadata": {},
   "source": [
    "### Exercise 2"
   ]
  },
  {
   "cell_type": "markdown",
   "id": "a265baa4-7055-4373-8596-c1af52ef42b9",
   "metadata": {},
   "source": [
    "***There is a string method called `count` that is similar to the function in Section 8.7. Read the documentation of this method and write an invocation that counts the number of `a`’s in `'banana'`.***"
   ]
  },
  {
   "cell_type": "code",
   "execution_count": 251,
   "id": "f7b4de0c-1c9c-4d55-ad76-4b82705282b7",
   "metadata": {},
   "outputs": [
    {
     "name": "stdout",
     "output_type": "stream",
     "text": [
      "3\n"
     ]
    }
   ],
   "source": [
    "# str.count(sub[, start[, end]]): returns the number of non-overlapping occurrences of substring sub in the range [start, end].\n",
    "text = \"banana\"\n",
    "count_a = text.count('a')\n",
    "print(count_a)"
   ]
  },
  {
   "cell_type": "markdown",
   "id": "e9cfa054-7b35-4dae-aecb-eb2afbb86e37",
   "metadata": {},
   "source": [
    "The number of `a`'s in `'banana'` is **3**."
   ]
  },
  {
   "cell_type": "markdown",
   "id": "6aadeadd-2315-4ffe-8f45-12d77744fe9a",
   "metadata": {},
   "source": [
    "### Exercise 3"
   ]
  },
  {
   "cell_type": "markdown",
   "id": "25368e33-0238-4726-9132-54ba577b375d",
   "metadata": {},
   "source": [
    "***A string slice can take a third index that specifies the “step size”; that is, the number of spaces between successive characters. Use this idiom to write a one-line version of `is_palindrome` from Exercise 3.***"
   ]
  },
  {
   "cell_type": "code",
   "execution_count": 279,
   "id": "7fa89fa9-0bd0-4667-905e-61aeaad08f5b",
   "metadata": {},
   "outputs": [
    {
     "name": "stdout",
     "output_type": "stream",
     "text": [
      "False\n",
      "True\n",
      "True\n",
      "True\n"
     ]
    }
   ],
   "source": [
    "def is_palindrome(word): return word == word[::-1] # [::-1] creates a reversed version of the string\n",
    "\n",
    "print(is_palindrome('allen'))\n",
    "print(is_palindrome('bob'))\n",
    "print(is_palindrome('otto'))\n",
    "print(is_palindrome('redivider'))"
   ]
  },
  {
   "cell_type": "markdown",
   "id": "9bad99c6-820e-4b94-a2df-9a2ca6a2dd8d",
   "metadata": {},
   "source": [
    "### Exercise 4"
   ]
  },
  {
   "cell_type": "markdown",
   "id": "c9cfc7b7-551c-4ac0-84ca-06c56066bd01",
   "metadata": {},
   "source": [
    "***The following functions are all intended to check whether a string contains any lowercase letters, but at least some of them are wrong. For each function, describe what the function actually does (assuming that the parameter is a string).***"
   ]
  },
  {
   "cell_type": "code",
   "execution_count": 348,
   "id": "70ab406e-a72b-45f5-8c97-69ce7b6b956a",
   "metadata": {},
   "outputs": [
    {
     "name": "stdout",
     "output_type": "stream",
     "text": [
      "False\n"
     ]
    }
   ],
   "source": [
    "def any_lowercase1(s):\n",
    "    for c in s:\n",
    "        if c.islower():\n",
    "            return True\n",
    "        else:\n",
    "            return False\n",
    "\n",
    "print(any_lowercase1(\"I have an apple\"))"
   ]
  },
  {
   "cell_type": "markdown",
   "id": "2c565167-1641-4581-a5a8-bbd58906daae",
   "metadata": {},
   "source": [
    "This function only checks whether the **first** character of the string is a lowercase letter."
   ]
  },
  {
   "cell_type": "code",
   "execution_count": 351,
   "id": "48c96238-5bfb-4be6-a962-51124590e627",
   "metadata": {},
   "outputs": [
    {
     "name": "stdout",
     "output_type": "stream",
     "text": [
      "True\n"
     ]
    }
   ],
   "source": [
    "def any_lowercase2(s):\n",
    "    for c in s:\n",
    "        if 'c'.islower():\n",
    "            return 'True'\n",
    "        else:\n",
    "            return 'False'\n",
    "\n",
    "print(any_lowercase2(\"I have an apple\"))"
   ]
  },
  {
   "cell_type": "markdown",
   "id": "53f77e5e-3425-4c58-af36-9163ec63d82c",
   "metadata": {},
   "source": [
    "`'c'` is being interpreted as the literal string `'c'` (a single character string) rather than the variable c. Therefore, `'c'.islower()` is always checking whether the literal character `'c'` is lowercase, which is always `'True'`."
   ]
  },
  {
   "cell_type": "code",
   "execution_count": 360,
   "id": "d279c01a-c6bf-43d0-bf1b-1c8003801f50",
   "metadata": {},
   "outputs": [
    {
     "name": "stdout",
     "output_type": "stream",
     "text": [
      "True\n",
      "False\n"
     ]
    }
   ],
   "source": [
    "def any_lowercase3(s):\n",
    "    for c in s:\n",
    "        flag = c.islower()\n",
    "    return flag\n",
    "\n",
    "print(any_lowercase3(\"I have an apple\"))\n",
    "print(any_lowercase3(\"I have an applE\"))"
   ]
  },
  {
   "cell_type": "markdown",
   "id": "650f2aab-de53-444e-b55c-72e4b521784a",
   "metadata": {},
   "source": [
    "The function overwrites the value of `flag` on each iteration of the loop. By the time the loop finishes, `flag` will only hold the result (`True` or `False`) for the last character in the string, thereby ignoring the rest of the characters that come before it."
   ]
  },
  {
   "cell_type": "code",
   "execution_count": 371,
   "id": "5f44cc39-8751-4276-b3d1-6b253e871ef6",
   "metadata": {},
   "outputs": [
    {
     "name": "stdout",
     "output_type": "stream",
     "text": [
      "True\n",
      "False\n",
      "True\n"
     ]
    }
   ],
   "source": [
    "def any_lowercase4(s):\n",
    "    flag = False\n",
    "    for c in s:\n",
    "        flag = flag or c.islower()\n",
    "    return flag\n",
    "\n",
    "print(any_lowercase4(\"I have an apple\"))\n",
    "print(any_lowercase4(\"I HAVE AN APPLE\"))\n",
    "print(any_lowercase4(\"I have an applE\"))"
   ]
  },
  {
   "cell_type": "markdown",
   "id": "17cb46c7-b9b5-4678-89f6-f63b5c22737f",
   "metadata": {},
   "source": [
    "The function is technically correct, though slightly inefficient. Once the function detects a lowercase letter, it continues to check the remaining characters, even though the result is already determined (i.e., `flag` will remain `True`)."
   ]
  },
  {
   "cell_type": "code",
   "execution_count": 386,
   "id": "ac756503-1226-4cfb-a382-2819bcc515c0",
   "metadata": {},
   "outputs": [
    {
     "name": "stdout",
     "output_type": "stream",
     "text": [
      "True\n",
      "False\n",
      "False\n",
      "False\n"
     ]
    }
   ],
   "source": [
    "def any_lowercase5(s):\n",
    "    for c in s:\n",
    "        if not c.islower():\n",
    "            return False\n",
    "    return True\n",
    "\n",
    "print(any_lowercase5(\"ihaveanapple\"))\n",
    "print(any_lowercase5(\"i have an apple.\"))\n",
    "print(any_lowercase5(\"I HAVE AN APPLE\"))\n",
    "print(any_lowercase5(\"I have an applE\"))"
   ]
  },
  {
   "cell_type": "markdown",
   "id": "a603a2cc-e270-4f4f-a00a-93081b871a03",
   "metadata": {},
   "source": [
    "The function will return `False` as soon as it encounters any character that is **not** lowercase. In other words, the function checks whether ***all*** characters are lowercase, not whether there are ***any*** lowercase characters. \n",
    "\n",
    "Any space or punctuation mark (i.e., `.`) will also result in a `False` output even if all the other characters are lowercase."
   ]
  },
  {
   "cell_type": "markdown",
   "id": "9e226200-08e3-4bc6-afb1-4098118e1831",
   "metadata": {},
   "source": [
    "### Exercise 5"
   ]
  },
  {
   "cell_type": "markdown",
   "id": "0eebcd83-6327-49b6-9e1b-78d4f1c44549",
   "metadata": {},
   "source": [
    "***Write a function called `rotate_word` that takes a string and an integer as parameters, and returns a new string that contains the letters from the original string rotated by the given amount.***"
   ]
  },
  {
   "cell_type": "code",
   "execution_count": 421,
   "id": "60219092-2429-4b0a-a153-1573990ba173",
   "metadata": {},
   "outputs": [
    {
     "name": "stdout",
     "output_type": "stream",
     "text": [
      "bcd\n",
      "CDE\n",
      "HAL\n"
     ]
    }
   ],
   "source": [
    "def rotate_word(word, n): # rotate a word by n places (word = string, n = integer)\n",
    "    result = '' # initialise an empty string `result` to store the rotated characters\n",
    "\n",
    "    for c in word:\n",
    "        # check if the character is a letter\n",
    "        if c.isalpha():\n",
    "            # determine if the character is uppercase or lowercase\n",
    "            start = ord('A') if c.isupper() else ord('a')\n",
    "            # rotate character within the alphabet\n",
    "            rotated_c = chr(start + (ord(c) - start + n) % 26)\n",
    "            result += rotated_c\n",
    "        else:\n",
    "            # if it is not a letter, leave it unchanged\n",
    "            result += c\n",
    "    \n",
    "    return result\n",
    "\n",
    "print(rotate_word(\"abc\", 1)) \n",
    "print(rotate_word(\"XYZ\", 5))\n",
    "print(rotate_word(\"IBM\", -1))"
   ]
  }
 ],
 "metadata": {
  "kernelspec": {
   "display_name": "Python [conda env:base] *",
   "language": "python",
   "name": "conda-base-py"
  },
  "language_info": {
   "codemirror_mode": {
    "name": "ipython",
    "version": 3
   },
   "file_extension": ".py",
   "mimetype": "text/x-python",
   "name": "python",
   "nbconvert_exporter": "python",
   "pygments_lexer": "ipython3",
   "version": "3.12.7"
  }
 },
 "nbformat": 4,
 "nbformat_minor": 5
}
