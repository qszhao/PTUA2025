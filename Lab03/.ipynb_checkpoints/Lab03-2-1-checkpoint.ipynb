{
 "cells": [
  {
   "cell_type": "code",
   "execution_count": null,
   "id": "87fdfa88-2bc1-4484-94d8-cc36b996d6bb",
   "metadata": {},
   "outputs": [],
   "source": [
    "import random\n",
    "import math\n",
    "\n",
    "def estimate_pi(convergence_criterion, sentinel):\n",
    "    inside_circle = 0\n",
    "    total_points = 0\n",
    "    pi_estimate = 0\n",
    "    true_pi = math.pi\n",
    "\n",
    "    while total_points < sentinel:\n",
    "        x, y = random.random(), random.random()\n",
    "        if x**2 + y**2 <= 1:\n",
    "            inside_circle += 1\n",
    "        total_points += 1\n",
    "        new_pi_estimate = 4 * inside_circle / total_points\n",
    "        if abs(new_pi_estimate - pi_estimate) < convergence_criterion * pi_estimate:\n",
    "            break\n",
    "        pi_estimate = new_pi_estimate\n",
    "\n",
    "    if total_points >= sentinel:\n",
    "        print(f\"Draw limit reached. Current estimate: {pi_estimate}, True value: {true_pi}\")\n",
    "    else:\n",
    "        print(f\"Pi estimate: {pi_estimate}, True value: {true_pi}, Iterations: {total_points}\")\n",
    "estimate_pi(convergence_criterion, sentinel)\n"
   ]
  },
  {
   "cell_type": "code",
   "execution_count": null,
   "id": "9fdf0e18-498e-4627-b5fc-8d7451cc18a6",
   "metadata": {},
   "outputs": [],
   "source": [
    "convergence_criterion = float(input(\"Enter the convergence criterion as a decimal: \"))\n",
    "sentinel = int(input(\"Enter the maximum number of iterations: \"))\n",
    "estimate_pi(convergence_criterion, sentinel)"
   ]
  }
 ],
 "metadata": {
  "kernelspec": {
   "display_name": "Python [conda env:base] *",
   "language": "python",
   "name": "conda-base-py"
  },
  "language_info": {
   "codemirror_mode": {
    "name": "ipython",
    "version": 3
   },
   "file_extension": ".py",
   "mimetype": "text/x-python",
   "name": "python",
   "nbconvert_exporter": "python",
   "pygments_lexer": "ipython3",
   "version": "3.12.7"
  }
 },
 "nbformat": 4,
 "nbformat_minor": 5
}
