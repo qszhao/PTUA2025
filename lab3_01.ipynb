{
 "cells": [
  {
   "cell_type": "code",
   "execution_count": 16,
   "id": "1c892e8e-7bf1-4e88-b6fb-0e9070e31288",
   "metadata": {},
   "outputs": [
    {
     "name": "stdout",
     "output_type": "stream",
     "text": [
      "42\n"
     ]
    }
   ],
   "source": [
    "# Chapter2 exercises 1\n",
    "n=42\n",
    "print(n)"
   ]
  },
  {
   "cell_type": "code",
   "execution_count": null,
   "id": "106b1842-e4a4-41a4-a107-f28bd9881320",
   "metadata": {},
   "outputs": [],
   "source": [
    "42=n\n",
    "print(42)"
   ]
  },
  {
   "cell_type": "code",
   "execution_count": 18,
   "id": "accfe0f7-de56-4038-a864-c1fe6060e45c",
   "metadata": {},
   "outputs": [
    {
     "name": "stdout",
     "output_type": "stream",
     "text": [
      "1\n",
      "1\n"
     ]
    }
   ],
   "source": [
    "x=y=1\n",
    "print(x)\n",
    "print(y)"
   ]
  },
  {
   "cell_type": "code",
   "execution_count": 28,
   "id": "de914700-a71e-4d6c-9225-78a629ab171b",
   "metadata": {},
   "outputs": [
    {
     "name": "stdout",
     "output_type": "stream",
     "text": [
      "10 2 5\n"
     ]
    }
   ],
   "source": [
    "n=10;\n",
    "a=2;\n",
    "b=5;\n",
    "print(n,a,b)"
   ]
  },
  {
   "cell_type": "code",
   "execution_count": 32,
   "id": "a5b2fddf-6c29-45e9-b2e8-35895600e9df",
   "metadata": {},
   "outputs": [
    {
     "ename": "SyntaxError",
     "evalue": "invalid syntax (3418066277.py, line 1)",
     "output_type": "error",
     "traceback": [
      "\u001b[1;36m  Cell \u001b[1;32mIn[32], line 1\u001b[1;36m\u001b[0m\n\u001b[1;33m    n=10..\u001b[0m\n\u001b[1;37m          ^\u001b[0m\n\u001b[1;31mSyntaxError\u001b[0m\u001b[1;31m:\u001b[0m invalid syntax\n"
     ]
    }
   ],
   "source": [
    "n=10.\n",
    "a=2.\n",
    "b=5.\n",
    "print(n,a,b)"
   ]
  },
  {
   "cell_type": "code",
   "execution_count": 38,
   "id": "c8b1eb60-93e8-433b-926f-67af209a225c",
   "metadata": {},
   "outputs": [
    {
     "name": "stdout",
     "output_type": "stream",
     "text": [
      "6\n"
     ]
    }
   ],
   "source": [
    "x=3\n",
    "y=2\n",
    "print(x*y)"
   ]
  },
  {
   "cell_type": "code",
   "execution_count": 40,
   "id": "43992be2-0872-4e95-8e4f-4e88b64e2770",
   "metadata": {},
   "outputs": [
    {
     "ename": "NameError",
     "evalue": "name 'xy' is not defined",
     "output_type": "error",
     "traceback": [
      "\u001b[1;31m---------------------------------------------------------------------------\u001b[0m",
      "\u001b[1;31mNameError\u001b[0m                                 Traceback (most recent call last)",
      "Cell \u001b[1;32mIn[40], line 3\u001b[0m\n\u001b[0;32m      1\u001b[0m x\u001b[38;5;241m=\u001b[39m\u001b[38;5;241m3\u001b[39m\n\u001b[0;32m      2\u001b[0m y\u001b[38;5;241m=\u001b[39m\u001b[38;5;241m2\u001b[39m\n\u001b[1;32m----> 3\u001b[0m \u001b[38;5;28mprint\u001b[39m(xy)\n",
      "\u001b[1;31mNameError\u001b[0m: name 'xy' is not defined"
     ]
    }
   ],
   "source": [
    "x=3\n",
    "y=2\n",
    "print(xy)"
   ]
  },
  {
   "cell_type": "code",
   "execution_count": 44,
   "id": "534f8350-11db-42ac-9031-d94e6f1d2ae1",
   "metadata": {},
   "outputs": [
    {
     "name": "stdout",
     "output_type": "stream",
     "text": [
      "523.5987755982989\n"
     ]
    }
   ],
   "source": [
    "# exercises 2 \n",
    "import math\n",
    "\n",
    "# 1\n",
    "r = 5\n",
    "volume = (4/3) * math.pi * (r ** 3)\n",
    "print(volume)"
   ]
  },
  {
   "cell_type": "code",
   "execution_count": 46,
   "id": "5674a885-95a2-41b0-b295-ccd76e9e392b",
   "metadata": {},
   "outputs": [
    {
     "name": "stdout",
     "output_type": "stream",
     "text": [
      "945.4499999999999\n"
     ]
    }
   ],
   "source": [
    "# 2 \n",
    "book_price = 24.95\n",
    "discount =1-0.40\n",
    "shipping_first = 3.00\n",
    "shipping_additional = 0.75\n",
    "\n",
    "wholesale_cost = (book_price * ( discount) * 60) + shipping_first + (shipping_additional * 59)\n",
    "print(wholesale_cost)"
   ]
  },
  {
   "cell_type": "code",
   "execution_count": 51,
   "id": "4a37f78a-d29d-4d6c-9f52-ebf5db793d1f",
   "metadata": {},
   "outputs": [
    {
     "name": "stdout",
     "output_type": "stream",
     "text": [
      "7:27 AM\n"
     ]
    }
   ],
   "source": [
    "# 3\n",
    "start_time_minutes = (6 * 60) + 52 \n",
    "\n",
    "pace_easy = (8 * 60) + 15  \n",
    "pace_tempo = (7 * 60) + 12 \n",
    "pace_fast = (6 * 60)  \n",
    "\n",
    "total_running_time = (1 * pace_easy) + (3 * pace_tempo) + (1 * pace_fast)\n",
    "\n",
    "time_finished_minutes = start_time_minutes + (total_running_time / 60)\n",
    "hour = int(time_finished_minutes // 60)\n",
    "minute = int(time_finished_minutes % 60)\n",
    "\n",
    "print( f\"{hour}:{minute} AM\")"
   ]
  },
  {
   "cell_type": "code",
   "execution_count": 9,
   "id": "04a93bcc-fe8b-467a-9473-de1252baa712",
   "metadata": {},
   "outputs": [
    {
     "name": "stdout",
     "output_type": "stream",
     "text": [
      "Hello, World!\n",
      "  Hello, Python!  \n",
      "  HELLO, WORLD!  \n",
      "  hello, world!  \n",
      "['  Hello', 'World!  ']\n"
     ]
    }
   ],
   "source": [
    "# chapter 8 exercises 1\n",
    " \n",
    "string = \"  Hello, World!  \"\n",
    "\n",
    "\n",
    "print(string.strip())\n",
    "\n",
    "\n",
    "print(string.replace(\"World\", \"Python\"))\n",
    "\n",
    "\n",
    "print(string.upper())\n",
    "\n",
    "\n",
    "print(string.lower())\n",
    "\n",
    "\n",
    "print(string.split(\", \"))"
   ]
  },
  {
   "cell_type": "code",
   "execution_count": 13,
   "id": "b26adbf5-e95e-4aac-a27c-e7ac3d1572f5",
   "metadata": {},
   "outputs": [
    {
     "name": "stdout",
     "output_type": "stream",
     "text": [
      "3\n"
     ]
    }
   ],
   "source": [
    "# Exercise 2\n",
    "word = \"banana\"\n",
    "count_a = word.count(\"a\")\n",
    "print(count_a)"
   ]
  },
  {
   "cell_type": "code",
   "execution_count": 17,
   "id": "4e33055f-66c9-4770-a104-3b35ffd902e5",
   "metadata": {},
   "outputs": [
    {
     "name": "stdout",
     "output_type": "stream",
     "text": [
      "Is 'racecar' a palindrome? True\n",
      "Is 'banana' a palindrome? False\n"
     ]
    }
   ],
   "source": [
    "# Exercise 3:\n",
    "\n",
    "def is_palindrome(s):\n",
    "    return s == s[::-1]  \n",
    "\n",
    "print(\"Is 'racecar' a palindrome?\", is_palindrome(\"racecar\"))\n",
    "print(\"Is 'banana' a palindrome?\", is_palindrome(\"banana\"))"
   ]
  },
  {
   "cell_type": "code",
   "execution_count": 2,
   "id": "a7b932be-db94-4936-8270-a9d376f7f6f9",
   "metadata": {},
   "outputs": [
    {
     "name": "stdout",
     "output_type": "stream",
     "text": [
      "False\n",
      "True\n",
      "True\n",
      "True\n",
      "False\n",
      "True\n",
      "False\n",
      "True\n",
      "True\n",
      "False\n",
      "True\n",
      "False\n"
     ]
    }
   ],
   "source": [
    "# Exercise 4:\n",
    "def any_lowercase1(s):\n",
    "    for c in s:\n",
    "        if c.islower():\n",
    "            return True\n",
    "        else:\n",
    "            return False\n",
    "\n",
    "print(any_lowercase1(\"Hello\")) \n",
    "print(any_lowercase1(\"hello\"))  \n",
    "\n",
    "\n",
    "def any_lowercase2(s):\n",
    "    for c in s:\n",
    "        if 'c'.islower(): \n",
    "            return 'True'\n",
    "        else:\n",
    "            return 'False'\n",
    "\n",
    "print(any_lowercase2(\"HELLO\"))  \n",
    "print(any_lowercase2(\"hello\")) \n",
    "\n",
    "\n",
    "def any_lowercase3(s):\n",
    "    for c in s:\n",
    "        flag = c.islower()  \n",
    "    return flag  \n",
    "\n",
    "print(any_lowercase3(\"HELLO\")) \n",
    "print(any_lowercase3(\"hello\"))  \n",
    "\n",
    "\n",
    "def any_lowercase4(s):\n",
    "    flag = False\n",
    "    for c in s:\n",
    "        flag = flag or c.islower() \n",
    "    return flag\n",
    "\n",
    "print(any_lowercase4(\"HELLO\"))  \n",
    "print(any_lowercase4(\"hello\")) \n",
    "print(any_lowercase4(\"HELlo\"))  \n",
    "\n",
    "\n",
    "def any_lowercase5(s):\n",
    "    for c in s:\n",
    "        if not c.islower():\n",
    "            return False  \n",
    "    return True\n",
    "\n",
    "print(any_lowercase5(\"HELLO\"))  \n",
    "print(any_lowercase5(\"hello\"))  \n",
    "print(any_lowercase5(\"HELlo\"))  "
   ]
  },
  {
   "cell_type": "code",
   "execution_count": 4,
   "id": "c6592dcb-47dc-4271-bc8a-0d45da065e97",
   "metadata": {},
   "outputs": [
    {
     "name": "stdout",
     "output_type": "stream",
     "text": [
      "Rotated 'cheer' by 7: jolly\n",
      "Rotated 'melon' by -10: cubed\n",
      "Rotated 'IBM' by -1: HAL\n"
     ]
    }
   ],
   "source": [
    "# Exercise 5:\n",
    "def rotate_word(word, shift):\n",
    "    rotated = \"\"\n",
    "    for char in word:\n",
    "        if char.isalpha():  \n",
    "            base = ord('A') if char.isupper() else ord('a')\n",
    "            new_char = chr(base + ((ord(char) - base + shift) % 26))\n",
    "            rotated += new_char\n",
    "        else:\n",
    "            rotated += char  \n",
    "    return rotated\n",
    "\n",
    "print(\"Rotated 'cheer' by 7:\", rotate_word(\"cheer\", 7))  \n",
    "print(\"Rotated 'melon' by -10:\", rotate_word(\"melon\", -10))  \n",
    "print(\"Rotated 'IBM' by -1:\", rotate_word(\"IBM\", -1))  \n"
   ]
  },
  {
   "cell_type": "code",
   "execution_count": null,
   "id": "2410c4bc-0e43-4a24-9764-e413319d6e0f",
   "metadata": {},
   "outputs": [],
   "source": []
  }
 ],
 "metadata": {
  "kernelspec": {
   "display_name": "Python [conda env:base] *",
   "language": "python",
   "name": "conda-base-py"
  },
  "language_info": {
   "codemirror_mode": {
    "name": "ipython",
    "version": 3
   },
   "file_extension": ".py",
   "mimetype": "text/x-python",
   "name": "python",
   "nbconvert_exporter": "python",
   "pygments_lexer": "ipython3",
   "version": "3.12.7"
  }
 },
 "nbformat": 4,
 "nbformat_minor": 5
}
