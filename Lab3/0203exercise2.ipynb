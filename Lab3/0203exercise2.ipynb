{
 "cells": [
  {
   "cell_type": "code",
   "execution_count": 34,
   "id": "c5f788f7-3085-4309-975c-ef946ca381e7",
   "metadata": {},
   "outputs": [
    {
     "name": "stdout",
     "output_type": "stream",
     "text": [
      "   Hello, world!\n",
      "Hello, world!\n"
     ]
    }
   ],
   "source": [
    "a = \"   Hello, world!\"\n",
    "clean_a = a.strip()\n",
    "print(a)\n",
    "print(clean_a)"
   ]
  },
  {
   "cell_type": "code",
   "execution_count": 36,
   "id": "8fb3a26d-e304-4fb8-9fde-9e92c41bfc9f",
   "metadata": {},
   "outputs": [
    {
     "name": "stdout",
     "output_type": "stream",
     "text": [
      "Python. Python is great!\n",
      "JavaScript. JavaScript is great!\n"
     ]
    }
   ],
   "source": [
    "b = \"Python. Python is great!\"\n",
    "changed_b = b.replace(\"Python\", \"JavaScript\")\n",
    "print(b)\n",
    "print(changed_b)"
   ]
  },
  {
   "cell_type": "code",
   "execution_count": 50,
   "id": "2db50a00-168e-4894-bc93-851720aeff71",
   "metadata": {},
   "outputs": [
    {
     "name": "stdout",
     "output_type": "stream",
     "text": [
      "2\n"
     ]
    }
   ],
   "source": [
    "c = \"このご飯はおいしいですけど、あのご飯にはおいしくないとおもい。\"\n",
    "position = c.find(\"ご飯\")\n",
    "print(position)"
   ]
  },
  {
   "cell_type": "code",
   "execution_count": 52,
   "id": "608bd304-7ba9-4e56-8de8-1ba489450c67",
   "metadata": {},
   "outputs": [
    {
     "name": "stdout",
     "output_type": "stream",
     "text": [
      "16\n"
     ]
    }
   ],
   "source": [
    "position_after_10 = c.find(\"ご飯\", 4)\n",
    "print(position_after_10)"
   ]
  },
  {
   "cell_type": "code",
   "execution_count": 56,
   "id": "50945dff-55fc-43af-b1db-5222d4246a7f",
   "metadata": {},
   "outputs": [
    {
     "name": "stdout",
     "output_type": "stream",
     "text": [
      "-1\n",
      "16\n"
     ]
    }
   ],
   "source": [
    "position_limited = c.find(\"ご飯\", 5, 10)\n",
    "print(position_limited)\n",
    "position_limited2 = c.find(\"ご飯\", 5, 20)\n",
    "print(position_limited2)"
   ]
  },
  {
   "cell_type": "code",
   "execution_count": 62,
   "id": "a0e46f85-9594-480c-8750-0d1eedcfef8c",
   "metadata": {},
   "outputs": [
    {
     "name": "stdout",
     "output_type": "stream",
     "text": [
      "4\n",
      "19\n"
     ]
    }
   ],
   "source": [
    "first_occurrence = c.find(\"は\")\n",
    "second_occurrence = c.find(\"は\", first_occurrence + 1)\n",
    "print(first_occurrence)\n",
    "print(second_occurrence)"
   ]
  },
  {
   "cell_type": "code",
   "execution_count": 66,
   "id": "561cfd8d-905b-46b2-9ac8-9623de628ae5",
   "metadata": {},
   "outputs": [
    {
     "name": "stdout",
     "output_type": "stream",
     "text": [
      "3\n",
      "6\n"
     ]
    }
   ],
   "source": [
    "d = \"banana\"\n",
    "a_count = d.count(\"a\")\n",
    "print(a_count)\n",
    "\n",
    "e = \"apple, banana, avocado\"\n",
    "a_count_again = e.count(\"a\")\n",
    "print(a_count_again)"
   ]
  },
  {
   "cell_type": "code",
   "execution_count": 74,
   "id": "cbd484ed-b180-44a9-91cb-3490b3f4edf0",
   "metadata": {},
   "outputs": [
    {
     "name": "stdout",
     "output_type": "stream",
     "text": [
      "bnn\n",
      "ananab\n"
     ]
    }
   ],
   "source": [
    "fruit = \"banana\"\n",
    "print(fruit[0:5:2])\n",
    "print(fruit[::-1])"
   ]
  },
  {
   "cell_type": "code",
   "execution_count": 76,
   "id": "2da319cc-e782-4479-b0aa-2e3a078a91fa",
   "metadata": {},
   "outputs": [
    {
     "name": "stdout",
     "output_type": "stream",
     "text": [
      "radar\n"
     ]
    }
   ],
   "source": [
    "s = \"radar\"\n",
    "print(s[::-1]) "
   ]
  },
  {
   "cell_type": "code",
   "execution_count": 82,
   "id": "f2944c06-ce60-4350-975b-a373abce7dd4",
   "metadata": {},
   "outputs": [
    {
     "name": "stdout",
     "output_type": "stream",
     "text": [
      "False\n",
      "True\n"
     ]
    }
   ],
   "source": [
    "def any_lowercase4(s):\n",
    "    flag = False\n",
    "    for c in s:\n",
    "        flag = flag or c.islower()\n",
    "    return flag\n",
    "print(any_lowercase4(\"HELLO\"))\n",
    "print(any_lowercase4(\"HeLLO\"))"
   ]
  },
  {
   "cell_type": "code",
   "execution_count": 84,
   "id": "4746546b-cc95-4aec-9bdd-cdcfa91dffee",
   "metadata": {},
   "outputs": [
    {
     "name": "stdout",
     "output_type": "stream",
     "text": [
      "jolly\n",
      "cubed\n",
      "GZK\n"
     ]
    }
   ],
   "source": [
    "def rotate_word(s, n):\n",
    "    result = \"\"\n",
    "    for char in s:\n",
    "        if char.isalpha():\n",
    "            start = ord('A') if char.isupper() else ord('a')\n",
    "            rotated = chr(start + (ord(char) - start + n) % 26)\n",
    "            result += rotated\n",
    "        else:\n",
    "            result += char\n",
    "    return result\n",
    "\n",
    "\n",
    "print(rotate_word(\"cheer\", 7))\n",
    "print(rotate_word(\"melon\", -10))\n",
    "print(rotate_word(\"HAL\", -1))"
   ]
  },
  {
   "cell_type": "code",
   "execution_count": null,
   "id": "54212539-3156-4611-8cd5-b66015916eae",
   "metadata": {},
   "outputs": [],
   "source": []
  },
  {
   "cell_type": "code",
   "execution_count": null,
   "id": "20eb0b96-2194-4201-8be3-8e5ab88879be",
   "metadata": {},
   "outputs": [],
   "source": []
  },
  {
   "cell_type": "code",
   "execution_count": null,
   "id": "0ad9f9e8-ab5e-458a-b6be-2dbeeb8ac571",
   "metadata": {},
   "outputs": [],
   "source": []
  },
  {
   "cell_type": "code",
   "execution_count": null,
   "id": "a2bc3ad4-f513-4884-aeef-a29bd554677d",
   "metadata": {},
   "outputs": [],
   "source": []
  },
  {
   "cell_type": "code",
   "execution_count": null,
   "id": "b9a637ea-728b-469a-b96c-e1323aeb2429",
   "metadata": {},
   "outputs": [],
   "source": []
  },
  {
   "cell_type": "code",
   "execution_count": null,
   "id": "46c88e4f-0239-4b21-a14e-59e04446c647",
   "metadata": {},
   "outputs": [],
   "source": []
  },
  {
   "cell_type": "code",
   "execution_count": null,
   "id": "918d7cf3-93a2-42b4-ad5e-de35f044ccc6",
   "metadata": {},
   "outputs": [],
   "source": []
  },
  {
   "cell_type": "code",
   "execution_count": null,
   "id": "cdb65548-1951-4aa4-99d5-245c0a31a0a9",
   "metadata": {},
   "outputs": [],
   "source": []
  },
  {
   "cell_type": "code",
   "execution_count": null,
   "id": "dac7bb84-9dba-4099-a7f0-74dd92906628",
   "metadata": {},
   "outputs": [],
   "source": []
  },
  {
   "cell_type": "code",
   "execution_count": null,
   "id": "3ce17312-207a-4d0b-9527-7a621dbf9bc1",
   "metadata": {},
   "outputs": [],
   "source": []
  },
  {
   "cell_type": "code",
   "execution_count": null,
   "id": "138df825-e70a-42be-8cdb-0ecb7c5778cc",
   "metadata": {},
   "outputs": [],
   "source": []
  },
  {
   "cell_type": "code",
   "execution_count": null,
   "id": "e5b19de3-76f0-4641-b52b-821033c65158",
   "metadata": {},
   "outputs": [],
   "source": []
  },
  {
   "cell_type": "code",
   "execution_count": null,
   "id": "4c6f0bfa-2b63-4135-a131-7a140120d241",
   "metadata": {},
   "outputs": [],
   "source": []
  }
 ],
 "metadata": {
  "kernelspec": {
   "display_name": "Python [conda env:base] *",
   "language": "python",
   "name": "conda-base-py"
  },
  "language_info": {
   "codemirror_mode": {
    "name": "ipython",
    "version": 3
   },
   "file_extension": ".py",
   "mimetype": "text/x-python",
   "name": "python",
   "nbconvert_exporter": "python",
   "pygments_lexer": "ipython3",
   "version": "3.12.7"
  }
 },
 "nbformat": 4,
 "nbformat_minor": 5
}
